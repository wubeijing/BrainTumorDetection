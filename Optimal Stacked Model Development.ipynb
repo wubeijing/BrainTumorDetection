{
 "cells": [
  {
   "cell_type": "markdown",
   "id": "1946da9d",
   "metadata": {},
   "source": [
    "# Import Necessary Packages and Libraries"
   ]
  },
  {
   "cell_type": "code",
   "execution_count": 1,
   "id": "41e60076",
   "metadata": {},
   "outputs": [
    {
     "name": "stderr",
     "output_type": "stream",
     "text": [
      "C:\\Users\\AGatt\\anaconda3\\lib\\site-packages\\xgboost\\compat.py:36: FutureWarning: pandas.Int64Index is deprecated and will be removed from pandas in a future version. Use pandas.Index with the appropriate dtype instead.\n",
      "  from pandas import MultiIndex, Int64Index\n"
     ]
    }
   ],
   "source": [
    "# IMAGE PREPROCESSING FUNCTIONS FOR USE IN MODEL DEVELOPMENT, EVALUATION, AND PRODUCTION\n",
    "import numpy as np\n",
    "import pandas as pd\n",
    "import PIL as pil\n",
    "import PIL\n",
    "import matplotlib.pyplot as plt\n",
    "import seaborn as sns\n",
    "from os import listdir\n",
    "from os.path import isfile, join\n",
    "import tempfile\n",
    "import pickle\n",
    "import time\n",
    "import gc\n",
    "import skimage.filters\n",
    "import cv2\n",
    "import watermark\n",
    "import joblib\n",
    "import math\n",
    "import sys\n",
    "from skimage.measure import block_reduce\n",
    "from image_preprocessing import standardize_image_dataset,resize_dataset,binarize_dataset,crop_dataset,process_dataset_blur,do_pooling_dataset\n",
    "from pipeline import model_pipeline\n",
    "from automate_optimal_model_dev import automate_optimal_model_dev\n",
    "from eval_on_test import make_preds\n",
    "\n",
    "from sklearn.neighbors import KNeighborsClassifier\n",
    "from sklearn.tree import DecisionTreeClassifier\n",
    "from sklearn.ensemble import RandomForestClassifier,GradientBoostingClassifier\n",
    "from sklearn.linear_model import LogisticRegression\n",
    "from sklearn.naive_bayes import CategoricalNB,GaussianNB\n",
    "from sklearn.svm import SVC\n",
    "from xgboost import XGBClassifier\n",
    "from sklearn.model_selection import GridSearchCV,KFold\n",
    "from sklearn.metrics import accuracy_score,f1_score\n",
    "from sklearn.base import clone\n",
    "from sklearn.metrics import confusion_matrix"
   ]
  },
  {
   "cell_type": "markdown",
   "id": "40c65464",
   "metadata": {},
   "source": [
    "# Load in Optimal Models"
   ]
  },
  {
   "cell_type": "code",
   "execution_count": 2,
   "id": "48426867",
   "metadata": {},
   "outputs": [],
   "source": [
    "%%capture\n",
    "knn = pickle.load(open('KNN_auto_resize_results/knn_test_12.pickle','rb'))\n",
    "knn.pop('features')\n",
    "gbct = pickle.load(open('Partition Based Model Results/gbct1.pkl','rb'))\n",
    "gbct.pop('features')\n",
    "log_reg = pickle.load(open('Linear Model Results/logistic_regression.pkl','rb'))\n",
    "gaussian_nb = pickle.load(open('nb_model_results/top_gaussian_model.pickle','rb'))\n",
    "gaussian_nb.pop('features')"
   ]
  },
  {
   "cell_type": "markdown",
   "id": "694b4e87",
   "metadata": {},
   "source": [
    "# Load in Training Labels"
   ]
  },
  {
   "cell_type": "code",
   "execution_count": 3,
   "id": "0f38fba3",
   "metadata": {},
   "outputs": [],
   "source": [
    "labels = pickle.load(open('Amit/Labeled Data/train_data.pkl','rb'))\n",
    "labels = labels['label']"
   ]
  },
  {
   "cell_type": "markdown",
   "id": "ac275e1f",
   "metadata": {},
   "source": [
    "# Create Training Features Using Out of Sample Predictions of Optimal Models During 5 Fold Cross Validation Process\n",
    "- These OOS predictions give an accurate idea of how out models make predictions and generalize to OOS Data. Training a model on these features and the original labels will allow a final layer model to learn how to balance predictions from previous models in order to deliver potentially more accurate predictions"
   ]
  },
  {
   "cell_type": "code",
   "execution_count": 4,
   "id": "df06d927",
   "metadata": {},
   "outputs": [],
   "source": [
    "features_1 = pd.DataFrame()\n",
    "features_1['knn'] = knn['oos_probs']\n",
    "features_1['gbct'] = gbct['oos_probs']\n",
    "features_1['logreg'] = log_reg['oos_probs']\n",
    "features_1['gauss_nb'] = gaussian_nb['oos_probs']\n",
    "\n",
    "features_2 = pd.DataFrame()\n",
    "features_2['knn'] = knn['oos_preds']\n",
    "features_2['gbct'] = gbct['oos_preds']\n",
    "features_2['logreg'] = log_reg['threshold_analysis']['best_preds']\n",
    "features_2['gauss_nb'] = gaussian_nb['oos_preds']"
   ]
  },
  {
   "cell_type": "markdown",
   "id": "fac9043e",
   "metadata": {},
   "source": [
    "# ID Optimal Model, Training on OOS Predicted Class 1 Probability and Original Class Labels for Test 1 and Predicted Class and Original Class Labels for Test 2"
   ]
  },
  {
   "cell_type": "markdown",
   "id": "019151f8",
   "metadata": {},
   "source": [
    "#### LogReg Test 1"
   ]
  },
  {
   "cell_type": "code",
   "execution_count": 5,
   "id": "808c7f55",
   "metadata": {
    "scrolled": true
   },
   "outputs": [
    {
     "data": {
      "text/plain": [
       "{'best_estimator': LogisticRegression(C=1, random_state=50),\n",
       " 'best_params': {'C': 1},\n",
       " 'best_score': 0.9792872904951487,\n",
       " 'oos_preds': 54      1\n",
       " 2602    0\n",
       " 3433    0\n",
       " 235     1\n",
       " 1806    1\n",
       "        ..\n",
       " 3330    0\n",
       " 70      1\n",
       " 132     1\n",
       " 2014    1\n",
       " 1931    1\n",
       " Name: label, Length: 3220, dtype: uint8,\n",
       " 'oos_probs': 54      0.993523\n",
       " 2602    0.022693\n",
       " 3433    0.002749\n",
       " 235     0.993543\n",
       " 1806    0.989284\n",
       "           ...   \n",
       " 3330    0.003250\n",
       " 70      0.976987\n",
       " 132     0.971825\n",
       " 2014    0.993234\n",
       " 1931    0.993041\n",
       " Name: label, Length: 3220, dtype: float64,\n",
       " 'threshold_analysis': {'best_thresh': 0.47000000000000003,\n",
       "  'best_score': 0.9801509644953873,\n",
       "  'best_preds': array([1, 0, 0, ..., 1, 1, 1])}}"
      ]
     },
     "execution_count": 5,
     "metadata": {},
     "output_type": "execute_result"
    }
   ],
   "source": [
    "logreg_test1 = model_pipeline().evaluate(features_1,labels,[],LogisticRegression(random_state=50),{'C':[0.000001,0.00001,0.0001,0.001,0.01,1,10]},\n",
    "                                         'f1',5,return_transformed_features=False,return_grid=False)\n",
    "logreg_test1"
   ]
  },
  {
   "cell_type": "code",
   "execution_count": 6,
   "id": "0a80e6de",
   "metadata": {},
   "outputs": [],
   "source": [
    "pickle.dump(logreg_test1,open('Stacked Model Results/logreg.pkl','wb'))"
   ]
  },
  {
   "cell_type": "markdown",
   "id": "54765448",
   "metadata": {},
   "source": [
    "#### LogReg Test 2"
   ]
  },
  {
   "cell_type": "code",
   "execution_count": 7,
   "id": "3180b9e7",
   "metadata": {},
   "outputs": [
    {
     "data": {
      "text/plain": [
       "{'best_estimator': LogisticRegression(C=1, random_state=50),\n",
       " 'best_params': {'C': 1},\n",
       " 'best_score': 0.9801529646943108,\n",
       " 'oos_preds': 54      1\n",
       " 2602    0\n",
       " 3433    0\n",
       " 235     1\n",
       " 1806    1\n",
       "        ..\n",
       " 3330    0\n",
       " 70      1\n",
       " 132     1\n",
       " 2014    1\n",
       " 1931    1\n",
       " Name: label, Length: 3220, dtype: uint8,\n",
       " 'oos_probs': 54      0.989000\n",
       " 2602    0.086270\n",
       " 3433    0.002189\n",
       " 235     0.989000\n",
       " 1806    0.989000\n",
       "           ...   \n",
       " 3330    0.002865\n",
       " 70      0.988367\n",
       " 132     0.988367\n",
       " 2014    0.988367\n",
       " 1931    0.988367\n",
       " Name: label, Length: 3220, dtype: float64,\n",
       " 'threshold_analysis': {'best_thresh': 0.5,\n",
       "  'best_score': 0.9801509644953873,\n",
       "  'best_preds': 54      1\n",
       "  2602    0\n",
       "  3433    0\n",
       "  235     1\n",
       "  1806    1\n",
       "         ..\n",
       "  3330    0\n",
       "  70      1\n",
       "  132     1\n",
       "  2014    1\n",
       "  1931    1\n",
       "  Name: label, Length: 3220, dtype: uint8}}"
      ]
     },
     "execution_count": 7,
     "metadata": {},
     "output_type": "execute_result"
    }
   ],
   "source": [
    "logreg_test2 = model_pipeline().evaluate(features_2,labels,[],LogisticRegression(random_state=50),{'C':[0.000001,0.00001,0.0001,0.001,0.01,1,10]},\n",
    "                                         'f1',5,return_transformed_features=False,return_grid=False)\n",
    "logreg_test2"
   ]
  },
  {
   "cell_type": "markdown",
   "id": "96711d7a",
   "metadata": {},
   "source": [
    "#### Decision Tree Test 1"
   ]
  },
  {
   "cell_type": "code",
   "execution_count": 8,
   "id": "88b683f2",
   "metadata": {
    "scrolled": true
   },
   "outputs": [
    {
     "data": {
      "text/plain": [
       "{'best_estimator': DecisionTreeClassifier(min_samples_leaf=8),\n",
       " 'best_params': {'criterion': 'gini', 'min_samples_leaf': 8},\n",
       " 'best_score': 0.9772514393035105,\n",
       " 'oos_preds': 54      1\n",
       " 2602    0\n",
       " 3433    0\n",
       " 235     1\n",
       " 1806    1\n",
       "        ..\n",
       " 3330    0\n",
       " 70      1\n",
       " 132     1\n",
       " 2014    1\n",
       " 1931    1\n",
       " Name: label, Length: 3220, dtype: uint8,\n",
       " 'oos_probs': 54      1.0\n",
       " 2602    0.0\n",
       " 3433    0.0\n",
       " 235     1.0\n",
       " 1806    1.0\n",
       "        ... \n",
       " 3330    0.0\n",
       " 70      1.0\n",
       " 132     1.0\n",
       " 2014    1.0\n",
       " 1931    1.0\n",
       " Name: label, Length: 3220, dtype: float64,\n",
       " 'threshold_analysis': {'best_thresh': 0.5,\n",
       "  'best_score': 0.9753501400560225,\n",
       "  'best_preds': 54      1\n",
       "  2602    0\n",
       "  3433    0\n",
       "  235     1\n",
       "  1806    1\n",
       "         ..\n",
       "  3330    0\n",
       "  70      1\n",
       "  132     1\n",
       "  2014    1\n",
       "  1931    1\n",
       "  Name: label, Length: 3220, dtype: uint8}}"
      ]
     },
     "execution_count": 8,
     "metadata": {},
     "output_type": "execute_result"
    }
   ],
   "source": [
    "tree_test1 = model_pipeline().evaluate(features_1,labels,[],DecisionTreeClassifier(),\n",
    "                                       {'criterion':['gini','entropy'],'min_samples_leaf':[2,3,4,5,6,7,8]},\n",
    "                                         'f1',5,return_transformed_features=False,return_grid=False)\n",
    "tree_test1"
   ]
  },
  {
   "cell_type": "markdown",
   "id": "c303187f",
   "metadata": {},
   "source": [
    "#### Decision Tree Test 2"
   ]
  },
  {
   "cell_type": "code",
   "execution_count": 9,
   "id": "9ed42db0",
   "metadata": {},
   "outputs": [
    {
     "data": {
      "text/plain": [
       "{'best_estimator': DecisionTreeClassifier(min_samples_leaf=5),\n",
       " 'best_params': {'criterion': 'gini', 'min_samples_leaf': 5},\n",
       " 'best_score': 0.9801638577709826,\n",
       " 'oos_preds': 54      1\n",
       " 2602    0\n",
       " 3433    0\n",
       " 235     1\n",
       " 1806    1\n",
       "        ..\n",
       " 3330    0\n",
       " 70      1\n",
       " 132     1\n",
       " 2014    1\n",
       " 1931    1\n",
       " Name: label, Length: 3220, dtype: uint8,\n",
       " 'oos_probs': 54      0.993157\n",
       " 2602    0.113636\n",
       " 3433    0.000000\n",
       " 235     0.993157\n",
       " 1806    0.993157\n",
       "           ...   \n",
       " 3330    0.000000\n",
       " 70      0.990558\n",
       " 132     0.990558\n",
       " 2014    0.990558\n",
       " 1931    0.990558\n",
       " Name: label, Length: 3220, dtype: float64,\n",
       " 'threshold_analysis': {'best_thresh': 0.5,\n",
       "  'best_score': 0.9790794979079498,\n",
       "  'best_preds': 54      1\n",
       "  2602    0\n",
       "  3433    0\n",
       "  235     1\n",
       "  1806    1\n",
       "         ..\n",
       "  3330    0\n",
       "  70      1\n",
       "  132     1\n",
       "  2014    1\n",
       "  1931    1\n",
       "  Name: label, Length: 3220, dtype: uint8}}"
      ]
     },
     "execution_count": 9,
     "metadata": {},
     "output_type": "execute_result"
    }
   ],
   "source": [
    "tree_test2 = model_pipeline().evaluate(features_2,labels,[],DecisionTreeClassifier(),\n",
    "                                       {'criterion':['gini','entropy'],'min_samples_leaf':[2,3,4,5,6,7,8]},\n",
    "                                         'f1',5,return_transformed_features=False,return_grid=False)\n",
    "tree_test2"
   ]
  },
  {
   "cell_type": "markdown",
   "id": "de14cc29",
   "metadata": {},
   "source": [
    "#### Random Forest Test 1"
   ]
  },
  {
   "cell_type": "code",
   "execution_count": 10,
   "id": "c1662397",
   "metadata": {
    "scrolled": true
   },
   "outputs": [
    {
     "data": {
      "text/plain": [
       "{'best_estimator': RandomForestClassifier(min_samples_leaf=4, n_estimators=500, random_state=50),\n",
       " 'best_params': {'min_samples_leaf': 4, 'n_estimators': 500},\n",
       " 'best_score': 0.9781527923991415,\n",
       " 'oos_preds': 54      1\n",
       " 2602    0\n",
       " 3433    0\n",
       " 235     1\n",
       " 1806    1\n",
       "        ..\n",
       " 3330    0\n",
       " 70      1\n",
       " 132     1\n",
       " 2014    1\n",
       " 1931    1\n",
       " Name: label, Length: 3220, dtype: uint8,\n",
       " 'oos_probs': 54      0.953846\n",
       " 2602    0.078430\n",
       " 3433    0.000000\n",
       " 235     0.994800\n",
       " 1806    1.000000\n",
       "           ...   \n",
       " 3330    0.000000\n",
       " 70      0.988112\n",
       " 132     0.967592\n",
       " 2014    1.000000\n",
       " 1931    0.999600\n",
       " Name: label, Length: 3220, dtype: float64,\n",
       " 'threshold_analysis': {'best_thresh': 0.52,\n",
       "  'best_score': 0.9784011220196352,\n",
       "  'best_preds': array([1, 0, 0, ..., 1, 1, 1])}}"
      ]
     },
     "execution_count": 10,
     "metadata": {},
     "output_type": "execute_result"
    }
   ],
   "source": [
    "rf_test1 = model_pipeline().evaluate(features_1,labels,[],RandomForestClassifier(random_state=50),\n",
    "                                       {'min_samples_leaf':[3,4,5,6,7,8],'n_estimators':[500]},\n",
    "                                         'f1',5,return_transformed_features=False,return_grid=False)\n",
    "rf_test1"
   ]
  },
  {
   "cell_type": "markdown",
   "id": "0cd04274",
   "metadata": {},
   "source": [
    "#### Random Forest Test 2"
   ]
  },
  {
   "cell_type": "code",
   "execution_count": 11,
   "id": "10ae304c",
   "metadata": {},
   "outputs": [
    {
     "data": {
      "text/plain": [
       "{'best_estimator': RandomForestClassifier(min_samples_leaf=3, n_estimators=500, random_state=50),\n",
       " 'best_params': {'min_samples_leaf': 3, 'n_estimators': 500},\n",
       " 'best_score': 0.9801529646943108,\n",
       " 'oos_preds': 54      1\n",
       " 2602    0\n",
       " 3433    0\n",
       " 235     1\n",
       " 1806    1\n",
       "        ..\n",
       " 3330    0\n",
       " 70      1\n",
       " 132     1\n",
       " 2014    1\n",
       " 1931    1\n",
       " Name: label, Length: 3220, dtype: uint8,\n",
       " 'oos_probs': 54      0.993286\n",
       " 2602    0.115221\n",
       " 3433    0.000113\n",
       " 235     0.993286\n",
       " 1806    0.993286\n",
       "           ...   \n",
       " 3330    0.000047\n",
       " 70      0.990655\n",
       " 132     0.990655\n",
       " 2014    0.990655\n",
       " 1931    0.990655\n",
       " Name: label, Length: 3220, dtype: float64,\n",
       " 'threshold_analysis': {'best_thresh': 0.5,\n",
       "  'best_score': 0.9801509644953873,\n",
       "  'best_preds': 54      1\n",
       "  2602    0\n",
       "  3433    0\n",
       "  235     1\n",
       "  1806    1\n",
       "         ..\n",
       "  3330    0\n",
       "  70      1\n",
       "  132     1\n",
       "  2014    1\n",
       "  1931    1\n",
       "  Name: label, Length: 3220, dtype: uint8}}"
      ]
     },
     "execution_count": 11,
     "metadata": {},
     "output_type": "execute_result"
    }
   ],
   "source": [
    "rf_test2 = model_pipeline().evaluate(features_2,labels,[],RandomForestClassifier(random_state=50),\n",
    "                                       {'min_samples_leaf':[3,4,5,6,7,8],'n_estimators':[500]},\n",
    "                                         'f1',5,return_transformed_features=False,return_grid=False)\n",
    "rf_test2"
   ]
  },
  {
   "cell_type": "markdown",
   "id": "c73328d4",
   "metadata": {},
   "source": [
    "#### Gradient Boosted Classification Tree Test 1"
   ]
  },
  {
   "cell_type": "code",
   "execution_count": 12,
   "id": "321c080f",
   "metadata": {},
   "outputs": [
    {
     "data": {
      "text/plain": [
       "{'best_estimator': GradientBoostingClassifier(max_depth=6, max_features='sqrt', n_estimators=500),\n",
       " 'best_params': {'max_depth': 6, 'n_estimators': 500},\n",
       " 'best_score': 0.977014846938841,\n",
       " 'oos_preds': 54      1\n",
       " 2602    0\n",
       " 3433    0\n",
       " 235     1\n",
       " 1806    1\n",
       "        ..\n",
       " 3330    0\n",
       " 70      1\n",
       " 132     1\n",
       " 2014    1\n",
       " 1931    1\n",
       " Name: label, Length: 3220, dtype: uint8,\n",
       " 'oos_probs': 54      9.999922e-01\n",
       " 2602    2.633503e-06\n",
       " 3433    5.586505e-09\n",
       " 235     1.000000e+00\n",
       " 1806    1.000000e+00\n",
       "             ...     \n",
       " 3330    8.958564e-09\n",
       " 70      9.999999e-01\n",
       " 132     1.000000e+00\n",
       " 2014    1.000000e+00\n",
       " 1931    9.999999e-01\n",
       " Name: label, Length: 3220, dtype: float64,\n",
       " 'threshold_analysis': {'best_thresh': 0.65,\n",
       "  'best_score': 0.9770050476724621,\n",
       "  'best_preds': array([1, 0, 0, ..., 1, 1, 1])}}"
      ]
     },
     "execution_count": 12,
     "metadata": {},
     "output_type": "execute_result"
    }
   ],
   "source": [
    "gbct_test1 = model_pipeline().evaluate(features_1,labels,[],GradientBoostingClassifier(max_features='sqrt'),\n",
    "                                       {'max_depth':[2,3,4,5,6,7,8],'n_estimators':[500]},\n",
    "                                         'f1',5,return_transformed_features=False,return_grid=False)\n",
    "gbct_test1"
   ]
  },
  {
   "cell_type": "markdown",
   "id": "d3e8ae3a",
   "metadata": {},
   "source": [
    "#### Gradient Boosted Classification Tree Test 2"
   ]
  },
  {
   "cell_type": "code",
   "execution_count": 13,
   "id": "b9c76a6f",
   "metadata": {},
   "outputs": [
    {
     "data": {
      "text/plain": [
       "{'best_estimator': GradientBoostingClassifier(max_features='sqrt', n_estimators=500),\n",
       " 'best_params': {'max_depth': 3, 'n_estimators': 500},\n",
       " 'best_score': 0.9801529646943108,\n",
       " 'oos_preds': 54      1\n",
       " 2602    0\n",
       " 3433    0\n",
       " 235     1\n",
       " 1806    1\n",
       "        ..\n",
       " 3330    0\n",
       " 70      1\n",
       " 132     1\n",
       " 2014    1\n",
       " 1931    1\n",
       " Name: label, Length: 3220, dtype: uint8,\n",
       " 'oos_probs': 54      9.931613e-01\n",
       " 2602    1.137338e-01\n",
       " 3433    2.905696e-08\n",
       " 235     9.931613e-01\n",
       " 1806    9.931613e-01\n",
       "             ...     \n",
       " 3330    5.116693e-08\n",
       " 70      9.905608e-01\n",
       " 132     9.905608e-01\n",
       " 2014    9.905608e-01\n",
       " 1931    9.905608e-01\n",
       " Name: label, Length: 3220, dtype: float64,\n",
       " 'threshold_analysis': {'best_thresh': 0.5,\n",
       "  'best_score': 0.9801509644953873,\n",
       "  'best_preds': 54      1\n",
       "  2602    0\n",
       "  3433    0\n",
       "  235     1\n",
       "  1806    1\n",
       "         ..\n",
       "  3330    0\n",
       "  70      1\n",
       "  132     1\n",
       "  2014    1\n",
       "  1931    1\n",
       "  Name: label, Length: 3220, dtype: uint8}}"
      ]
     },
     "execution_count": 13,
     "metadata": {},
     "output_type": "execute_result"
    }
   ],
   "source": [
    "gbct_test2 = model_pipeline().evaluate(features_2,labels,[],GradientBoostingClassifier(max_features='sqrt'),\n",
    "                                       {'max_depth':[2,3,4,5,6,7,8],'n_estimators':[500]},\n",
    "                                         'f1',5,return_transformed_features=False,return_grid=False)\n",
    "gbct_test2"
   ]
  },
  {
   "cell_type": "markdown",
   "id": "d821b7d0",
   "metadata": {},
   "source": [
    "#### KNN Test 1"
   ]
  },
  {
   "cell_type": "code",
   "execution_count": 14,
   "id": "702da3e8",
   "metadata": {},
   "outputs": [
    {
     "data": {
      "text/plain": [
       "{'best_estimator': KNeighborsClassifier(n_neighbors=19, p=1),\n",
       " 'best_params': {'n_neighbors': 19, 'p': 1},\n",
       " 'best_score': 0.9784950149674693,\n",
       " 'oos_preds': 54      1\n",
       " 2602    0\n",
       " 3433    0\n",
       " 235     1\n",
       " 1806    1\n",
       "        ..\n",
       " 3330    0\n",
       " 70      1\n",
       " 132     1\n",
       " 2014    1\n",
       " 1931    1\n",
       " Name: label, Length: 3220, dtype: uint8,\n",
       " 'oos_probs': 54      1.000000\n",
       " 2602    0.052632\n",
       " 3433    0.000000\n",
       " 235     1.000000\n",
       " 1806    1.000000\n",
       "           ...   \n",
       " 3330    0.000000\n",
       " 70      1.000000\n",
       " 132     1.000000\n",
       " 2014    1.000000\n",
       " 1931    1.000000\n",
       " Name: label, Length: 3220, dtype: float64,\n",
       " 'threshold_analysis': {'best_thresh': 0.43,\n",
       "  'best_score': 0.9787828029034059,\n",
       "  'best_preds': array([1, 0, 0, ..., 1, 1, 1])}}"
      ]
     },
     "execution_count": 14,
     "metadata": {},
     "output_type": "execute_result"
    }
   ],
   "source": [
    "knn_test1 = model_pipeline().evaluate(features_1,labels,[],KNeighborsClassifier(),\n",
    "                                       {'p':[1,2,3],'n_neighbors':[1,3,5,7,9,11,13,15,17,19]},\n",
    "                                         'f1',5,return_transformed_features=False,return_grid=False)\n",
    "knn_test1"
   ]
  },
  {
   "cell_type": "markdown",
   "id": "5e3421f8",
   "metadata": {},
   "source": [
    "#### KNN Test 2"
   ]
  },
  {
   "cell_type": "code",
   "execution_count": 15,
   "id": "b93fabb2",
   "metadata": {},
   "outputs": [
    {
     "data": {
      "text/plain": [
       "{'best_estimator': KNeighborsClassifier(n_neighbors=11, p=1),\n",
       " 'best_params': {'n_neighbors': 11, 'p': 1},\n",
       " 'best_score': 0.9796286046784791,\n",
       " 'oos_preds': 54      1\n",
       " 2602    0\n",
       " 3433    0\n",
       " 235     1\n",
       " 1806    1\n",
       "        ..\n",
       " 3330    0\n",
       " 70      1\n",
       " 132     1\n",
       " 2014    1\n",
       " 1931    1\n",
       " Name: label, Length: 3220, dtype: uint8,\n",
       " 'oos_probs': 54      1.000000\n",
       " 2602    0.181818\n",
       " 3433    0.000000\n",
       " 235     1.000000\n",
       " 1806    1.000000\n",
       "           ...   \n",
       " 3330    0.000000\n",
       " 70      1.000000\n",
       " 132     1.000000\n",
       " 2014    1.000000\n",
       " 1931    1.000000\n",
       " Name: label, Length: 3220, dtype: float64,\n",
       " 'threshold_analysis': {'best_thresh': 0.5,\n",
       "  'best_score': 0.9796260117220206,\n",
       "  'best_preds': 54      1\n",
       "  2602    0\n",
       "  3433    0\n",
       "  235     1\n",
       "  1806    1\n",
       "         ..\n",
       "  3330    0\n",
       "  70      1\n",
       "  132     1\n",
       "  2014    1\n",
       "  1931    1\n",
       "  Name: label, Length: 3220, dtype: uint8}}"
      ]
     },
     "execution_count": 15,
     "metadata": {},
     "output_type": "execute_result"
    }
   ],
   "source": [
    "knn_test2 = model_pipeline().evaluate(features_2,labels,[],KNeighborsClassifier(),\n",
    "                                       {'p':[1,2,3],'n_neighbors':[1,3,5,7,9,11,13,15,17,19]},\n",
    "                                         'f1',5,return_transformed_features=False,return_grid=False)\n",
    "knn_test2"
   ]
  },
  {
   "cell_type": "markdown",
   "id": "5e6e3b11",
   "metadata": {},
   "source": [
    "#### Categorical NB Test 1"
   ]
  },
  {
   "cell_type": "code",
   "execution_count": 16,
   "id": "b0171bc7",
   "metadata": {},
   "outputs": [
    {
     "data": {
      "text/plain": [
       "{'best_estimator': CategoricalNB(alpha=0.001),\n",
       " 'best_params': {'alpha': 0.001},\n",
       " 'best_score': 0.9742452944581022,\n",
       " 'oos_preds': 54      1\n",
       " 2602    0\n",
       " 3433    0\n",
       " 235     1\n",
       " 1806    1\n",
       "        ..\n",
       " 3330    0\n",
       " 70      1\n",
       " 132     1\n",
       " 2014    1\n",
       " 1931    1\n",
       " Name: label, Length: 3220, dtype: uint8,\n",
       " 'oos_probs': 54      0.967329\n",
       " 2602    0.026944\n",
       " 3433    0.026944\n",
       " 235     0.967329\n",
       " 1806    0.967329\n",
       "           ...   \n",
       " 3330    0.028339\n",
       " 70      0.968552\n",
       " 132     0.968552\n",
       " 2014    0.968552\n",
       " 1931    0.968552\n",
       " Name: label, Length: 3220, dtype: float64,\n",
       " 'threshold_analysis': {'best_thresh': 0.5,\n",
       "  'best_score': 0.9742441209406496,\n",
       "  'best_preds': 54      1\n",
       "  2602    0\n",
       "  3433    0\n",
       "  235     1\n",
       "  1806    1\n",
       "         ..\n",
       "  3330    0\n",
       "  70      1\n",
       "  132     1\n",
       "  2014    1\n",
       "  1931    1\n",
       "  Name: label, Length: 3220, dtype: uint8}}"
      ]
     },
     "execution_count": 16,
     "metadata": {},
     "output_type": "execute_result"
    }
   ],
   "source": [
    "cnb_test1 = model_pipeline().evaluate(features_1,labels,[],CategoricalNB(),\n",
    "                                       {'alpha':[0.001,0.01,0.1,1,5,10,15]},\n",
    "                                         'f1',5,return_transformed_features=False,return_grid=False)\n",
    "cnb_test1"
   ]
  },
  {
   "cell_type": "markdown",
   "id": "aeef8cb5",
   "metadata": {},
   "source": [
    "#### Categorical NB Test 2"
   ]
  },
  {
   "cell_type": "code",
   "execution_count": 17,
   "id": "0f076c36",
   "metadata": {},
   "outputs": [
    {
     "data": {
      "text/plain": [
       "{'best_estimator': CategoricalNB(alpha=0.001),\n",
       " 'best_params': {'alpha': 0.001},\n",
       " 'best_score': 0.976926778562832,\n",
       " 'oos_preds': 54      1\n",
       " 2602    0\n",
       " 3433    0\n",
       " 235     1\n",
       " 1806    1\n",
       "        ..\n",
       " 3330    0\n",
       " 70      1\n",
       " 132     1\n",
       " 2014    1\n",
       " 1931    1\n",
       " Name: label, Length: 3220, dtype: uint8,\n",
       " 'oos_probs': 54      0.999904\n",
       " 2602    0.011354\n",
       " 3433    0.000007\n",
       " 235     0.999904\n",
       " 1806    0.999904\n",
       "           ...   \n",
       " 3330    0.000009\n",
       " 70      0.999904\n",
       " 132     0.999904\n",
       " 2014    0.999904\n",
       " 1931    0.999904\n",
       " Name: label, Length: 3220, dtype: float64,\n",
       " 'threshold_analysis': {'best_thresh': 0.76,\n",
       "  'best_score': 0.9801509644953873,\n",
       "  'best_preds': array([1, 0, 0, ..., 1, 1, 1])}}"
      ]
     },
     "execution_count": 17,
     "metadata": {},
     "output_type": "execute_result"
    }
   ],
   "source": [
    "cnb_test2 = model_pipeline().evaluate(features_2,labels,[],CategoricalNB(),\n",
    "                                       {'alpha':[0.001,0.01,0.1,1,5,10,15]},\n",
    "                                         'f1',5,return_transformed_features=False,return_grid=False)\n",
    "cnb_test2"
   ]
  },
  {
   "cell_type": "markdown",
   "id": "1a6fbfa8",
   "metadata": {},
   "source": [
    "#### Gaussian NB Test 1"
   ]
  },
  {
   "cell_type": "code",
   "execution_count": 18,
   "id": "745f4a0c",
   "metadata": {},
   "outputs": [
    {
     "data": {
      "text/plain": [
       "{'best_estimator': GaussianNB(var_smoothing=0.1),\n",
       " 'best_params': {'var_smoothing': 0.1},\n",
       " 'best_score': 0.9790378625041903,\n",
       " 'oos_preds': 54      1\n",
       " 2602    0\n",
       " 3433    0\n",
       " 235     1\n",
       " 1806    1\n",
       "        ..\n",
       " 3330    0\n",
       " 70      1\n",
       " 132     1\n",
       " 2014    1\n",
       " 1931    1\n",
       " Name: label, Length: 3220, dtype: uint8,\n",
       " 'oos_probs': 54      1.000000e+00\n",
       " 2602    3.569945e-10\n",
       " 3433    1.688292e-12\n",
       " 235     1.000000e+00\n",
       " 1806    1.000000e+00\n",
       "             ...     \n",
       " 3330    5.055411e-12\n",
       " 70      9.999999e-01\n",
       " 132     9.999997e-01\n",
       " 2014    1.000000e+00\n",
       " 1931    1.000000e+00\n",
       " Name: label, Length: 3220, dtype: float64,\n",
       " 'threshold_analysis': {'best_thresh': 0.26,\n",
       "  'best_score': 0.9796032411288069,\n",
       "  'best_preds': array([1, 0, 0, ..., 1, 1, 1])}}"
      ]
     },
     "execution_count": 18,
     "metadata": {},
     "output_type": "execute_result"
    }
   ],
   "source": [
    "gnb_test1 = model_pipeline().evaluate(features_1,labels,[],GaussianNB(),\n",
    "                                       {'var_smoothing':[0.00000000001,0.0000000001,0.000000001,0.00000001,0.0000001,0.000001,\n",
    "                                                         0.00001,0.0001,0.001,0.01,0.1,1,5,10,15]},\n",
    "                                         'f1',5,return_transformed_features=False,return_grid=False)\n",
    "gnb_test1"
   ]
  },
  {
   "cell_type": "code",
   "execution_count": 19,
   "id": "013021a8",
   "metadata": {},
   "outputs": [],
   "source": [
    "pickle.dump(gnb_test1,open('Stacked Model Results/gnb.pkl','wb'))"
   ]
  },
  {
   "cell_type": "markdown",
   "id": "4cfc9711",
   "metadata": {},
   "source": [
    "#### Gaussian NB Test 2"
   ]
  },
  {
   "cell_type": "code",
   "execution_count": 20,
   "id": "bad5a7fa",
   "metadata": {},
   "outputs": [
    {
     "data": {
      "text/plain": [
       "{'best_estimator': GaussianNB(var_smoothing=0.1),\n",
       " 'best_params': {'var_smoothing': 0.1},\n",
       " 'best_score': 0.9785421765424596,\n",
       " 'oos_preds': 54      1\n",
       " 2602    0\n",
       " 3433    0\n",
       " 235     1\n",
       " 1806    1\n",
       "        ..\n",
       " 3330    0\n",
       " 70      1\n",
       " 132     1\n",
       " 2014    1\n",
       " 1931    1\n",
       " Name: label, Length: 3220, dtype: uint8,\n",
       " 'oos_probs': 54      1.000000e+00\n",
       " 2602    3.717808e-07\n",
       " 3433    1.255049e-13\n",
       " 235     1.000000e+00\n",
       " 1806    1.000000e+00\n",
       "             ...     \n",
       " 3330    4.394592e-13\n",
       " 70      1.000000e+00\n",
       " 132     1.000000e+00\n",
       " 2014    1.000000e+00\n",
       " 1931    1.000000e+00\n",
       " Name: label, Length: 3220, dtype: float64,\n",
       " 'threshold_analysis': {'best_thresh': 0.68,\n",
       "  'best_score': 0.9798882681564246,\n",
       "  'best_preds': array([1, 0, 0, ..., 1, 1, 1])}}"
      ]
     },
     "execution_count": 20,
     "metadata": {},
     "output_type": "execute_result"
    }
   ],
   "source": [
    "gnb_test2 = model_pipeline().evaluate(features_2,labels,[],GaussianNB(),\n",
    "                                       {'var_smoothing':[0.00000000001,0.0000000001,0.000000001,0.00000001,0.0000001,0.000001,\n",
    "                                                         0.00001,0.0001,0.001,0.01,0.1,1,5,10,15]},\n",
    "                                         'f1',5,return_transformed_features=False,return_grid=False)\n",
    "gnb_test2"
   ]
  },
  {
   "cell_type": "code",
   "execution_count": null,
   "id": "36f4cdce",
   "metadata": {},
   "outputs": [],
   "source": []
  }
 ],
 "metadata": {
  "kernelspec": {
   "display_name": "Python 3",
   "language": "python",
   "name": "python3"
  },
  "language_info": {
   "codemirror_mode": {
    "name": "ipython",
    "version": 3
   },
   "file_extension": ".py",
   "mimetype": "text/x-python",
   "name": "python",
   "nbconvert_exporter": "python",
   "pygments_lexer": "ipython3",
   "version": "3.8.8"
  }
 },
 "nbformat": 4,
 "nbformat_minor": 5
}
