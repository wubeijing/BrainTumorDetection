{
 "cells": [
  {
   "cell_type": "markdown",
   "id": "24a51983",
   "metadata": {},
   "source": [
    "# Import Necessary Packages and Libraries"
   ]
  },
  {
   "cell_type": "code",
   "execution_count": 2,
   "id": "5f7cfa10",
   "metadata": {},
   "outputs": [],
   "source": [
    "# IMAGE PREPROCESSING FUNCTIONS FOR USE IN MODEL DEVELOPMENT, EVALUATION, AND PRODUCTION\n",
    "import numpy as np\n",
    "import pandas as pd\n",
    "import PIL as pil\n",
    "import PIL\n",
    "import matplotlib.pyplot as plt\n",
    "import seaborn as sns\n",
    "from os import listdir\n",
    "from os.path import isfile, join\n",
    "import tempfile\n",
    "import pickle\n",
    "import time\n",
    "import gc\n",
    "import skimage.filters\n",
    "import cv2\n",
    "import watermark\n",
    "import joblib\n",
    "import math\n",
    "from skimage.measure import block_reduce\n",
    "from image_preprocessing import standardize_image_dataset,resize_dataset,binarize_dataset,crop_dataset,process_dataset_blur,do_pooling_dataset\n",
    "from pipeline import model_pipeline\n",
    "\n",
    "from sklearn.neighbors import KNeighborsClassifier\n",
    "from xgboost import XGBClassifier\n",
    "from sklearn.model_selection import GridSearchCV,KFold\n",
    "from sklearn.metrics import accuracy_score,f1_score\n",
    "from sklearn.base import clone"
   ]
  },
  {
   "cell_type": "markdown",
   "id": "b00c7cd1",
   "metadata": {},
   "source": [
    "# Read in Training Data"
   ]
  },
  {
   "cell_type": "code",
   "execution_count": 3,
   "id": "196649e6",
   "metadata": {},
   "outputs": [
    {
     "data": {
      "text/plain": [
       "0"
      ]
     },
     "execution_count": 3,
     "metadata": {},
     "output_type": "execute_result"
    }
   ],
   "source": [
    "all_data = pickle.load(open('Amit/Labeled Data/train_data.pkl','rb'))\n",
    "train_x,train_y = all_data.iloc[:,:-1],all_data.iloc[:,-1]\n",
    "del all_data\n",
    "gc.collect()"
   ]
  },
  {
   "cell_type": "markdown",
   "id": "8ae47677",
   "metadata": {},
   "source": [
    "# Automated Model Development Pipeline\n",
    "\n",
    "Functional wrapper around model_pipeline class allowing for the automated identification of an optimal model and hyperparameter settings in conjunction with a greedy approach for identifying optimal preprocessing steps. \n",
    "\n",
    "The greedy approach is achieved by first identifying an optimal image size, or an image size that yields the best performing model without being too large to the point where it dramatically slows down training time and potentially reduces optimal model performance. Next, a specific preprocessing methodology is incorporated across a variety of preprocessing settings. For each of these settings, our image vectors / features are preprocessed according to these settings and an optimal model is identified. At the completion of evaluating a specific preprocessing methodology, if the optimal model identified is better than the previously identified optimal model trained on resized image data, the optimal model parameters are replaced. In addition, the features this model was trained on according to associated preprocessing settings are permanently applied to the features (Greedy). This process continues with other preprocessing methodologies as defined by the user, where at each step the pipeline identifies whether any additional preprocessing steps yield an improved model given previously incorporated preprocessing steps."
   ]
  },
  {
   "cell_type": "code",
   "execution_count": 4,
   "id": "e2c54635",
   "metadata": {},
   "outputs": [],
   "source": [
    "def automate_optimal_model_dev(X,y,model,param_grid,preprocessing_eval_order = ['bin/crop','blur','pool'],resize=True):\n",
    "    \n",
    "    #Store global values to capture optimal model/parameters, key performance metrics, and optimal preprocessing steps\n",
    "    best_feats = X.copy()\n",
    "    best_model = None\n",
    "    best_params = None\n",
    "    best_probs = None\n",
    "    best_preds = None\n",
    "    best_thresh = None\n",
    "    best_score = 0\n",
    "    best_preprocess = '(Initial Standardization/Resizing to ' + str((int(np.sqrt(X.shape[1])),int(np.sqrt(X.shape[1])))) + ')'\n",
    "    # Initial Evaluation - Identify Optimal Size of Images, measured by performance of optimal model yielded by training on \n",
    "    #images of various\n",
    "    \n",
    "    if resize == True:\n",
    "\n",
    "        for img_size in [(2**num,2**num) for num in range(4,int(math.log2(np.sqrt(X.shape[1]))) + 1)]:\n",
    "\n",
    "            resize_results = model_pipeline().evaluate(resize_dataset(X,(int(np.sqrt(X.shape[1])),int(np.sqrt(X.shape[1]))),img_size),\n",
    "                                                       y,preprocessing=[],model=model,param_grid=param_grid,\n",
    "                                                       optimizing_metric='f1',n_splits=5,return_transformed_features=True,\n",
    "                                                       return_grid=True,return_score=True,return_best_estimator=True,\n",
    "                                                       return_best_params=True,return_oos_pred=True,return_oos_prob=True,\n",
    "                                                       return_threshold_analysis=True)\n",
    "            score = resize_results['threshold_analysis']['best_score'] #get f1 score of best performing model trained on images\n",
    "            #of specified size\n",
    "\n",
    "            if score - best_score > 0.001:\n",
    "\n",
    "            #Extract key results and the model for best performing model if model is at minimum > 0.01 in F1 score performance\n",
    "            # then previously identified optimal model\n",
    "                best_feats = resize_results['features']\n",
    "                best_model = resize_results['best_estimator']\n",
    "                best_params = resize_results['best_params']\n",
    "                best_probs = resize_results['oos_probs']\n",
    "                best_preds = resize_results['threshold_analysis']['best_preds']\n",
    "                best_thresh = resize_results['threshold_analysis']['best_thresh']\n",
    "                best_score = score\n",
    "                best_preprocess = '(Initial Standardization/Resizing to ' + str(img_size) + ')'\n",
    "                print('Better Model Identified by Resizing Images to ' + str(img_size) + ': ' + str(score))\n",
    "            else: \n",
    "                #break early if increasing image size does not yield a significantly better performing optimal model\n",
    "                break\n",
    "    \n",
    "    #detect size of images for binarization/cropping and blur preprocessing steps\n",
    "    image_size = int(np.sqrt(best_feats.shape[1]))\n",
    "    \n",
    "    binarization_crop_settings = [[('binarize',[True,0.3]),('crop',[(image_size,image_size),(image_size,image_size)])],\n",
    "                                         [('binarize',[False,0.05]),('crop',[(image_size,image_size),(image_size,image_size)])],\n",
    "                                         [('binarize',[False,0.1]),('crop',[(image_size,image_size),(image_size,image_size)])],\n",
    "                                         [('binarize',[False,0.15]),('crop',[(image_size,image_size),(image_size,image_size)])],\n",
    "                                         [('binarize',[False,0.2]),('crop',[(image_size,image_size),(image_size,image_size)])],\n",
    "                                         [('binarize',[False,0.3]),('crop',[(image_size,image_size),(image_size,image_size)])]]\n",
    "    \n",
    "    blur_settings = [[('blur',['g',(image_size,image_size),(3,3),0,0])],\n",
    "                     [('blur',['g',(image_size,image_size),(3,3),1,0])],\n",
    "                     [('blur',['g',(image_size,image_size),(3,3),0,1])],\n",
    "                     [('blur',['g',(image_size,image_size),(3,3),1,1])],\n",
    "                     [('blur',['g',(image_size,image_size),(3,3),2,2])],\n",
    "                     [('blur',['g',(image_size,image_size),(5,5),0,0])],\n",
    "                     [('blur',['g',(image_size,image_size),(5,5),1,0])],\n",
    "                     [('blur',['g',(image_size,image_size),(5,5),0,1])],\n",
    "                     [('blur',['g',(image_size,image_size),(5,5),1,1])],\n",
    "                     [('blur',['g',(image_size,image_size),(5,5),2,2])],\n",
    "                     [('blur',['b',(image_size,image_size),(3,3),0,0])],\n",
    "                     [('blur',['b',(image_size,image_size),(3,3),1,0])],\n",
    "                     [('blur',['b',(image_size,image_size),(3,3),0,1])],\n",
    "                     [('blur',['b',(image_size,image_size),(3,3),1,1])],\n",
    "                     [('blur',['b',(image_size,image_size),(3,3),2,2])],\n",
    "                     [('blur',['b',(image_size,image_size),(5,5),0,0])],\n",
    "                     [('blur',['b',(image_size,image_size),(5,5),1,0])],\n",
    "                     [('blur',['b',(image_size,image_size),(5,5),0,1])],\n",
    "                     [('blur',['b',(image_size,image_size),(5,5),1,1])],\n",
    "                     [('blur',['b',(image_size,image_size),(5,5),2,2])]]\n",
    "    \n",
    "    \n",
    "    #detect possible pooling settings dependent on image_size, controls possible pool sizes\n",
    "    pool_ranges = int(math.log2(image_size))\n",
    "    pool_settings = []\n",
    "    for num in range(1,pool_ranges):\n",
    "        pool_settings.append([('pool',[(2**num,2**num),np.max])])\n",
    "        pool_settings.append([('pool',[(2**num,2**num),np.mean])])\n",
    "    \n",
    "    for step in preprocessing_eval_order:\n",
    "        #Identify optimal model considering different image preprocessing settings to also identify\n",
    "        #optimal preprocessing settings\n",
    "        \n",
    "        #set settings we will evaluate depending on the user defined preprocessing evaluation order\n",
    "        if step == 'bin/crop':\n",
    "            settings = binarization_crop_settings\n",
    "        elif step == 'blur':\n",
    "            settings = blur_settings\n",
    "        elif step == 'pool':\n",
    "            settings = pool_settings\n",
    "        \n",
    "        best_setting = ''\n",
    "        best_setting_feats = None\n",
    "\n",
    "        #For each preprocessing setting, identify an optimal performing model trained on\n",
    "        #transformed features according to specified preprocessing. Compare each model to currently identified\n",
    "        #optimal model and replace if better model is found\n",
    "        for setting in settings:\n",
    "            if step == 'bin/crop' and int(np.sqrt(best_feats.shape[1])) != image_size: #if pooling was evaluated first and\n",
    "                #yielded a model better than base case, resulting data would have been resized so dimension settings for\n",
    "                #binarization, cropping will need to be adjusted\n",
    "                new_image_size = int(np.sqrt(best_feats.shape[1]))\n",
    "                setting[1][1][0] = (new_image_size,new_image_size)\n",
    "                setting[1][1][1] = (new_image_size,new_image_size)\n",
    "            elif step == 'blur' and int(np.sqrt(best_feats.shape[1])) != image_size: #same case as above but for blurring\n",
    "                new_image_size = int(np.sqrt(best_feats.shape[1]))\n",
    "                setting[0][1][1] = (new_image_size,new_image_size)\n",
    "            setting_case = model_pipeline().evaluate(best_feats,y,preprocessing=setting,model=model,param_grid=param_grid,\n",
    "                                                      optimizing_metric='f1',n_splits=5,return_transformed_features=True,\n",
    "                                                      return_grid=True,return_score=True,return_best_estimator=True,\n",
    "                                                      return_best_params=True,return_oos_pred=True,return_oos_prob=True,\n",
    "                                                      return_threshold_analysis=True)\n",
    "            score = setting_case['threshold_analysis']['best_score']#get F1 score of optimal model trained using preprocessed features\n",
    "            if score > best_score: #if score is better than current best score, update key results and model for optimal performing model\n",
    "                best_model = setting_case['best_estimator']\n",
    "                best_params = setting_case['best_params']\n",
    "                best_probs = setting_case['oos_probs']\n",
    "                best_preds = setting_case['threshold_analysis']['best_preds']\n",
    "                best_thresh = setting_case['threshold_analysis']['best_thresh']\n",
    "                best_score = score\n",
    "                best_setting_feats = setting_case['features']\n",
    "                if step == 'bin/crop':\n",
    "                    best_setting = '(Binarization, Automate Threshold = ' + str(setting[0][1][0]) + ', Threshold = ' + str(setting[0][1][1]) + ') (Crop, ' + str(setting[1][1][0]) + ', ' + str(setting[1][1][0]) + ')'\n",
    "                    print('Better Model Identified W/ Binarization/Cropping, Score = ' + str(score))\n",
    "                elif step == 'blur':\n",
    "                    best_setting = '(Blurring, Type = ' + str(setting[0][1][0]) + ', Dimension = ' + str(setting[0][1][1]) + ', Kernel = ' + str(setting[0][1][2]) + ', sigma_x = ' + str(setting[0][1][3]) + ', sigma_y = ' + str(setting[0][1][4]) + ')'\n",
    "                    print('Better Model Identified W/ Blurring, Score = ' + str(score))\n",
    "                elif step == 'pool':\n",
    "                    best_setting = '(Pool, pool_size = ' + str(setting[0][1][0]) + ', pooling_function = ' + str(setting[0][1][1]) + ')'\n",
    "                    print('Better Model Identified W/ Pooling, Score = ' + str(score))\n",
    "                    \n",
    "\n",
    "        #Update features and preprocessing string if incorporating specific preprocessing as part of image preprocessing pipeline yielded \n",
    "        #a better performing model. This ensures these steps do not need to be repeated when evaluating additional \n",
    "        #preprocessing steps\n",
    "        if best_setting != '':\n",
    "            best_feats = best_setting_feats\n",
    "            best_preprocess = best_preprocess + best_setting\n",
    "    \n",
    "    \n",
    "    #store and return optimal model, threshold, out of sample predictions, features the model was trained on, \n",
    "    #and optimal preprocessing steps identified via a greedy sequential decision process\n",
    "    return_dict = {}\n",
    "    return_dict['features'] = best_feats\n",
    "    return_dict['best_model'] = best_model\n",
    "    return_dict['best_params'] = best_params\n",
    "    return_dict['oos_probs'] = best_probs\n",
    "    return_dict['oos_preds'] = best_preds\n",
    "    return_dict['best_thresh'] = best_thresh\n",
    "    return_dict['best_score'] = best_score\n",
    "    return_dict['best_preprocess'] = best_preprocess\n",
    "    \n",
    "    return return_dict"
   ]
  },
  {
   "cell_type": "markdown",
   "id": "b30d1ed4",
   "metadata": {},
   "source": [
    "# Identify Optimal KNN Alongside Optimized Preprocessing Steps"
   ]
  },
  {
   "cell_type": "markdown",
   "id": "b553e797",
   "metadata": {},
   "source": [
    "[1,2,3],[1,3,2],[2,1,3],[2,3,1],[3,1,2],[3,2,1]  \n",
    "1 = bin/crop  \n",
    "2 = blur  \n",
    "3 = pool"
   ]
  },
  {
   "cell_type": "markdown",
   "id": "a0b36efe",
   "metadata": {},
   "source": [
    "### Test 1: Identify optimal KNN while sequentially identifying optimal settings for bin/crop, blur, and pooling [3,2,1]"
   ]
  },
  {
   "cell_type": "code",
   "execution_count": 4,
   "id": "5048438a",
   "metadata": {},
   "outputs": [
    {
     "name": "stdout",
     "output_type": "stream",
     "text": [
      "Better Model Identified by Resizing Images to (16, 16): 0.9518106643855146\n",
      "Better Model Identified W/ Blurring, Score = 0.9531116794543905\n",
      "Better Model Identified W/ Binarization/Cropping, Score = 0.9619473978735311\n",
      "CPU times: user 7min 58s, sys: 13 s, total: 8min 11s\n",
      "Wall time: 4min 16s\n"
     ]
    }
   ],
   "source": [
    "%%time\n",
    "knn_test_1 = automate_optimal_model_dev(X = train_x, y = train_y,\n",
    "                                        model = KNeighborsClassifier(),\n",
    "                                        param_grid={'n_neighbors':[1,3,5,7,9,11,13]},\n",
    "                                        preprocessing_eval_order = ['pool','blur','bin/crop'])\n",
    "with open('KNN_auto_resize_results/knn_test_1.pickle', 'wb') as handle:\n",
    "    pickle.dump(knn_test_1, handle, protocol=pickle.HIGHEST_PROTOCOL)"
   ]
  },
  {
   "cell_type": "markdown",
   "id": "1bc8908a",
   "metadata": {},
   "source": [
    "### Test 2: Identify optimal KNN while sequentially identifying optimal settings for bin/crop, blur, and pooling [3,1,2], Test 1 yielded that resize value of 16x16 is optimal "
   ]
  },
  {
   "cell_type": "code",
   "execution_count": 5,
   "id": "0ca2363f",
   "metadata": {},
   "outputs": [
    {
     "name": "stdout",
     "output_type": "stream",
     "text": [
      "Better Model Identified W/ Pooling, Score = 0.9480929165471753\n",
      "Better Model Identified W/ Binarization/Cropping, Score = 0.9630044843049327\n",
      "Better Model Identified W/ Binarization/Cropping, Score = 0.9632744603308102\n",
      "CPU times: user 5min 18s, sys: 8.38 s, total: 5min 27s\n",
      "Wall time: 2min 36s\n"
     ]
    }
   ],
   "source": [
    "%%time\n",
    "knn_test_2 = automate_optimal_model_dev(X = resize_dataset(train_x,(256,256),(16,16)), y = train_y,\n",
    "                                        model = KNeighborsClassifier(),\n",
    "                                        param_grid={'n_neighbors':[1,3,5,7,9,11,13]},\n",
    "                                        preprocessing_eval_order = ['pool','bin/crop','blur'],\n",
    "                                        resize = False)\n",
    "with open('KNN_auto_resize_results/knn_test_2.pickle', 'wb') as handle:\n",
    "    pickle.dump(knn_test_2, handle, protocol=pickle.HIGHEST_PROTOCOL)"
   ]
  },
  {
   "cell_type": "code",
   "execution_count": 4,
   "id": "ebd3e96d",
   "metadata": {},
   "outputs": [
    {
     "name": "stdout",
     "output_type": "stream",
     "text": [
      "Better Model Identified by Resizing Images to (16, 16): 0.971894322653176\n",
      "CPU times: user 5min 57s, sys: 9.08 s, total: 6min 6s\n",
      "Wall time: 2min 48s\n"
     ]
    }
   ],
   "source": [
    "%%time\n",
    "knn_test_2_1 = automate_optimal_model_dev(X = resize_dataset(train_x,(256,256),(16,16)), \n",
    "                                          y = train_y,\n",
    "                                          model = KNeighborsClassifier(),\n",
    "                                          param_grid={'n_neighbors':[1,3,5,7,9,11,13]},\n",
    "                                          preprocessing_eval_order = ['pool','bin/crop','blur'])\n",
    "with open('KNN_auto_resize_results/knn_test_2_1.pickle', 'wb') as handle:\n",
    "    pickle.dump(knn_test_2_1, handle, protocol=pickle.HIGHEST_PROTOCOL)\n",
    "    "
   ]
  },
  {
   "cell_type": "markdown",
   "id": "ae7c8cd7",
   "metadata": {},
   "source": [
    "### Test 3: Identify optimal KNN while sequentially identifying optimal settings for bin/crop, blur, and pooling [2,1,3], Test 1 yielded that resize value of 16x16 is optimal "
   ]
  },
  {
   "cell_type": "code",
   "execution_count": 6,
   "id": "ca2c5dc3",
   "metadata": {},
   "outputs": [
    {
     "name": "stdout",
     "output_type": "stream",
     "text": [
      "Better Model Identified W/ Blurring, Score = 0.9531116794543905\n",
      "Better Model Identified W/ Binarization/Cropping, Score = 0.9619473978735311\n",
      "CPU times: user 6min 15s, sys: 10.7 s, total: 6min 26s\n",
      "Wall time: 3min\n"
     ]
    }
   ],
   "source": [
    "%%time\n",
    "knn_test_3 = automate_optimal_model_dev(X = resize_dataset(train_x,(256,256),(16,16)), y = train_y,\n",
    "                                        model = KNeighborsClassifier(),\n",
    "                                        param_grid={'n_neighbors':[1,3,5,7,9,11,13]},\n",
    "                                        preprocessing_eval_order = ['blur','bin/crop','pool'],\n",
    "                                        resize = False)\n",
    "with open('KNN_auto_resize_results/knn_test_3.pickle', 'wb') as handle:\n",
    "    pickle.dump(knn_test_3, handle, protocol=pickle.HIGHEST_PROTOCOL)\n",
    "    "
   ]
  },
  {
   "cell_type": "code",
   "execution_count": 5,
   "id": "44ddbde9",
   "metadata": {},
   "outputs": [
    {
     "name": "stdout",
     "output_type": "stream",
     "text": [
      "Better Model Identified by Resizing Images to (16, 16): 0.971894322653176\n",
      "CPU times: user 6min 10s, sys: 11.2 s, total: 6min 22s\n",
      "Wall time: 2min 59s\n"
     ]
    }
   ],
   "source": [
    "%%time\n",
    "knn_test_3_1 = automate_optimal_model_dev(X = resize_dataset(train_x,(256,256),(16,16)),\n",
    "                                          y = train_y,\n",
    "                                          model = KNeighborsClassifier(),\n",
    "                                          param_grid={'n_neighbors':[1,3,5,7,9,11,13]},\n",
    "                                          preprocessing_eval_order = ['blur','bin/crop','pool'])\n",
    "with open('KNN_auto_resize_results/knn_test_3_1.pickle', 'wb') as handle:\n",
    "    pickle.dump(knn_test_3_1, handle, protocol=pickle.HIGHEST_PROTOCOL)\n",
    "    "
   ]
  },
  {
   "cell_type": "markdown",
   "id": "032a7148",
   "metadata": {},
   "source": [
    "### Test 4: Identify optimal KNN while sequentially identifying optimal settings for bin/crop, blur, and pooling [1,2,3], Test 1 yielded that resize value of 16x16 is optimal "
   ]
  },
  {
   "cell_type": "code",
   "execution_count": 7,
   "id": "4df6d146",
   "metadata": {},
   "outputs": [
    {
     "name": "stdout",
     "output_type": "stream",
     "text": [
      "Better Model Identified W/ Binarization/Cropping, Score = 0.9468926553672317\n",
      "Better Model Identified W/ Binarization/Cropping, Score = 0.9650153932269802\n",
      "CPU times: user 6min 5s, sys: 10.1 s, total: 6min 15s\n",
      "Wall time: 2min 55s\n"
     ]
    }
   ],
   "source": [
    "%%time\n",
    "knn_test_4 = automate_optimal_model_dev(X = resize_dataset(train_x,(256,256),(16,16)), y = train_y,\n",
    "                                        model = KNeighborsClassifier(),\n",
    "                                        param_grid={'n_neighbors':[1,3,5,7,9,11,13]},\n",
    "                                        preprocessing_eval_order = ['bin/crop','blur','pool'],\n",
    "                                        resize = False)\n",
    "with open('KNN_auto_resize_results/knn_test_4.pickle', 'wb') as handle:\n",
    "    pickle.dump(knn_test_4, handle, protocol=pickle.HIGHEST_PROTOCOL)\n",
    "    "
   ]
  },
  {
   "cell_type": "code",
   "execution_count": 6,
   "id": "64cb51f8",
   "metadata": {},
   "outputs": [
    {
     "name": "stdout",
     "output_type": "stream",
     "text": [
      "Better Model Identified by Resizing Images to (16, 16): 0.971894322653176\n",
      "CPU times: user 5min 59s, sys: 9.15 s, total: 6min 8s\n",
      "Wall time: 2min 50s\n"
     ]
    }
   ],
   "source": [
    "%%time\n",
    "knn_test_4_1 = automate_optimal_model_dev(X = resize_dataset(train_x,(256,256),(16,16)), \n",
    "                                          y = train_y,\n",
    "                                          model = KNeighborsClassifier(),\n",
    "                                          param_grid={'n_neighbors':[1,3,5,7,9,11,13]},\n",
    "                                          preprocessing_eval_order = ['bin/crop','blur','pool'])\n",
    "with open('KNN_auto_resize_results/knn_test_4_1.pickle', 'wb') as handle:\n",
    "    pickle.dump(knn_test_4_1, handle, protocol=pickle.HIGHEST_PROTOCOL)\n",
    "    "
   ]
  },
  {
   "cell_type": "markdown",
   "id": "a1186ef1",
   "metadata": {},
   "source": [
    "### Test 5: Identify optimal KNN while sequentially identifying optimal settings for bin/crop, blur, and pooling [1,3,2], Test 1 yielded that resize value of 16x16 is optimal "
   ]
  },
  {
   "cell_type": "code",
   "execution_count": 8,
   "id": "877ed4dc",
   "metadata": {},
   "outputs": [
    {
     "name": "stdout",
     "output_type": "stream",
     "text": [
      "Better Model Identified W/ Binarization/Cropping, Score = 0.9468926553672317\n",
      "Better Model Identified W/ Binarization/Cropping, Score = 0.9650153932269802\n",
      "CPU times: user 6min 5s, sys: 10 s, total: 6min 15s\n",
      "Wall time: 2min 55s\n"
     ]
    }
   ],
   "source": [
    "%%time\n",
    "knn_test_5 = automate_optimal_model_dev(X = resize_dataset(train_x,(256,256),(16,16)), y = train_y,\n",
    "                                        model = KNeighborsClassifier(),\n",
    "                                        param_grid={'n_neighbors':[1,3,5,7,9,11,13]},\n",
    "                                        preprocessing_eval_order = ['bin/crop','pool','blur'],\n",
    "                                        resize = False)\n",
    "with open('KNN_auto_resize_results/knn_test_5.pickle', 'wb') as handle:\n",
    "    pickle.dump(knn_test_5, handle, protocol=pickle.HIGHEST_PROTOCOL)"
   ]
  },
  {
   "cell_type": "code",
   "execution_count": 7,
   "id": "ef039b54",
   "metadata": {},
   "outputs": [
    {
     "name": "stdout",
     "output_type": "stream",
     "text": [
      "Better Model Identified by Resizing Images to (16, 16): 0.971894322653176\n",
      "CPU times: user 5min 59s, sys: 9.18 s, total: 6min 8s\n",
      "Wall time: 2min 49s\n"
     ]
    }
   ],
   "source": [
    "%%time\n",
    "knn_test_5_1 = automate_optimal_model_dev(X = resize_dataset(train_x,(256,256),(16,16)), \n",
    "                                          y = train_y,\n",
    "                                          model = KNeighborsClassifier(),\n",
    "                                          param_grid={'n_neighbors':[1,3,5,7,9,11,13]},\n",
    "                                          preprocessing_eval_order = ['bin/crop','pool','blur'])\n",
    "with open('KNN_auto_resize_results/knn_test_5_1.pickle', 'wb') as handle:\n",
    "    pickle.dump(knn_test_5_1, handle, protocol=pickle.HIGHEST_PROTOCOL)\n",
    "    "
   ]
  },
  {
   "cell_type": "markdown",
   "id": "12bf55ee",
   "metadata": {},
   "source": [
    "### Test 6: Identify optimal KNN while sequentially identifying optimal settings for bin/crop, blur, and pooling [2,3,1], Test 1 yielded that resize value of 16x16 is optimal "
   ]
  },
  {
   "cell_type": "code",
   "execution_count": 9,
   "id": "cb3e21bc",
   "metadata": {},
   "outputs": [
    {
     "name": "stdout",
     "output_type": "stream",
     "text": [
      "Better Model Identified W/ Blurring, Score = 0.9531116794543905\n",
      "Better Model Identified W/ Binarization/Cropping, Score = 0.9619473978735311\n",
      "CPU times: user 6min 14s, sys: 9.72 s, total: 6min 23s\n",
      "Wall time: 2min 57s\n"
     ]
    }
   ],
   "source": [
    "%%time\n",
    "knn_test_6 = automate_optimal_model_dev(X = resize_dataset(train_x,(256,256),(16,16)), y = train_y,\n",
    "                                        model = KNeighborsClassifier(),\n",
    "                                        param_grid={'n_neighbors':[1,3,5,7,9,11,13]},\n",
    "                                        preprocessing_eval_order = ['blur','pool','bin/crop'],\n",
    "                                        resize = False)\n",
    "with open('KNN_auto_resize_results/knn_test_6.pickle', 'wb') as handle:\n",
    "    pickle.dump(knn_test_6, handle, protocol=pickle.HIGHEST_PROTOCOL)"
   ]
  },
  {
   "cell_type": "code",
   "execution_count": 8,
   "id": "8e3cdd40",
   "metadata": {},
   "outputs": [
    {
     "name": "stdout",
     "output_type": "stream",
     "text": [
      "Better Model Identified by Resizing Images to (16, 16): 0.971894322653176\n",
      "CPU times: user 6min 1s, sys: 9.43 s, total: 6min 10s\n",
      "Wall time: 2min 50s\n"
     ]
    }
   ],
   "source": [
    "%%time\n",
    "knn_test_6_1 = automate_optimal_model_dev(X = resize_dataset(train_x,(256,256),(16,16)), \n",
    "                                          y = train_y,\n",
    "                                          model = KNeighborsClassifier(),\n",
    "                                          param_grid={'n_neighbors':[1,3,5,7,9,11,13]},\n",
    "                                          preprocessing_eval_order = ['blur','pool','bin/crop'])\n",
    "with open('KNN_auto_resize_results/knn_test_6_1.pickle', 'wb') as handle:\n",
    "    pickle.dump(knn_test_6_1, handle, protocol=pickle.HIGHEST_PROTOCOL)\n",
    "    "
   ]
  },
  {
   "cell_type": "markdown",
   "id": "17d50236",
   "metadata": {},
   "source": [
    "### Without preprocessing"
   ]
  },
  {
   "cell_type": "markdown",
   "id": "9119a425",
   "metadata": {},
   "source": [
    "### resize twice yield best f1"
   ]
  },
  {
   "cell_type": "code",
   "execution_count": 10,
   "id": "1df985d1",
   "metadata": {},
   "outputs": [
    {
     "name": "stdout",
     "output_type": "stream",
     "text": [
      "Better Model Identified by Resizing Images to (16, 16): 0.971894322653176\n",
      "CPU times: user 1min 12s, sys: 2.58 s, total: 1min 14s\n",
      "Wall time: 1min 9s\n"
     ]
    }
   ],
   "source": [
    "%%time\n",
    "knn_test_7 = automate_optimal_model_dev(X = resize_dataset(train_x,(256,256),(16,16)), y = train_y,\n",
    "                                        model = KNeighborsClassifier(),\n",
    "                                        param_grid={'n_neighbors':[1,3,5,7,9,11,13]},\n",
    "                                        preprocessing_eval_order = [])\n",
    "with open('KNN_auto_resize_results/knn_test_7.pickle', 'wb') as handle:\n",
    "    pickle.dump(knn_test_7, handle, protocol=pickle.HIGHEST_PROTOCOL)"
   ]
  },
  {
   "cell_type": "code",
   "execution_count": 11,
   "id": "67ba5c12",
   "metadata": {},
   "outputs": [
    {
     "name": "stdout",
     "output_type": "stream",
     "text": [
      "Better Model Identified by Resizing Images to (16, 16): 0.9518106643855146\n",
      "CPU times: user 2min 27s, sys: 4.19 s, total: 2min 31s\n",
      "Wall time: 2min 15s\n"
     ]
    }
   ],
   "source": [
    "%%time\n",
    "knn_test_8 = automate_optimal_model_dev(X = train_x, y = train_y,\n",
    "                                        model = KNeighborsClassifier(),\n",
    "                                        param_grid={'n_neighbors':[1,3,5,7,9,11,13]},\n",
    "                                        preprocessing_eval_order = [])\n",
    "with open('KNN_auto_resize_results/knn_test_8.pickle', 'wb') as handle:\n",
    "    pickle.dump(knn_test_8, handle, protocol=pickle.HIGHEST_PROTOCOL)"
   ]
  },
  {
   "cell_type": "markdown",
   "id": "2ec09adb",
   "metadata": {},
   "source": [
    "### other metric"
   ]
  },
  {
   "cell_type": "markdown",
   "id": "d10852f0",
   "metadata": {},
   "source": [
    "#### weights"
   ]
  },
  {
   "cell_type": "code",
   "execution_count": 7,
   "id": "7b09fae4",
   "metadata": {},
   "outputs": [
    {
     "name": "stdout",
     "output_type": "stream",
     "text": [
      "Better Model Identified by Resizing Images to (16, 16): 0.971894322653176\n",
      "CPU times: user 3min 38s, sys: 7.74 s, total: 3min 46s\n",
      "Wall time: 2min 17s\n"
     ]
    },
    {
     "data": {
      "text/plain": [
       "{'features':       pixel0  pixel1  pixel2  pixel3  pixel4  pixel5  pixel6  pixel7  pixel8  \\\n",
       " 54         0       0       1       1       0       7      29      31      29   \n",
       " 2602       1       1       3       3       1       3      32      52      42   \n",
       " 3433       0       1       3       3       1       3       0       0       0   \n",
       " 235        0      11      38      30      44      62      54      54      54   \n",
       " 1806       0       4       4       4       4       4       4       4       4   \n",
       " ...      ...     ...     ...     ...     ...     ...     ...     ...     ...   \n",
       " 3330       0       0       0       0       0       0       0       0       0   \n",
       " 70        25       0       2       3       2       1       4      11      11   \n",
       " 132        0       0       0       0       0       8      32      62      78   \n",
       " 2014       5       5       5       5       5       5       5       5       5   \n",
       " 1931       1       1       1       0       0      79     176     210     217   \n",
       " \n",
       "       pixel9  ...  pixel246  pixel247  pixel248  pixel249  pixel250  pixel251  \\\n",
       " 54        10  ...        56        81        76        39         0         0   \n",
       " 2602      39  ...        85       121       118        79        58         9   \n",
       " 3433       0  ...       144       187       187       146        72         0   \n",
       " 235       69  ...        54        89        89        78        59        38   \n",
       " 1806       4  ...       143       133       129       135       116        97   \n",
       " ...      ...  ...       ...       ...       ...       ...       ...       ...   \n",
       " 3330       0  ...         0         0         0         0         0         0   \n",
       " 70         6  ...        14        23        25        17        12        12   \n",
       " 132       59  ...        56        71        67        54        20         0   \n",
       " 2014       5  ...       133       151       107       145       147       163   \n",
       " 1931     241  ...       187       183       173       158       153       134   \n",
       " \n",
       "       pixel252  pixel253  pixel254  pixel255  \n",
       " 54           1         1         0         0  \n",
       " 2602         1         3         3         1  \n",
       " 3433         0         3         1         0  \n",
       " 235         32        40        14         0  \n",
       " 1806       177        19         2         0  \n",
       " ...        ...       ...       ...       ...  \n",
       " 3330         0         0         0         0  \n",
       " 70          11         9         9         9  \n",
       " 132          0         0         0         0  \n",
       " 2014       125        56         2         7  \n",
       " 1931        32         0         1         1  \n",
       " \n",
       " [3220 rows x 256 columns],\n",
       " 'best_model': KNeighborsClassifier(n_neighbors=1, weights='distance'),\n",
       " 'best_params': {'n_neighbors': 1},\n",
       " 'oos_probs': 54      1.0\n",
       " 2602    0.0\n",
       " 3433    0.0\n",
       " 235     1.0\n",
       " 1806    1.0\n",
       "        ... \n",
       " 3330    0.0\n",
       " 70      1.0\n",
       " 132     1.0\n",
       " 2014    1.0\n",
       " 1931    1.0\n",
       " Name: label, Length: 3220, dtype: float64,\n",
       " 'oos_preds': 54      1\n",
       " 2602    0\n",
       " 3433    0\n",
       " 235     1\n",
       " 1806    1\n",
       "        ..\n",
       " 3330    0\n",
       " 70      1\n",
       " 132     1\n",
       " 2014    1\n",
       " 1931    1\n",
       " Name: label, Length: 3220, dtype: uint8,\n",
       " 'best_thresh': 0.5,\n",
       " 'best_score': 0.971894322653176,\n",
       " 'best_preprocess': '(Initial Standardization/Resizing to (16, 16))'}"
      ]
     },
     "execution_count": 7,
     "metadata": {},
     "output_type": "execute_result"
    }
   ],
   "source": [
    "%%time\n",
    "knn_test_9 = automate_optimal_model_dev(X = resize_dataset(train_x,(256,256),(16,16)), \n",
    "                                        y = train_y,\n",
    "                                        model = KNeighborsClassifier(weights='distance'),\n",
    "                                        param_grid={'n_neighbors':[1,3,5]},\n",
    "                                        preprocessing_eval_order = ['bin/crop','blur','pool'])\n",
    "knn_test_9"
   ]
  },
  {
   "cell_type": "markdown",
   "id": "afd9d8d2",
   "metadata": {},
   "source": [
    "#### Manhattan distance"
   ]
  },
  {
   "cell_type": "code",
   "execution_count": 10,
   "id": "e3144db8",
   "metadata": {},
   "outputs": [
    {
     "name": "stdout",
     "output_type": "stream",
     "text": [
      "Better Model Identified by Resizing Images to (16, 16): 0.9742441209406496\n",
      "CPU times: user 6min 25s, sys: 7.16 s, total: 6min 32s\n",
      "Wall time: 6min 34s\n"
     ]
    },
    {
     "data": {
      "text/plain": [
       "{'features':       pixel0  pixel1  pixel2  pixel3  pixel4  pixel5  pixel6  pixel7  pixel8  \\\n",
       " 54         0       0       1       1       0       7      29      31      29   \n",
       " 2602       1       1       3       3       1       3      32      52      42   \n",
       " 3433       0       1       3       3       1       3       0       0       0   \n",
       " 235        0      11      38      30      44      62      54      54      54   \n",
       " 1806       0       4       4       4       4       4       4       4       4   \n",
       " ...      ...     ...     ...     ...     ...     ...     ...     ...     ...   \n",
       " 3330       0       0       0       0       0       0       0       0       0   \n",
       " 70        25       0       2       3       2       1       4      11      11   \n",
       " 132        0       0       0       0       0       8      32      62      78   \n",
       " 2014       5       5       5       5       5       5       5       5       5   \n",
       " 1931       1       1       1       0       0      79     176     210     217   \n",
       " \n",
       "       pixel9  ...  pixel246  pixel247  pixel248  pixel249  pixel250  pixel251  \\\n",
       " 54        10  ...        56        81        76        39         0         0   \n",
       " 2602      39  ...        85       121       118        79        58         9   \n",
       " 3433       0  ...       144       187       187       146        72         0   \n",
       " 235       69  ...        54        89        89        78        59        38   \n",
       " 1806       4  ...       143       133       129       135       116        97   \n",
       " ...      ...  ...       ...       ...       ...       ...       ...       ...   \n",
       " 3330       0  ...         0         0         0         0         0         0   \n",
       " 70         6  ...        14        23        25        17        12        12   \n",
       " 132       59  ...        56        71        67        54        20         0   \n",
       " 2014       5  ...       133       151       107       145       147       163   \n",
       " 1931     241  ...       187       183       173       158       153       134   \n",
       " \n",
       "       pixel252  pixel253  pixel254  pixel255  \n",
       " 54           1         1         0         0  \n",
       " 2602         1         3         3         1  \n",
       " 3433         0         3         1         0  \n",
       " 235         32        40        14         0  \n",
       " 1806       177        19         2         0  \n",
       " ...        ...       ...       ...       ...  \n",
       " 3330         0         0         0         0  \n",
       " 70          11         9         9         9  \n",
       " 132          0         0         0         0  \n",
       " 2014       125        56         2         7  \n",
       " 1931        32         0         1         1  \n",
       " \n",
       " [3220 rows x 256 columns],\n",
       " 'best_model': KNeighborsClassifier(n_neighbors=1, p=1),\n",
       " 'best_params': {'n_neighbors': 1},\n",
       " 'oos_probs': 54      1.0\n",
       " 2602    0.0\n",
       " 3433    0.0\n",
       " 235     1.0\n",
       " 1806    1.0\n",
       "        ... \n",
       " 3330    0.0\n",
       " 70      1.0\n",
       " 132     1.0\n",
       " 2014    1.0\n",
       " 1931    1.0\n",
       " Name: label, Length: 3220, dtype: float64,\n",
       " 'oos_preds': 54      1\n",
       " 2602    0\n",
       " 3433    0\n",
       " 235     1\n",
       " 1806    1\n",
       "        ..\n",
       " 3330    0\n",
       " 70      1\n",
       " 132     1\n",
       " 2014    1\n",
       " 1931    1\n",
       " Name: label, Length: 3220, dtype: uint8,\n",
       " 'best_thresh': 0.5,\n",
       " 'best_score': 0.9742441209406496,\n",
       " 'best_preprocess': '(Initial Standardization/Resizing to (16, 16))'}"
      ]
     },
     "execution_count": 10,
     "metadata": {},
     "output_type": "execute_result"
    }
   ],
   "source": [
    "%%time\n",
    "knn_test_10 = automate_optimal_model_dev(X = resize_dataset(train_x,(256,256),(16,16)), \n",
    "                                        y = train_y,\n",
    "                                        model = KNeighborsClassifier(p=1, metric='minkowski'),\n",
    "                                        param_grid={'n_neighbors':[1,3,5]},\n",
    "                                        preprocessing_eval_order = ['bin/crop','blur','pool'])\n",
    "knn_test_10"
   ]
  },
  {
   "cell_type": "code",
   "execution_count": 11,
   "id": "b2a9f814",
   "metadata": {},
   "outputs": [],
   "source": [
    "with open('KNN_auto_resize_results/knn_test_10.pickle', 'wb') as handle:\n",
    "    pickle.dump(knn_test_10, handle, protocol=pickle.HIGHEST_PROTOCOL)"
   ]
  },
  {
   "cell_type": "code",
   "execution_count": 9,
   "id": "af68daca",
   "metadata": {},
   "outputs": [
    {
     "name": "stdout",
     "output_type": "stream",
     "text": [
      "Better Model Identified by Resizing Images to (16, 16): 0.9454648205707827\n",
      "Better Model Identified W/ Blurring, Score = 0.9474282466609832\n",
      "Better Model Identified W/ Blurring, Score = 0.9477272727272726\n",
      "Better Model Identified W/ Blurring, Score = 0.950354609929078\n",
      "CPU times: user 6min 46s, sys: 8.91 s, total: 6min 55s\n",
      "Wall time: 6min 59s\n"
     ]
    },
    {
     "data": {
      "text/plain": [
       "{'features':         pixel0     pixel1     pixel2     pixel3     pixel4      pixel5  \\\n",
       " 54    0.000000   0.319168   0.477096   6.358317  22.491224   48.009315   \n",
       " 2602  1.814945   2.100062   2.769137   3.584081  11.200088   26.067818   \n",
       " 3433  0.230863   1.088305   2.157928   2.157928   1.434600    9.472224   \n",
       " 235   6.614219  13.634724  25.104576  38.379742  54.566586   73.992744   \n",
       " 1806  2.553342   2.723329   4.000000   4.000000   4.000000    4.000000   \n",
       " ...        ...        ...        ...        ...        ...         ...   \n",
       " 3330  0.000000   0.000000   0.000000   0.000000   0.000000    0.000000   \n",
       " 70    9.679947   9.255865   2.115432   3.380345  10.054217   20.747427   \n",
       " 132   0.000000   0.000000   0.000000   3.463514  19.109657   46.367668   \n",
       " 2014  6.276671   6.276671   6.276671   6.276671   5.869199    4.388792   \n",
       " 1931  1.000000   0.796264   2.894802  36.094780  85.052208  133.828186   \n",
       " \n",
       "           pixel6      pixel7      pixel8      pixel9  ...    pixel246  \\\n",
       " 54     62.926445   68.920349   59.130486   45.509003  ...   74.722389   \n",
       " 2602   47.068985   55.531048   59.255825   54.204620  ...   98.642830   \n",
       " 3433   25.173281   39.440601   38.517147   23.204020  ...  173.873611   \n",
       " 235    87.030121   91.023460   94.411949   90.119324  ...  105.643433   \n",
       " 1806    4.000000    4.000000    4.000000    4.000000  ...  141.024384   \n",
       " ...          ...         ...         ...         ...  ...         ...   \n",
       " 3330    0.000000    0.000000    0.000000    0.000000  ...    0.000000   \n",
       " 70     33.648552   40.098522   43.534908   40.340839  ...   23.941532   \n",
       " 132    79.576202  108.286247  118.900803  107.907692  ...  105.287476   \n",
       " 2014    2.827003    1.808322    1.808322    1.808322  ...  156.387558   \n",
       " 1931  151.560852  154.336090  157.818329  166.709488  ...  176.772797   \n",
       " \n",
       "         pixel247    pixel248    pixel249    pixel250    pixel251    pixel252  \\\n",
       " 54     72.009613   64.510529   57.077129   39.976223   20.216642    4.524692   \n",
       " 2602  110.821243  108.275490   96.411667   74.406830   47.006962   20.761839   \n",
       " 3433  163.823685  159.152161  155.880920  144.185608   93.696861   40.427490   \n",
       " 235   142.232910  157.227448  145.078918  115.282043   71.390259   42.186806   \n",
       " 1806  150.968063  150.336349  141.349869  127.163948  146.892334  119.576363   \n",
       " ...          ...         ...         ...         ...         ...         ...   \n",
       " 3330    0.000000    0.000000    0.000000    0.000000    0.000000    0.000000   \n",
       " 70     30.259478   31.587091   27.437309   18.145569   10.241398    5.777884   \n",
       " 132   118.719330  119.893539  104.788086   73.755821   35.040356   10.648533   \n",
       " 2014  151.733566  150.854691  146.222427  157.539474  155.883636  129.583221   \n",
       " 1931  168.087982  148.831558  136.228500  128.485825  124.147896   99.525101   \n",
       " \n",
       "        pixel253   pixel254  pixel255  \n",
       " 54     0.477096   0.319168  0.000000  \n",
       " 2602   4.399025   2.361665  2.276671  \n",
       " 3433   3.591004   0.911696  0.638336  \n",
       " 235   24.544312  14.923453  8.121753  \n",
       " 1806  77.149704  10.196776  0.461727  \n",
       " ...         ...        ...       ...  \n",
       " 3330   0.000000   0.000000  0.000000  \n",
       " 70     4.966250   4.531651  4.531651  \n",
       " 132    0.407472   0.000000  0.000000  \n",
       " 2014  73.839348  25.516829  3.808322  \n",
       " 1931  55.677750  15.118969  0.592528  \n",
       " \n",
       " [3220 rows x 256 columns],\n",
       " 'best_model': KNeighborsClassifier(metric='chebyshev', n_neighbors=1),\n",
       " 'best_params': {'n_neighbors': 1},\n",
       " 'oos_probs': 54      1.0\n",
       " 2602    0.0\n",
       " 3433    0.0\n",
       " 235     1.0\n",
       " 1806    1.0\n",
       "        ... \n",
       " 3330    0.0\n",
       " 70      0.0\n",
       " 132     1.0\n",
       " 2014    1.0\n",
       " 1931    1.0\n",
       " Name: label, Length: 3220, dtype: float64,\n",
       " 'oos_preds': 54      1\n",
       " 2602    0\n",
       " 3433    0\n",
       " 235     1\n",
       " 1806    1\n",
       "        ..\n",
       " 3330    0\n",
       " 70      0\n",
       " 132     1\n",
       " 2014    1\n",
       " 1931    1\n",
       " Name: label, Length: 3220, dtype: uint8,\n",
       " 'best_thresh': 0.5,\n",
       " 'best_score': 0.950354609929078,\n",
       " 'best_preprocess': '(Initial Standardization/Resizing to (16, 16))(Blurring, Type = g, Dimension = (16, 16), Kernel = (3, 3), sigma_x = 2, sigma_y = 2)'}"
      ]
     },
     "execution_count": 9,
     "metadata": {},
     "output_type": "execute_result"
    }
   ],
   "source": [
    "%%time\n",
    "knn_test_11 = automate_optimal_model_dev(X = resize_dataset(train_x,(256,256),(16,16)), \n",
    "                                        y = train_y,\n",
    "                                        model = KNeighborsClassifier(metric='chebyshev'),\n",
    "                                        param_grid={'n_neighbors':[1,3,5]},\n",
    "                                        preprocessing_eval_order = ['bin/crop','blur','pool'])\n",
    "knn_test_11"
   ]
  },
  {
   "cell_type": "code",
   "execution_count": 13,
   "id": "4129c9b8",
   "metadata": {},
   "outputs": [
    {
     "name": "stdout",
     "output_type": "stream",
     "text": [
      "Better Model Identified by Resizing Images to (16, 16): 0.9742441209406496\n",
      "CPU times: user 12min 3s, sys: 11.8 s, total: 12min 15s\n",
      "Wall time: 9min 38s\n"
     ]
    },
    {
     "data": {
      "text/plain": [
       "{'features':       pixel0  pixel1  pixel2  pixel3  pixel4  pixel5  pixel6  pixel7  pixel8  \\\n",
       " 54         0       0       1       1       0       7      29      31      29   \n",
       " 2602       1       1       3       3       1       3      32      52      42   \n",
       " 3433       0       1       3       3       1       3       0       0       0   \n",
       " 235        0      11      38      30      44      62      54      54      54   \n",
       " 1806       0       4       4       4       4       4       4       4       4   \n",
       " ...      ...     ...     ...     ...     ...     ...     ...     ...     ...   \n",
       " 3330       0       0       0       0       0       0       0       0       0   \n",
       " 70        25       0       2       3       2       1       4      11      11   \n",
       " 132        0       0       0       0       0       8      32      62      78   \n",
       " 2014       5       5       5       5       5       5       5       5       5   \n",
       " 1931       1       1       1       0       0      79     176     210     217   \n",
       " \n",
       "       pixel9  ...  pixel246  pixel247  pixel248  pixel249  pixel250  pixel251  \\\n",
       " 54        10  ...        56        81        76        39         0         0   \n",
       " 2602      39  ...        85       121       118        79        58         9   \n",
       " 3433       0  ...       144       187       187       146        72         0   \n",
       " 235       69  ...        54        89        89        78        59        38   \n",
       " 1806       4  ...       143       133       129       135       116        97   \n",
       " ...      ...  ...       ...       ...       ...       ...       ...       ...   \n",
       " 3330       0  ...         0         0         0         0         0         0   \n",
       " 70         6  ...        14        23        25        17        12        12   \n",
       " 132       59  ...        56        71        67        54        20         0   \n",
       " 2014       5  ...       133       151       107       145       147       163   \n",
       " 1931     241  ...       187       183       173       158       153       134   \n",
       " \n",
       "       pixel252  pixel253  pixel254  pixel255  \n",
       " 54           1         1         0         0  \n",
       " 2602         1         3         3         1  \n",
       " 3433         0         3         1         0  \n",
       " 235         32        40        14         0  \n",
       " 1806       177        19         2         0  \n",
       " ...        ...       ...       ...       ...  \n",
       " 3330         0         0         0         0  \n",
       " 70          11         9         9         9  \n",
       " 132          0         0         0         0  \n",
       " 2014       125        56         2         7  \n",
       " 1931        32         0         1         1  \n",
       " \n",
       " [3220 rows x 256 columns],\n",
       " 'best_model': KNeighborsClassifier(n_neighbors=1, p=1),\n",
       " 'best_params': {'n_neighbors': 1, 'p': 1, 'weights': 'uniform'},\n",
       " 'oos_probs': 54      1.0\n",
       " 2602    0.0\n",
       " 3433    0.0\n",
       " 235     1.0\n",
       " 1806    1.0\n",
       "        ... \n",
       " 3330    0.0\n",
       " 70      1.0\n",
       " 132     1.0\n",
       " 2014    1.0\n",
       " 1931    1.0\n",
       " Name: label, Length: 3220, dtype: float64,\n",
       " 'oos_preds': 54      1\n",
       " 2602    0\n",
       " 3433    0\n",
       " 235     1\n",
       " 1806    1\n",
       "        ..\n",
       " 3330    0\n",
       " 70      1\n",
       " 132     1\n",
       " 2014    1\n",
       " 1931    1\n",
       " Name: label, Length: 3220, dtype: uint8,\n",
       " 'best_thresh': 0.5,\n",
       " 'best_score': 0.9742441209406496,\n",
       " 'best_preprocess': '(Initial Standardization/Resizing to (16, 16))'}"
      ]
     },
     "execution_count": 13,
     "metadata": {},
     "output_type": "execute_result"
    }
   ],
   "source": [
    "%%time\n",
    "knn_test_12 = automate_optimal_model_dev(X = resize_dataset(train_x,(256,256),(16,16)), \n",
    "                                        y = train_y,\n",
    "                                        model = KNeighborsClassifier(metric='minkowski'),\n",
    "                                        param_grid={'n_neighbors':[1,3,5], 'p':[1,2], 'weights':['uniform','distance']},\n",
    "                                        preprocessing_eval_order = ['bin/crop','blur','pool'])\n",
    "knn_test_12"
   ]
  },
  {
   "cell_type": "code",
   "execution_count": 14,
   "id": "219b3163",
   "metadata": {},
   "outputs": [],
   "source": [
    "with open('KNN_auto_resize_results/knn_test_12.pickle', 'wb') as handle:\n",
    "    pickle.dump(knn_test_12, handle, protocol=pickle.HIGHEST_PROTOCOL)"
   ]
  },
  {
   "cell_type": "code",
   "execution_count": null,
   "id": "f7e99829",
   "metadata": {},
   "outputs": [],
   "source": []
  }
 ],
 "metadata": {
  "kernelspec": {
   "display_name": "Python 3",
   "language": "python",
   "name": "python3"
  },
  "language_info": {
   "codemirror_mode": {
    "name": "ipython",
    "version": 3
   },
   "file_extension": ".py",
   "mimetype": "text/x-python",
   "name": "python",
   "nbconvert_exporter": "python",
   "pygments_lexer": "ipython3",
   "version": "3.8.12"
  }
 },
 "nbformat": 4,
 "nbformat_minor": 5
}
