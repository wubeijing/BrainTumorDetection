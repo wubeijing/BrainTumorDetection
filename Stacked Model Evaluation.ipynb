{
 "cells": [
  {
   "cell_type": "markdown",
   "id": "ebfeba2c",
   "metadata": {},
   "source": [
    "# Import Necessary Packages and Libraries"
   ]
  },
  {
   "cell_type": "code",
   "execution_count": 1,
   "id": "dcf53b06",
   "metadata": {},
   "outputs": [
    {
     "name": "stderr",
     "output_type": "stream",
     "text": [
      "C:\\Users\\AGatt\\anaconda3\\lib\\site-packages\\xgboost\\compat.py:36: FutureWarning: pandas.Int64Index is deprecated and will be removed from pandas in a future version. Use pandas.Index with the appropriate dtype instead.\n",
      "  from pandas import MultiIndex, Int64Index\n"
     ]
    }
   ],
   "source": [
    "# IMAGE PREPROCESSING FUNCTIONS FOR USE IN MODEL DEVELOPMENT, EVALUATION, AND PRODUCTION\n",
    "import numpy as np\n",
    "import pandas as pd\n",
    "import PIL as pil\n",
    "import PIL\n",
    "import matplotlib.pyplot as plt\n",
    "import seaborn as sns\n",
    "from os import listdir\n",
    "from os.path import isfile, join\n",
    "import tempfile\n",
    "import pickle\n",
    "import time\n",
    "import gc\n",
    "import skimage.filters\n",
    "import cv2\n",
    "import watermark\n",
    "import joblib\n",
    "import math\n",
    "import sys\n",
    "from skimage.measure import block_reduce\n",
    "from image_preprocessing import standardize_image_dataset,resize_dataset,binarize_dataset,crop_dataset,process_dataset_blur,do_pooling_dataset\n",
    "from pipeline import model_pipeline\n",
    "from automate_optimal_model_dev import automate_optimal_model_dev\n",
    "from eval_on_test import make_preds\n",
    "\n",
    "from sklearn.neighbors import KNeighborsClassifier\n",
    "from sklearn.tree import DecisionTreeClassifier\n",
    "from sklearn.ensemble import RandomForestClassifier,GradientBoostingClassifier\n",
    "from sklearn.linear_model import LogisticRegression\n",
    "from sklearn.naive_bayes import CategoricalNB,GaussianNB\n",
    "from sklearn.svm import SVC\n",
    "from xgboost import XGBClassifier\n",
    "from sklearn.model_selection import GridSearchCV,KFold\n",
    "from sklearn.metrics import accuracy_score,f1_score\n",
    "from sklearn.base import clone\n",
    "from sklearn.metrics import confusion_matrix"
   ]
  },
  {
   "cell_type": "markdown",
   "id": "fcb393c3",
   "metadata": {},
   "source": [
    "# Read in Test Data"
   ]
  },
  {
   "cell_type": "code",
   "execution_count": 2,
   "id": "47788d03",
   "metadata": {},
   "outputs": [],
   "source": [
    "test_data = pickle.load(open('Amit/Labeled Data/test_data.pkl','rb'))\n",
    "y = test_data['label']\n",
    "x = test_data.iloc[:,:-1]"
   ]
  },
  {
   "cell_type": "markdown",
   "id": "449f602d",
   "metadata": {},
   "source": [
    "# Load in Optimal Layer 1 Models"
   ]
  },
  {
   "cell_type": "code",
   "execution_count": 3,
   "id": "4cc18a75",
   "metadata": {},
   "outputs": [],
   "source": [
    "%%capture\n",
    "knn = pickle.load(open('KNN_auto_resize_results/knn_test_12.pickle','rb'))\n",
    "knn.pop('features')\n",
    "gbct = pickle.load(open('Partition Based Model Results/gbct1.pkl','rb'))\n",
    "gbct.pop('features')\n",
    "log_reg = pickle.load(open('Linear Model Results/logistic_regression.pkl','rb'))\n",
    "gaussian_nb = pickle.load(open('nb_model_results/top_gaussian_model.pickle','rb'))\n",
    "gaussian_nb.pop('features')"
   ]
  },
  {
   "cell_type": "markdown",
   "id": "3d5535b0",
   "metadata": {},
   "source": [
    "# Load in Optimal Layer 2 Models"
   ]
  },
  {
   "cell_type": "code",
   "execution_count": 4,
   "id": "57bf0ac7",
   "metadata": {},
   "outputs": [],
   "source": [
    "log_reg_finallayer = pickle.load(open('Stacked Model Results/logreg.pkl','rb'))\n",
    "gnb_finallayer = pickle.load(open('Stacked Model Results/gnb.pkl','rb'))"
   ]
  },
  {
   "cell_type": "markdown",
   "id": "3c66589b",
   "metadata": {},
   "source": [
    "# Make Predictions From Layer 1 Models to Use as Input for Layer 2 Model"
   ]
  },
  {
   "cell_type": "markdown",
   "id": "d03e910e",
   "metadata": {},
   "source": [
    "#### KNN Prediction"
   ]
  },
  {
   "cell_type": "code",
   "execution_count": 5,
   "id": "6770a543",
   "metadata": {},
   "outputs": [
    {
     "name": "stdout",
     "output_type": "stream",
     "text": [
      "{'probs': array([0., 1., 0., ..., 1., 1., 0.]), 'preds': array([0, 1, 0, ..., 1, 1, 0]), 'f1 score': 0.9803389830508474, 'accuracy': 0.9789855072463768, 'confusion_matrix': array([[628,  18],\n",
      "       [ 11, 723]], dtype=int64)}\n"
     ]
    }
   ],
   "source": [
    "knn_preds = make_preds(x,y,[('resize',[(256,256),(16,16)]), ('resize',[(16,16),(16,16)])],\n",
    "                   knn['best_model'],\n",
    "                   knn['best_thresh'],return_features=False)\n",
    "print(knn_preds)\n",
    "knn_preds = knn_preds['probs']"
   ]
  },
  {
   "cell_type": "markdown",
   "id": "0ebe04a2",
   "metadata": {},
   "source": [
    "#### Gradient Boosted Classification Trees Prediction"
   ]
  },
  {
   "cell_type": "code",
   "execution_count": 6,
   "id": "fca294bb",
   "metadata": {},
   "outputs": [
    {
     "name": "stdout",
     "output_type": "stream",
     "text": [
      "{'probs': array([0.06696427, 0.9965784 , 0.33431814, ..., 0.99881066, 0.98973255,\n",
      "       0.56279354]), 'preds': array([0, 1, 0, ..., 1, 1, 1]), 'f1 score': 0.9663526244952894, 'accuracy': 0.9637681159420289, 'confusion_matrix': array([[612,  34],\n",
      "       [ 16, 718]], dtype=int64)}\n"
     ]
    }
   ],
   "source": [
    "gbct_preds = make_preds(x,y,[('resize',[(256,256),(32,32)]),\n",
    "               ('resize',[(32,32),(16,16)])],gbct['best_model'],gbct['best_thresh'],return_features=False)\n",
    "print(gbct_preds)\n",
    "gbct_preds = gbct_preds['probs']"
   ]
  },
  {
   "cell_type": "markdown",
   "id": "727dd5be",
   "metadata": {},
   "source": [
    "#### Log Reg Model Predictions"
   ]
  },
  {
   "cell_type": "code",
   "execution_count": 7,
   "id": "920a10f9",
   "metadata": {},
   "outputs": [
    {
     "name": "stdout",
     "output_type": "stream",
     "text": [
      "{'probs': array([0.00440583, 0.99870898, 0.9974342 , ..., 0.99782436, 0.9999713 ,\n",
      "       0.99999403]), 'preds': array([0, 1, 1, ..., 1, 1, 1]), 'f1 score': 0.9572192513368983, 'accuracy': 0.9536231884057971, 'confusion_matrix': array([[600,  46],\n",
      "       [ 18, 716]], dtype=int64)}\n"
     ]
    }
   ],
   "source": [
    "logreg_preds = make_preds(do_pooling_dataset(resize_dataset(x,(256,256),(256,256)),(2,2),np.max).astype('uint8'),y,[],\n",
    "                          log_reg['best_estimator'],log_reg['threshold_analysis']['best_thresh'],return_features=False)\n",
    "print(logreg_preds)\n",
    "logreg_preds = logreg_preds['probs']"
   ]
  },
  {
   "cell_type": "markdown",
   "id": "023d78f2",
   "metadata": {},
   "source": [
    "#### Gaussian NB Model Predictions"
   ]
  },
  {
   "cell_type": "code",
   "execution_count": 8,
   "id": "fde81d6e",
   "metadata": {},
   "outputs": [
    {
     "name": "stdout",
     "output_type": "stream",
     "text": [
      "{'features':       0    1    2    3    4    5    6   7    8    9   ...   54   55   56   57  \\\n",
      "3949   0    0    0    0    0    0    0   0    5  126  ...  123   78    0    0   \n",
      "230   96  110  124  127  127  125  126  98  110  127  ...  127   23  108   39   \n",
      "354    0   30  114  127  125  126   13   0    0  127  ...  121    0    0    1   \n",
      "2736   0    1    1   18   18    0    0   0    0    3  ...  117    1    0    0   \n",
      "3540   0   10  126  124  127  126   11   0    0  126  ...  127    2    8  116   \n",
      "...   ..  ...  ...  ...  ...  ...  ...  ..  ...  ...  ...  ...  ...  ...  ...   \n",
      "1776   4   71  117  127  126  119    6   4    6  126  ...   93   26  125  126   \n",
      "1791   9    4  102  125  115  118    4   5   12  105  ...   61    8    5   74   \n",
      "2099   0    5    7   14    7    5    7   0    0   67  ...   10    0    0    4   \n",
      "53     1    1  123  127  124  122    1   1    1  127  ...  127    1    1  124   \n",
      "3857   9    9  115  127  124  125  122   8   17  113  ...  126  116   64   98   \n",
      "\n",
      "       58   59   60   61   62   63  \n",
      "3949    0    0    0    0    0    0  \n",
      "230   123  127  127  125   30   19  \n",
      "354   127  127  126  126    3    0  \n",
      "2736    0    0    1    2    1    0  \n",
      "3540  123  125  126  111   57    0  \n",
      "...   ...  ...  ...  ...  ...  ...  \n",
      "1776   81   67   61   58   87  121  \n",
      "1791  101  106  123  107    6    4  \n",
      "2099    6    7    8    5    5    0  \n",
      "53    127  127  127  124   29    1  \n",
      "3857   78   90   90  124  127  122  \n",
      "\n",
      "[1380 rows x 64 columns], 'probs': array([0.99999997, 0.99999981, 0.63917464, ..., 0.00227248, 0.99671088,\n",
      "       1.        ]), 'preds': array([1, 1, 1, ..., 0, 1, 1], dtype=int64), 'f1 score': 0.7286288009179576, 'accuracy': 0.6572463768115943, 'confusion_matrix': array([[272, 374],\n",
      "       [ 99, 635]], dtype=int64)}\n"
     ]
    }
   ],
   "source": [
    "gnb_preds = pickle.load(open('nb_model_results/top_gaussian_model_predictions.pickle','rb'))\n",
    "print(gnb_preds)\n",
    "gnb_preds = gnb_preds['probs']"
   ]
  },
  {
   "cell_type": "markdown",
   "id": "3ab03886",
   "metadata": {},
   "source": [
    "#### Create Test Feature Data For Final Layer Model"
   ]
  },
  {
   "cell_type": "code",
   "execution_count": 13,
   "id": "38ddca59",
   "metadata": {},
   "outputs": [],
   "source": [
    "final_features = pd.DataFrame()\n",
    "final_features['knn'] = knn_preds\n",
    "final_features['gbct'] = gbct_preds\n",
    "final_features['logreg'] = logreg_preds\n",
    "final_features['gaussian_nb'] = gnb_preds\n",
    "final_features.index = x.index"
   ]
  },
  {
   "cell_type": "markdown",
   "id": "7913976a",
   "metadata": {},
   "source": [
    "# Evaluate Test Feature Data for Final Layer Model (Predictions from Layer 1) to Get Final Evaluation of Stacked Model Performance"
   ]
  },
  {
   "cell_type": "markdown",
   "id": "9d13f054",
   "metadata": {},
   "source": [
    "#### LogReg as Final Layer"
   ]
  },
  {
   "cell_type": "code",
   "execution_count": 18,
   "id": "3a62df6b",
   "metadata": {},
   "outputs": [
    {
     "data": {
      "text/plain": [
       "{'probs': array([0.01590537, 0.99368672, 0.21933773, ..., 0.97324205, 0.99349726,\n",
       "        0.54924692]),\n",
       " 'preds': array([0, 1, 0, ..., 1, 1, 1]),\n",
       " 'f1 score': 0.979702300405954,\n",
       " 'accuracy': 0.9782608695652174,\n",
       " 'confusion_matrix': array([[626,  20],\n",
       "        [ 10, 724]], dtype=int64)}"
      ]
     },
     "execution_count": 18,
     "metadata": {},
     "output_type": "execute_result"
    }
   ],
   "source": [
    "make_preds(final_features,y,[],log_reg_finallayer['best_estimator'],log_reg_finallayer['threshold_analysis']['best_thresh'],\n",
    "          return_features=False)"
   ]
  },
  {
   "cell_type": "markdown",
   "id": "79428385",
   "metadata": {},
   "source": [
    "#### Gaussian NB as Final Layer"
   ]
  },
  {
   "cell_type": "code",
   "execution_count": 20,
   "id": "3e1d4eab",
   "metadata": {},
   "outputs": [
    {
     "data": {
      "text/plain": [
       "{'probs': array([5.19658991e-11, 1.00000000e+00, 3.07721155e-04, ...,\n",
       "        9.99999998e-01, 1.00000000e+00, 2.76445234e-02]),\n",
       " 'preds': array([0, 1, 0, ..., 1, 1, 0]),\n",
       " 'f1 score': 0.981081081081081,\n",
       " 'accuracy': 0.9797101449275363,\n",
       " 'confusion_matrix': array([[626,  20],\n",
       "        [  8, 726]], dtype=int64)}"
      ]
     },
     "execution_count": 20,
     "metadata": {},
     "output_type": "execute_result"
    }
   ],
   "source": [
    "make_preds(final_features,y,[],gnb_finallayer['best_estimator'],gnb_finallayer['threshold_analysis']['best_thresh'],\n",
    "          return_features=False)"
   ]
  },
  {
   "cell_type": "code",
   "execution_count": null,
   "id": "16ac734b",
   "metadata": {},
   "outputs": [],
   "source": []
  }
 ],
 "metadata": {
  "kernelspec": {
   "display_name": "Python 3",
   "language": "python",
   "name": "python3"
  },
  "language_info": {
   "codemirror_mode": {
    "name": "ipython",
    "version": 3
   },
   "file_extension": ".py",
   "mimetype": "text/x-python",
   "name": "python",
   "nbconvert_exporter": "python",
   "pygments_lexer": "ipython3",
   "version": "3.8.8"
  }
 },
 "nbformat": 4,
 "nbformat_minor": 5
}
