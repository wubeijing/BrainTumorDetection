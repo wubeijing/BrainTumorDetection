{
 "cells": [
  {
   "cell_type": "markdown",
   "id": "f562be18",
   "metadata": {},
   "source": [
    "# Import Necessary Packages and Libraries"
   ]
  },
  {
   "cell_type": "code",
   "execution_count": 8,
   "id": "6c8aa20a",
   "metadata": {},
   "outputs": [
    {
     "name": "stdout",
     "output_type": "stream",
     "text": [
      "Requirement already satisfied: watermark in /home/ec2-user/anaconda3/envs/tensorflow2_p36/lib/python3.6/site-packages (2.0.2)\n",
      "Requirement already satisfied: ipython in /home/ec2-user/anaconda3/envs/tensorflow2_p36/lib/python3.6/site-packages (from watermark) (7.16.1)\n",
      "Requirement already satisfied: pexpect in /home/ec2-user/anaconda3/envs/tensorflow2_p36/lib/python3.6/site-packages (from ipython->watermark) (4.8.0)\n",
      "Requirement already satisfied: prompt-toolkit!=3.0.0,!=3.0.1,<3.1.0,>=2.0.0 in /home/ec2-user/anaconda3/envs/tensorflow2_p36/lib/python3.6/site-packages (from ipython->watermark) (3.0.5)\n",
      "Requirement already satisfied: decorator in /home/ec2-user/anaconda3/envs/tensorflow2_p36/lib/python3.6/site-packages (from ipython->watermark) (4.4.2)\n",
      "Requirement already satisfied: pygments in /home/ec2-user/anaconda3/envs/tensorflow2_p36/lib/python3.6/site-packages (from ipython->watermark) (2.8.0)\n",
      "Requirement already satisfied: jedi>=0.10 in /home/ec2-user/anaconda3/envs/tensorflow2_p36/lib/python3.6/site-packages (from ipython->watermark) (0.17.2)\n",
      "Requirement already satisfied: traitlets>=4.2 in /home/ec2-user/anaconda3/envs/tensorflow2_p36/lib/python3.6/site-packages (from ipython->watermark) (4.3.3)\n",
      "Requirement already satisfied: setuptools>=18.5 in /home/ec2-user/anaconda3/envs/tensorflow2_p36/lib/python3.6/site-packages (from ipython->watermark) (49.6.0.post20210108)\n",
      "Requirement already satisfied: pickleshare in /home/ec2-user/anaconda3/envs/tensorflow2_p36/lib/python3.6/site-packages (from ipython->watermark) (0.7.5)\n",
      "Requirement already satisfied: backcall in /home/ec2-user/anaconda3/envs/tensorflow2_p36/lib/python3.6/site-packages (from ipython->watermark) (0.2.0)\n",
      "Requirement already satisfied: parso<0.8.0,>=0.7.0 in /home/ec2-user/anaconda3/envs/tensorflow2_p36/lib/python3.6/site-packages (from jedi>=0.10->ipython->watermark) (0.7.0)\n",
      "Requirement already satisfied: wcwidth in /home/ec2-user/anaconda3/envs/tensorflow2_p36/lib/python3.6/site-packages (from prompt-toolkit!=3.0.0,!=3.0.1,<3.1.0,>=2.0.0->ipython->watermark) (0.2.5)\n",
      "Requirement already satisfied: six in /home/ec2-user/anaconda3/envs/tensorflow2_p36/lib/python3.6/site-packages (from traitlets>=4.2->ipython->watermark) (1.15.0)\n",
      "Requirement already satisfied: ipython-genutils in /home/ec2-user/anaconda3/envs/tensorflow2_p36/lib/python3.6/site-packages (from traitlets>=4.2->ipython->watermark) (0.2.0)\n",
      "Requirement already satisfied: ptyprocess>=0.5 in /home/ec2-user/anaconda3/envs/tensorflow2_p36/lib/python3.6/site-packages (from pexpect->ipython->watermark) (0.7.0)\n",
      "Requirement already satisfied: xgboost in /home/ec2-user/anaconda3/envs/tensorflow2_p36/lib/python3.6/site-packages (1.5.2)\n",
      "Requirement already satisfied: scipy in /home/ec2-user/anaconda3/envs/tensorflow2_p36/lib/python3.6/site-packages (from xgboost) (1.5.3)\n",
      "Requirement already satisfied: numpy in /home/ec2-user/anaconda3/envs/tensorflow2_p36/lib/python3.6/site-packages (from xgboost) (1.19.5)\n"
     ]
    }
   ],
   "source": [
    "!pip install watermark\n",
    "\n",
    "!pip install xgboost"
   ]
  },
  {
   "cell_type": "code",
   "execution_count": 1,
   "id": "3b523ece",
   "metadata": {},
   "outputs": [],
   "source": [
    "# IMAGE PREPROCESSING FUNCTIONS FOR USE IN MODEL DEVELOPMENT, EVALUATION, AND PRODUCTION\n",
    "import numpy as np\n",
    "import pandas as pd\n",
    "import PIL as pil\n",
    "import PIL\n",
    "import matplotlib.pyplot as plt\n",
    "import seaborn as sns\n",
    "from os import listdir\n",
    "from os.path import isfile, join\n",
    "import tempfile\n",
    "import pickle\n",
    "import time\n",
    "import gc\n",
    "import skimage.filters\n",
    "import cv2\n",
    "import watermark\n",
    "import joblib\n",
    "import math\n",
    "import sys\n",
    "from skimage.measure import block_reduce\n",
    "from image_preprocessing import standardize_image_dataset,resize_dataset,binarize_dataset,crop_dataset,process_dataset_blur,do_pooling_dataset\n",
    "from pipeline import model_pipeline\n",
    "from automate_optimal_model_dev import automate_optimal_model_dev\n",
    "from eval_on_test import make_preds\n",
    "\n",
    "from sklearn.neighbors import KNeighborsClassifier\n",
    "from sklearn.tree import DecisionTreeClassifier\n",
    "from sklearn.ensemble import RandomForestClassifier,GradientBoostingClassifier\n",
    "from sklearn.linear_model import LogisticRegression\n",
    "from sklearn.naive_bayes import CategoricalNB,GaussianNB\n",
    "from sklearn.svm import SVC\n",
    "from xgboost import XGBClassifier\n",
    "from sklearn.model_selection import GridSearchCV,KFold\n",
    "from sklearn.metrics import accuracy_score,f1_score\n",
    "from sklearn.base import clone\n",
    "from sklearn.metrics import confusion_matrix"
   ]
  },
  {
   "cell_type": "code",
   "execution_count": 2,
   "id": "58cf2373",
   "metadata": {},
   "outputs": [],
   "source": [
    "import warnings\n",
    "warnings.filterwarnings('ignore')"
   ]
  },
  {
   "cell_type": "markdown",
   "id": "f12d8b14",
   "metadata": {},
   "source": [
    "# Read in Training Data"
   ]
  },
  {
   "cell_type": "code",
   "execution_count": 3,
   "id": "7c65180f",
   "metadata": {},
   "outputs": [],
   "source": [
    "training_data = pickle.load(open('Amit/Labeled Data/train_data.pkl','rb'))\n",
    "train_X, train_y = training_data.iloc[:,:-1],training_data.iloc[:,-1]"
   ]
  },
  {
   "cell_type": "code",
   "execution_count": 4,
   "id": "442ee98a",
   "metadata": {},
   "outputs": [
    {
     "name": "stdout",
     "output_type": "stream",
     "text": [
      "CPU times: user 3min 7s, sys: 1.25 s, total: 3min 8s\n",
      "Wall time: 3min 14s\n"
     ]
    },
    {
     "data": {
      "text/plain": [
       "29"
      ]
     },
     "execution_count": 4,
     "metadata": {},
     "output_type": "execute_result"
    }
   ],
   "source": [
    "%%time\n",
    "all_data = pickle.load(open('Amit/Labeled Data/train_data.pkl','rb'))\n",
    "train_x,train_y = all_data.iloc[:,:-1],all_data.iloc[:,-1]\n",
    "resized_16_16_train_x = resize_dataset(train_x,(256,256),(16,16))\n",
    "del all_data\n",
    "gc.collect()\n"
   ]
  },
  {
   "cell_type": "markdown",
   "id": "49bba170",
   "metadata": {},
   "source": [
    "### Logistic Regression Test Example"
   ]
  },
  {
   "cell_type": "code",
   "execution_count": 5,
   "id": "ab8cf6ee",
   "metadata": {},
   "outputs": [],
   "source": [
    "param_grid = {'C':[0.00001,0.0001, 0.001],\n",
    "    'max_iter':[100]}"
   ]
  },
  {
   "cell_type": "code",
   "execution_count": 6,
   "id": "88574dc4",
   "metadata": {},
   "outputs": [
    {
     "name": "stdout",
     "output_type": "stream",
     "text": [
      "CPU times: user 34min 30s, sys: 24min 56s, total: 59min 27s\n",
      "Wall time: 18min 54s\n"
     ]
    }
   ],
   "source": [
    "%%time\n",
    "\n",
    "test_model_1 = model_pipeline()\n",
    "test_model_1_result = test_model_1.evaluate(train_X,\n",
    "                     train_y,\n",
    "                     preprocessing = [('binarize',[True,0.3]),\n",
    "                                 ('crop',[(256,256),(256,256)]),\n",
    "                                 ('blur',['g',(256,256),(5,5),0,0]),\n",
    "                                 ('pool',[(2,2),np.max])],\n",
    "                     model = LogisticRegression(),\n",
    "                     param_grid=param_grid,\n",
    "                     optimizing_metric='f1',\n",
    "                     n_splits=5,\n",
    "                     return_transformed_features = False, \n",
    "                     return_grid = True, \n",
    "                     return_score = True, \n",
    "                     return_best_estimator = True, \n",
    "                     return_best_params = True, \n",
    "                     return_oos_pred = True, \n",
    "                     return_oos_prob = True, \n",
    "                     return_threshold_analysis=True)\n",
    "                        \n",
    "                           "
   ]
  },
  {
   "cell_type": "code",
   "execution_count": 7,
   "id": "c354b149",
   "metadata": {},
   "outputs": [
    {
     "data": {
      "text/plain": [
       "{'grid_search': GridSearchCV(cv=5, estimator=LogisticRegression(),\n",
       "              param_grid={'C': [1e-05, 0.0001, 0.001], 'max_iter': [100]},\n",
       "              scoring='f1'),\n",
       " 'best_estimator': LogisticRegression(C=0.001),\n",
       " 'best_params': {'C': 0.001, 'max_iter': 100},\n",
       " 'best_score': 0.8828109699751993,\n",
       " 'oos_preds': 54      1\n",
       " 2602    0\n",
       " 3433    0\n",
       " 235     1\n",
       " 1806    1\n",
       "        ..\n",
       " 3330    0\n",
       " 70      1\n",
       " 132     1\n",
       " 2014    1\n",
       " 1931    1\n",
       " Name: label, Length: 3220, dtype: uint8,\n",
       " 'oos_probs': 54      5.834433e-01\n",
       " 2602    9.182161e-10\n",
       " 3433    2.946750e-03\n",
       " 235     9.999996e-01\n",
       " 1806    9.979477e-01\n",
       "             ...     \n",
       " 3330    1.563207e-05\n",
       " 70      6.152530e-01\n",
       " 132     9.999999e-01\n",
       " 2014    9.999998e-01\n",
       " 1931    1.000000e+00\n",
       " Name: label, Length: 3220, dtype: float64,\n",
       " 'threshold_analysis': {'best_thresh': 0.5,\n",
       "  'best_score': 0.8864388092613009,\n",
       "  'best_preds': 54      1\n",
       "  2602    0\n",
       "  3433    0\n",
       "  235     1\n",
       "  1806    1\n",
       "         ..\n",
       "  3330    0\n",
       "  70      1\n",
       "  132     1\n",
       "  2014    1\n",
       "  1931    1\n",
       "  Name: label, Length: 3220, dtype: uint8}}"
      ]
     },
     "execution_count": 7,
     "metadata": {},
     "output_type": "execute_result"
    }
   ],
   "source": [
    "test_model_1_result"
   ]
  },
  {
   "cell_type": "code",
   "execution_count": 8,
   "id": "b79e24de",
   "metadata": {},
   "outputs": [],
   "source": [
    "pickle.dump(test_model_1_result,open('linear_model_results/log_reg_test_model_1_result.pkl','wb'))"
   ]
  },
  {
   "cell_type": "code",
   "execution_count": 9,
   "id": "18bd9643",
   "metadata": {},
   "outputs": [
    {
     "name": "stdout",
     "output_type": "stream",
     "text": [
      "CPU times: user 33min 43s, sys: 24min 8s, total: 57min 52s\n",
      "Wall time: 18min 45s\n"
     ]
    }
   ],
   "source": [
    "%%time\n",
    "\n",
    "test_model_2 = model_pipeline()\n",
    "test_model_2_result = test_model_2.evaluate(train_X,\n",
    "                     train_y,\n",
    "                     preprocessing = [('binarize',[True,0.35]),\n",
    "                                 ('crop',[(256,256),(256,256)]),\n",
    "                                 ('blur',['g',(256,256),(5,5),0,0]),\n",
    "                                 ('pool',[(2,2),np.max])],\n",
    "                     model = LogisticRegression(),\n",
    "                     param_grid=param_grid,\n",
    "                     optimizing_metric='f1',\n",
    "                     n_splits=5,\n",
    "                     return_transformed_features = False, \n",
    "                     return_grid = True, \n",
    "                     return_score = True, \n",
    "                     return_best_estimator = True, \n",
    "                     return_best_params = True, \n",
    "                     return_oos_pred = True, \n",
    "                     return_oos_prob = True, \n",
    "                     return_threshold_analysis=True)\n",
    "                        \n",
    "                           "
   ]
  },
  {
   "cell_type": "code",
   "execution_count": 10,
   "id": "6ea7eb43",
   "metadata": {},
   "outputs": [
    {
     "data": {
      "text/plain": [
       "{'grid_search': GridSearchCV(cv=5, estimator=LogisticRegression(),\n",
       "              param_grid={'C': [1e-05, 0.0001, 0.001], 'max_iter': [100]},\n",
       "              scoring='f1'),\n",
       " 'best_estimator': LogisticRegression(C=0.001),\n",
       " 'best_params': {'C': 0.001, 'max_iter': 100},\n",
       " 'best_score': 0.8828109699751993,\n",
       " 'oos_preds': 54      1\n",
       " 2602    0\n",
       " 3433    0\n",
       " 235     1\n",
       " 1806    1\n",
       "        ..\n",
       " 3330    0\n",
       " 70      1\n",
       " 132     1\n",
       " 2014    1\n",
       " 1931    1\n",
       " Name: label, Length: 3220, dtype: uint8,\n",
       " 'oos_probs': 54      5.834433e-01\n",
       " 2602    9.182161e-10\n",
       " 3433    2.946750e-03\n",
       " 235     9.999996e-01\n",
       " 1806    9.979477e-01\n",
       "             ...     \n",
       " 3330    1.563207e-05\n",
       " 70      6.152530e-01\n",
       " 132     9.999999e-01\n",
       " 2014    9.999998e-01\n",
       " 1931    1.000000e+00\n",
       " Name: label, Length: 3220, dtype: float64,\n",
       " 'threshold_analysis': {'best_thresh': 0.5,\n",
       "  'best_score': 0.8864388092613009,\n",
       "  'best_preds': 54      1\n",
       "  2602    0\n",
       "  3433    0\n",
       "  235     1\n",
       "  1806    1\n",
       "         ..\n",
       "  3330    0\n",
       "  70      1\n",
       "  132     1\n",
       "  2014    1\n",
       "  1931    1\n",
       "  Name: label, Length: 3220, dtype: uint8}}"
      ]
     },
     "execution_count": 10,
     "metadata": {},
     "output_type": "execute_result"
    }
   ],
   "source": [
    "test_model_2_result"
   ]
  },
  {
   "cell_type": "code",
   "execution_count": 11,
   "id": "0e14f77e",
   "metadata": {},
   "outputs": [],
   "source": [
    "pickle.dump(test_model_2_result,open('linear_model_results/log_reg_test_model_1_result.pkl','wb'))"
   ]
  },
  {
   "cell_type": "code",
   "execution_count": null,
   "id": "5a59c52b",
   "metadata": {},
   "outputs": [
    {
     "name": "stdout",
     "output_type": "stream",
     "text": [
      "Better Model Identified by Resizing Images to (16, 16): 0.8087912087912089\n",
      "Better Model Identified by Resizing Images to (32, 32): 0.9126807563959956\n",
      "Better Model Identified by Resizing Images to (64, 64): 0.9338214587440157\n",
      "Better Model Identified by Resizing Images to (128, 128): 0.940980881130507\n",
      "Better Model Identified by Resizing Images to (256, 256): 0.9424460431654675\n",
      "Better Model Identified W/ Pooling, Score = 0.9444597955236254\n"
     ]
    }
   ],
   "source": [
    "%%time\n",
    "\n",
    "optimal_test_1_logreg = automate_optimal_model_dev(X = train_X,y = train_y,\n",
    "                                    model = LogisticRegression(),\n",
    "                                    param_grid={'C':[0.0001,0.001,0.01,0.1, 1],\n",
    "                                                'max_iter':[1000]},\n",
    "                                    preprocessing_eval_order = ['pool','blur','bin/crop'])\n",
    "\n"
   ]
  },
  {
   "cell_type": "code",
   "execution_count": null,
   "id": "dd68735d",
   "metadata": {},
   "outputs": [],
   "source": [
    "optimal_test_1_logreg.pop('features')\n"
   ]
  },
  {
   "cell_type": "code",
   "execution_count": null,
   "id": "36701d7f",
   "metadata": {},
   "outputs": [],
   "source": [
    "pickle.dump(optimal_test_1_logreg,open('linear_model_results/optimal_test_1_logreg.pkl','wb'))\n",
    "print(optimal_test_1_logreg)"
   ]
  },
  {
   "cell_type": "code",
   "execution_count": null,
   "id": "4ab7b021",
   "metadata": {},
   "outputs": [],
   "source": []
  },
  {
   "cell_type": "code",
   "execution_count": null,
   "id": "a12e8c72",
   "metadata": {},
   "outputs": [],
   "source": []
  },
  {
   "cell_type": "code",
   "execution_count": null,
   "id": "5185dd88",
   "metadata": {},
   "outputs": [],
   "source": [
    "%%time\n",
    "\n",
    "optimal_test_2_logreg = automate_optimal_model_dev(X = train_X,y = train_y,\n",
    "                                    model = LogisticRegression(),\n",
    "                                    param_grid={'C':[0.0001,0.001,0.01,0.1, 1],\n",
    "                                                'max_iter':[1000]},\n",
    "                                    preprocessing_eval_order = ['blur','bin/crop', 'pool'])\n",
    "\n"
   ]
  },
  {
   "cell_type": "code",
   "execution_count": null,
   "id": "ac6b4478",
   "metadata": {},
   "outputs": [],
   "source": [
    "optimal_test_2_logreg.pop('features')"
   ]
  },
  {
   "cell_type": "code",
   "execution_count": null,
   "id": "a30e8b59",
   "metadata": {},
   "outputs": [],
   "source": [
    "\n",
    "pickle.dump(optimal_test_2_logreg,open('linear_model_results/optimal_test_2_logreg.pkl','wb'))\n"
   ]
  },
  {
   "cell_type": "code",
   "execution_count": null,
   "id": "d05916e5",
   "metadata": {},
   "outputs": [],
   "source": [
    "\n",
    "print(optimal_test_2_logreg)"
   ]
  },
  {
   "cell_type": "code",
   "execution_count": null,
   "id": "a7478e5f",
   "metadata": {},
   "outputs": [],
   "source": [
    "%%time\n",
    "\n",
    "optimal_test_3_logreg = automate_optimal_model_dev(X = train_X,y = train_y,\n",
    "                                    model = LogisticRegression(),\n",
    "                                    param_grid={'C':[0.0001,0.001,0.01,0.1, 1],\n",
    "                                                'max_iter':[1000]},\n",
    "                                    preprocessing_eval_order = ['bin/crop', 'pool', 'blur'])\n",
    "\n"
   ]
  },
  {
   "cell_type": "code",
   "execution_count": null,
   "id": "a5a47db3",
   "metadata": {},
   "outputs": [],
   "source": [
    "optimal_test_3_logreg.pop('features')\n"
   ]
  },
  {
   "cell_type": "code",
   "execution_count": null,
   "id": "b2771b4c",
   "metadata": {},
   "outputs": [],
   "source": [
    "pickle.dump(optimal_test_3_logreg,open('linear_model_results/optimal_test_3_logreg.pkl','wb'))\n"
   ]
  },
  {
   "cell_type": "code",
   "execution_count": null,
   "id": "a3c9d54c",
   "metadata": {},
   "outputs": [],
   "source": [
    "print(optimal_test_3_logreg)"
   ]
  },
  {
   "cell_type": "code",
   "execution_count": null,
   "id": "ae26bda1",
   "metadata": {},
   "outputs": [],
   "source": []
  },
  {
   "cell_type": "code",
   "execution_count": null,
   "id": "5e300d23",
   "metadata": {},
   "outputs": [],
   "source": []
  }
 ],
 "metadata": {
  "kernelspec": {
   "display_name": "conda_tensorflow2_p36",
   "language": "python",
   "name": "conda_tensorflow2_p36"
  },
  "language_info": {
   "codemirror_mode": {
    "name": "ipython",
    "version": 3
   },
   "file_extension": ".py",
   "mimetype": "text/x-python",
   "name": "python",
   "nbconvert_exporter": "python",
   "pygments_lexer": "ipython3",
   "version": "3.6.13"
  }
 },
 "nbformat": 4,
 "nbformat_minor": 5
}
