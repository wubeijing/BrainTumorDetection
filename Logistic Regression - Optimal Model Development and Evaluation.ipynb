{
 "cells": [
  {
   "cell_type": "markdown",
   "id": "8dd81959",
   "metadata": {},
   "source": [
    "# Import Necessary Packages and Libraries"
   ]
  },
  {
   "cell_type": "code",
   "execution_count": 1,
   "id": "48dc1af6",
   "metadata": {},
   "outputs": [],
   "source": [
    "# IMAGE PREPROCESSING FUNCTIONS FOR USE IN MODEL DEVELOPMENT, EVALUATION, AND PRODUCTION\n",
    "import numpy as np\n",
    "import pandas as pd\n",
    "import PIL as pil\n",
    "import PIL\n",
    "import matplotlib.pyplot as plt\n",
    "import seaborn as sns\n",
    "from os import listdir\n",
    "from os.path import isfile, join\n",
    "import tempfile\n",
    "import pickle\n",
    "import time\n",
    "import gc\n",
    "import skimage.filters\n",
    "import cv2\n",
    "import watermark\n",
    "import joblib\n",
    "import math\n",
    "from skimage.measure import block_reduce\n",
    "from image_preprocessing import standardize_image_dataset,resize_dataset,binarize_dataset,crop_dataset,process_dataset_blur,do_pooling_dataset\n",
    "from pipeline import model_pipeline\n",
    "\n",
    "from sklearn.ensemble import RandomForestClassifier,GradientBoostingClassifier\n",
    "from sklearn.neighbors import KNeighborsClassifier\n",
    "from sklearn.naive_bayes import BernoulliNB,CategoricalNB,GaussianNB\n",
    "from sklearn.linear_model import LogisticRegression\n",
    "from sklearn.discriminant_analysis import LinearDiscriminantAnalysis,QuadraticDiscriminantAnalysis\n",
    "from sklearn.svm import SVC\n",
    "from xgboost import XGBClassifier\n",
    "from sklearn.model_selection import GridSearchCV,KFold\n",
    "from sklearn.metrics import accuracy_score,f1_score\n",
    "from sklearn.base import clone\n",
    "from sklearn.metrics import confusion_matrix"
   ]
  },
  {
   "cell_type": "markdown",
   "id": "851cb51f",
   "metadata": {},
   "source": [
    "# Read in Training Data"
   ]
  },
  {
   "cell_type": "code",
   "execution_count": 2,
   "id": "d6a254ab",
   "metadata": {},
   "outputs": [],
   "source": [
    "all_data = pickle.load(open('Amit/Labeled Data/train_data.pkl','rb'))\n",
    "x = all_data.iloc[:,:-1]\n",
    "y = all_data.iloc[:,-1]"
   ]
  },
  {
   "cell_type": "markdown",
   "id": "863c7c4d",
   "metadata": {},
   "source": [
    "# Develop Optimal Logistic Regression Model using Optimal Preprocessing Steps as identified by Arindam's Run\n",
    "\n",
    "- preprocessing includes resizing to initial size (256,256), and a maxpool with 2x2 filter size\n",
    "- C value = inverse weight of L2 regularization = 0.0001, 1000 maximum iterations for gradient descent for developing optimal hyperplane to separate classes in feature space"
   ]
  },
  {
   "cell_type": "code",
   "execution_count": 3,
   "id": "9da7f6dd",
   "metadata": {},
   "outputs": [],
   "source": [
    "logreg_model = model_pipeline().evaluate(resize_dataset(x,(256,256),(256,256)),y,preprocessing = [('pool',[(2,2),np.max])],\n",
    "                                        model=LogisticRegression(),param_grid = {'C':[0.0001],'max_iter':[1000]},\n",
    "                                        optimizing_metric='f1',n_splits=5)"
   ]
  },
  {
   "cell_type": "code",
   "execution_count": 10,
   "id": "a3cc386f",
   "metadata": {},
   "outputs": [],
   "source": [
    "logreg_model.pop('features')"
   ]
  },
  {
   "cell_type": "code",
   "execution_count": 11,
   "id": "fe512756",
   "metadata": {},
   "outputs": [],
   "source": [
    "pickle.dump(logreg_model,open('Linear Model Results/logistic_regression.pkl','wb'))"
   ]
  },
  {
   "cell_type": "code",
   "execution_count": null,
   "id": "04f47b33",
   "metadata": {},
   "outputs": [],
   "source": []
  }
 ],
 "metadata": {
  "kernelspec": {
   "display_name": "Python 3",
   "language": "python",
   "name": "python3"
  },
  "language_info": {
   "codemirror_mode": {
    "name": "ipython",
    "version": 3
   },
   "file_extension": ".py",
   "mimetype": "text/x-python",
   "name": "python",
   "nbconvert_exporter": "python",
   "pygments_lexer": "ipython3",
   "version": "3.8.8"
  }
 },
 "nbformat": 4,
 "nbformat_minor": 5
}
