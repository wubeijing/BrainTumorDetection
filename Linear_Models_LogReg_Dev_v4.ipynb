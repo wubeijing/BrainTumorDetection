{
 "cells": [
  {
   "cell_type": "markdown",
   "id": "6c28bbc4",
   "metadata": {},
   "source": [
    "# Import Necessary Packages and Libraries"
   ]
  },
  {
   "cell_type": "code",
   "execution_count": 1,
   "id": "a238b82c",
   "metadata": {},
   "outputs": [
    {
     "name": "stdout",
     "output_type": "stream",
     "text": [
      "Requirement already satisfied: watermark in /home/ec2-user/anaconda3/envs/tensorflow2_p36/lib/python3.6/site-packages (2.0.2)\n",
      "Requirement already satisfied: ipython in /home/ec2-user/anaconda3/envs/tensorflow2_p36/lib/python3.6/site-packages (from watermark) (7.16.1)\n",
      "Requirement already satisfied: setuptools>=18.5 in /home/ec2-user/anaconda3/envs/tensorflow2_p36/lib/python3.6/site-packages (from ipython->watermark) (49.6.0.post20210108)\n",
      "Requirement already satisfied: prompt-toolkit!=3.0.0,!=3.0.1,<3.1.0,>=2.0.0 in /home/ec2-user/anaconda3/envs/tensorflow2_p36/lib/python3.6/site-packages (from ipython->watermark) (3.0.5)\n",
      "Requirement already satisfied: pickleshare in /home/ec2-user/anaconda3/envs/tensorflow2_p36/lib/python3.6/site-packages (from ipython->watermark) (0.7.5)\n",
      "Requirement already satisfied: traitlets>=4.2 in /home/ec2-user/anaconda3/envs/tensorflow2_p36/lib/python3.6/site-packages (from ipython->watermark) (4.3.3)\n",
      "Requirement already satisfied: backcall in /home/ec2-user/anaconda3/envs/tensorflow2_p36/lib/python3.6/site-packages (from ipython->watermark) (0.2.0)\n",
      "Requirement already satisfied: pexpect in /home/ec2-user/anaconda3/envs/tensorflow2_p36/lib/python3.6/site-packages (from ipython->watermark) (4.8.0)\n",
      "Requirement already satisfied: jedi>=0.10 in /home/ec2-user/anaconda3/envs/tensorflow2_p36/lib/python3.6/site-packages (from ipython->watermark) (0.17.2)\n",
      "Requirement already satisfied: decorator in /home/ec2-user/anaconda3/envs/tensorflow2_p36/lib/python3.6/site-packages (from ipython->watermark) (4.4.2)\n",
      "Requirement already satisfied: pygments in /home/ec2-user/anaconda3/envs/tensorflow2_p36/lib/python3.6/site-packages (from ipython->watermark) (2.8.0)\n",
      "Requirement already satisfied: parso<0.8.0,>=0.7.0 in /home/ec2-user/anaconda3/envs/tensorflow2_p36/lib/python3.6/site-packages (from jedi>=0.10->ipython->watermark) (0.7.0)\n",
      "Requirement already satisfied: wcwidth in /home/ec2-user/anaconda3/envs/tensorflow2_p36/lib/python3.6/site-packages (from prompt-toolkit!=3.0.0,!=3.0.1,<3.1.0,>=2.0.0->ipython->watermark) (0.2.5)\n",
      "Requirement already satisfied: ipython-genutils in /home/ec2-user/anaconda3/envs/tensorflow2_p36/lib/python3.6/site-packages (from traitlets>=4.2->ipython->watermark) (0.2.0)\n",
      "Requirement already satisfied: six in /home/ec2-user/anaconda3/envs/tensorflow2_p36/lib/python3.6/site-packages (from traitlets>=4.2->ipython->watermark) (1.15.0)\n",
      "Requirement already satisfied: ptyprocess>=0.5 in /home/ec2-user/anaconda3/envs/tensorflow2_p36/lib/python3.6/site-packages (from pexpect->ipython->watermark) (0.7.0)\n",
      "Requirement already satisfied: xgboost in /home/ec2-user/anaconda3/envs/tensorflow2_p36/lib/python3.6/site-packages (1.5.2)\n",
      "Requirement already satisfied: numpy in /home/ec2-user/anaconda3/envs/tensorflow2_p36/lib/python3.6/site-packages (from xgboost) (1.19.5)\n",
      "Requirement already satisfied: scipy in /home/ec2-user/anaconda3/envs/tensorflow2_p36/lib/python3.6/site-packages (from xgboost) (1.5.3)\n"
     ]
    }
   ],
   "source": [
    "!pip install watermark\n",
    "\n",
    "!pip install xgboost"
   ]
  },
  {
   "cell_type": "code",
   "execution_count": 2,
   "id": "0bd12c01",
   "metadata": {},
   "outputs": [],
   "source": [
    "# IMAGE PREPROCESSING FUNCTIONS FOR USE IN MODEL DEVELOPMENT, EVALUATION, AND PRODUCTION\n",
    "import numpy as np\n",
    "import pandas as pd\n",
    "import PIL as pil\n",
    "import PIL\n",
    "import matplotlib.pyplot as plt\n",
    "import seaborn as sns\n",
    "from os import listdir\n",
    "from os.path import isfile, join\n",
    "import tempfile\n",
    "import pickle\n",
    "import time\n",
    "import gc\n",
    "import skimage.filters\n",
    "import cv2\n",
    "import watermark\n",
    "import joblib\n",
    "import math\n",
    "import sys\n",
    "from skimage.measure import block_reduce\n",
    "from image_preprocessing import standardize_image_dataset,resize_dataset,binarize_dataset,crop_dataset,process_dataset_blur,do_pooling_dataset\n",
    "from pipeline import model_pipeline\n",
    "from automate_optimal_model_dev import automate_optimal_model_dev\n",
    "from eval_on_test import make_preds\n",
    "\n",
    "from sklearn.neighbors import KNeighborsClassifier\n",
    "from sklearn.tree import DecisionTreeClassifier\n",
    "from sklearn.ensemble import RandomForestClassifier,GradientBoostingClassifier\n",
    "from sklearn.linear_model import LogisticRegression\n",
    "from sklearn.naive_bayes import CategoricalNB,GaussianNB\n",
    "from sklearn.svm import SVC\n",
    "from xgboost import XGBClassifier\n",
    "from sklearn.model_selection import GridSearchCV,KFold\n",
    "from sklearn.metrics import accuracy_score,f1_score\n",
    "from sklearn.base import clone\n",
    "from sklearn.metrics import confusion_matrix"
   ]
  },
  {
   "cell_type": "code",
   "execution_count": 3,
   "id": "dac19b0f",
   "metadata": {},
   "outputs": [],
   "source": [
    "import warnings\n",
    "warnings.filterwarnings('ignore')"
   ]
  },
  {
   "cell_type": "markdown",
   "id": "930654a8",
   "metadata": {},
   "source": [
    "# Read in Training Data"
   ]
  },
  {
   "cell_type": "code",
   "execution_count": 4,
   "id": "cc9d3e30",
   "metadata": {},
   "outputs": [],
   "source": [
    "training_data = pickle.load(open('Amit/Labeled Data/train_data.pkl','rb'))\n",
    "train_X, train_y = training_data.iloc[:,:-1],training_data.iloc[:,-1]"
   ]
  },
  {
   "cell_type": "code",
   "execution_count": 5,
   "id": "1da7f287",
   "metadata": {},
   "outputs": [
    {
     "name": "stdout",
     "output_type": "stream",
     "text": [
      "CPU times: user 2min 37s, sys: 1.21 s, total: 2min 38s\n",
      "Wall time: 4min 19s\n"
     ]
    },
    {
     "data": {
      "text/plain": [
       "29"
      ]
     },
     "execution_count": 5,
     "metadata": {},
     "output_type": "execute_result"
    }
   ],
   "source": [
    "%%time\n",
    "all_data = pickle.load(open('Amit/Labeled Data/train_data.pkl','rb'))\n",
    "train_x,train_y = all_data.iloc[:,:-1],all_data.iloc[:,-1]\n",
    "resized_16_16_train_x = resize_dataset(train_x,(256,256),(16,16))\n",
    "del all_data\n",
    "gc.collect()\n"
   ]
  },
  {
   "cell_type": "markdown",
   "id": "e5f07fad",
   "metadata": {},
   "source": [
    "### Logistic Regression Test Example"
   ]
  },
  {
   "cell_type": "code",
   "execution_count": 6,
   "id": "1e355ad8",
   "metadata": {},
   "outputs": [],
   "source": [
    "param_grid = {'C':[0.00001,0.0001, 0.001, 0.01, 0.1, 1],\n",
    "    'max_iter':[100]}"
   ]
  },
  {
   "cell_type": "code",
   "execution_count": 7,
   "id": "e39b28d5",
   "metadata": {},
   "outputs": [
    {
     "name": "stdout",
     "output_type": "stream",
     "text": [
      "CPU times: user 52min 41s, sys: 33.3 s, total: 53min 15s\n",
      "Wall time: 54min 2s\n"
     ]
    }
   ],
   "source": [
    "%%time\n",
    "\n",
    "test_model_ll_l1_1 = model_pipeline()\n",
    "test_model_ll_l1_1_result = test_model_ll_l1_1.evaluate(train_X,\n",
    "                     train_y,\n",
    "                     preprocessing = [('binarize',[True,0.3]),\n",
    "                                 ('crop',[(256,256),(256,256)]),\n",
    "                                 ('blur',['g',(256,256),(5,5),0,0]),\n",
    "                                 ('pool',[(2,2),np.max])],\n",
    "                     model = LogisticRegression(penalty='l1', solver='liblinear'),\n",
    "                     param_grid=param_grid,\n",
    "                     optimizing_metric='f1',\n",
    "                     n_splits=5,\n",
    "                     return_transformed_features = False, \n",
    "                     return_grid = True, \n",
    "                     return_score = True, \n",
    "                     return_best_estimator = True, \n",
    "                     return_best_params = True, \n",
    "                     return_oos_pred = True, \n",
    "                     return_oos_prob = True, \n",
    "                     return_threshold_analysis=True)\n",
    "                        \n",
    "                           "
   ]
  },
  {
   "cell_type": "code",
   "execution_count": 8,
   "id": "51b00bb3",
   "metadata": {},
   "outputs": [
    {
     "data": {
      "text/plain": [
       "{'grid_search': GridSearchCV(cv=5,\n",
       "              estimator=LogisticRegression(penalty='l1', solver='liblinear'),\n",
       "              param_grid={'C': [1e-05, 0.0001, 0.001, 0.01, 0.1, 1],\n",
       "                          'max_iter': [100]},\n",
       "              scoring='f1'),\n",
       " 'best_estimator': LogisticRegression(C=1, penalty='l1', solver='liblinear'),\n",
       " 'best_params': {'C': 1, 'max_iter': 100},\n",
       " 'best_score': 0.8832124476630951,\n",
       " 'oos_preds': 54      1\n",
       " 2602    0\n",
       " 3433    0\n",
       " 235     1\n",
       " 1806    1\n",
       "        ..\n",
       " 3330    0\n",
       " 70      1\n",
       " 132     1\n",
       " 2014    1\n",
       " 1931    1\n",
       " Name: label, Length: 3220, dtype: uint8,\n",
       " 'oos_probs': 54      0.991443\n",
       " 2602    0.000006\n",
       " 3433    0.001428\n",
       " 235     0.999577\n",
       " 1806    0.999849\n",
       "           ...   \n",
       " 3330    0.000001\n",
       " 70      0.996944\n",
       " 132     0.996254\n",
       " 2014    0.999999\n",
       " 1931    0.997842\n",
       " Name: label, Length: 3220, dtype: float64,\n",
       " 'threshold_analysis': {'best_thresh': 0.54,\n",
       "  'best_score': 0.887923544743701,\n",
       "  'best_preds': array([1, 0, 0, ..., 1, 1, 1])}}"
      ]
     },
     "execution_count": 8,
     "metadata": {},
     "output_type": "execute_result"
    }
   ],
   "source": [
    "test_model_ll_l1_1_result"
   ]
  },
  {
   "cell_type": "code",
   "execution_count": 9,
   "id": "223a36fe",
   "metadata": {},
   "outputs": [],
   "source": [
    "pickle.dump(test_model_ll_l1_1_result,open('linear_model_results/test_model_ll_l1_1_result.pkl','wb'))"
   ]
  },
  {
   "cell_type": "code",
   "execution_count": 10,
   "id": "a43075df",
   "metadata": {},
   "outputs": [
    {
     "name": "stdout",
     "output_type": "stream",
     "text": [
      "CPU times: user 1h 47s, sys: 35.4 s, total: 1h 1min 22s\n",
      "Wall time: 1h 32s\n"
     ]
    }
   ],
   "source": [
    "%%time\n",
    "\n",
    "test_model_ll_l1_2 = model_pipeline()\n",
    "test_model_ll_l1_2_result = test_model_ll_l1_2.evaluate(train_X,\n",
    "                     train_y,\n",
    "                     preprocessing = [('binarize',[True,0.35]),\n",
    "                                 ('crop',[(256,256),(256,256)]),\n",
    "                                 ('blur',['g',(256,256),(5,5),0,0]),\n",
    "                                 ('pool',[(2,2),np.max])],\n",
    "                     model = LogisticRegression(penalty='l1', solver='liblinear'),\n",
    "                     param_grid=param_grid,\n",
    "                     optimizing_metric='f1',\n",
    "                     n_splits=5,\n",
    "                     return_transformed_features = False, \n",
    "                     return_grid = True, \n",
    "                     return_score = True, \n",
    "                     return_best_estimator = True, \n",
    "                     return_best_params = True, \n",
    "                     return_oos_pred = True, \n",
    "                     return_oos_prob = True, \n",
    "                     return_threshold_analysis=True)\n",
    "                        \n",
    "                           "
   ]
  },
  {
   "cell_type": "code",
   "execution_count": 11,
   "id": "ad39c556",
   "metadata": {},
   "outputs": [
    {
     "data": {
      "text/plain": [
       "{'grid_search': GridSearchCV(cv=5,\n",
       "              estimator=LogisticRegression(penalty='l1', solver='liblinear'),\n",
       "              param_grid={'C': [1e-05, 0.0001, 0.001, 0.01, 0.1, 1],\n",
       "                          'max_iter': [100]},\n",
       "              scoring='f1'),\n",
       " 'best_estimator': LogisticRegression(C=1, penalty='l1', solver='liblinear'),\n",
       " 'best_params': {'C': 1, 'max_iter': 100},\n",
       " 'best_score': 0.8826406893242613,\n",
       " 'oos_preds': 54      1\n",
       " 2602    0\n",
       " 3433    0\n",
       " 235     1\n",
       " 1806    1\n",
       "        ..\n",
       " 3330    0\n",
       " 70      1\n",
       " 132     1\n",
       " 2014    1\n",
       " 1931    1\n",
       " Name: label, Length: 3220, dtype: uint8,\n",
       " 'oos_probs': 54      9.896758e-01\n",
       " 2602    1.607766e-05\n",
       " 3433    1.791067e-03\n",
       " 235     9.998592e-01\n",
       " 1806    9.804495e-01\n",
       "             ...     \n",
       " 3330    3.666378e-09\n",
       " 70      9.953596e-01\n",
       " 132     9.943561e-01\n",
       " 2014    9.999980e-01\n",
       " 1931    9.983700e-01\n",
       " Name: label, Length: 3220, dtype: float64,\n",
       " 'threshold_analysis': {'best_thresh': 0.54,\n",
       "  'best_score': 0.8821665226159607,\n",
       "  'best_preds': array([1, 0, 0, ..., 1, 1, 1])}}"
      ]
     },
     "execution_count": 11,
     "metadata": {},
     "output_type": "execute_result"
    }
   ],
   "source": [
    "test_model_ll_l1_2_result"
   ]
  },
  {
   "cell_type": "code",
   "execution_count": 12,
   "id": "f6ef9164",
   "metadata": {},
   "outputs": [],
   "source": [
    "pickle.dump(test_model_ll_l1_2_result,open('linear_model_results/log_reg_test_model_ll_l1_2_result.pkl','wb'))"
   ]
  },
  {
   "cell_type": "code",
   "execution_count": 13,
   "id": "c984616c",
   "metadata": {},
   "outputs": [
    {
     "name": "stdout",
     "output_type": "stream",
     "text": [
      "CPU times: user 39min 48s, sys: 35.9 s, total: 40min 24s\n",
      "Wall time: 39min 32s\n"
     ]
    }
   ],
   "source": [
    "%%time\n",
    "\n",
    "test_model_ll_l1_3 = model_pipeline()\n",
    "test_model_ll_l1_3_result = test_model_ll_l1_3.evaluate(train_X,\n",
    "                     train_y,\n",
    "                     preprocessing = [('binarize',[True,0.3]),\n",
    "                                 ('crop',[(256,256),(256,256)]),\n",
    "                                 ('blur',['g',(256,256),(3,3),0,0]),\n",
    "                                 ('pool',[(2,2),np.max])],\n",
    "                     model = LogisticRegression(penalty='l1', solver='liblinear'),\n",
    "                     param_grid=param_grid,\n",
    "                     optimizing_metric='f1',\n",
    "                     n_splits=5,\n",
    "                     return_transformed_features = False, \n",
    "                     return_grid = True, \n",
    "                     return_score = True, \n",
    "                     return_best_estimator = True, \n",
    "                     return_best_params = True, \n",
    "                     return_oos_pred = True, \n",
    "                     return_oos_prob = True, \n",
    "                     return_threshold_analysis=True)\n"
   ]
  },
  {
   "cell_type": "code",
   "execution_count": 14,
   "id": "772349d8",
   "metadata": {},
   "outputs": [],
   "source": [
    "pickle.dump(test_model_ll_l1_3_result,open('linear_model_results/log_reg_test_model_ll_l1_3_result.pkl','wb'))"
   ]
  },
  {
   "cell_type": "code",
   "execution_count": 15,
   "id": "4e28b9a6",
   "metadata": {},
   "outputs": [
    {
     "data": {
      "text/plain": [
       "{'grid_search': GridSearchCV(cv=5,\n",
       "              estimator=LogisticRegression(penalty='l1', solver='liblinear'),\n",
       "              param_grid={'C': [1e-05, 0.0001, 0.001, 0.01, 0.1, 1],\n",
       "                          'max_iter': [100]},\n",
       "              scoring='f1'),\n",
       " 'best_estimator': LogisticRegression(C=1, penalty='l1', solver='liblinear'),\n",
       " 'best_params': {'C': 1, 'max_iter': 100},\n",
       " 'best_score': 0.884862204299646,\n",
       " 'oos_preds': 54      1\n",
       " 2602    0\n",
       " 3433    0\n",
       " 235     1\n",
       " 1806    1\n",
       "        ..\n",
       " 3330    0\n",
       " 70      1\n",
       " 132     1\n",
       " 2014    1\n",
       " 1931    1\n",
       " Name: label, Length: 3220, dtype: uint8,\n",
       " 'oos_probs': 54      9.863468e-01\n",
       " 2602    2.079605e-05\n",
       " 3433    2.002519e-03\n",
       " 235     9.996002e-01\n",
       " 1806    9.661654e-01\n",
       "             ...     \n",
       " 3330    9.868656e-08\n",
       " 70      9.983477e-01\n",
       " 132     9.071070e-01\n",
       " 2014    1.000000e+00\n",
       " 1931    9.989690e-01\n",
       " Name: label, Length: 3220, dtype: float64,\n",
       " 'threshold_analysis': {'best_thresh': 0.55,\n",
       "  'best_score': 0.8846265620459168,\n",
       "  'best_preds': array([1, 0, 0, ..., 1, 1, 1])}}"
      ]
     },
     "execution_count": 15,
     "metadata": {},
     "output_type": "execute_result"
    }
   ],
   "source": [
    "test_model_ll_l1_3_result"
   ]
  },
  {
   "cell_type": "code",
   "execution_count": null,
   "id": "0388b6ca",
   "metadata": {},
   "outputs": [],
   "source": []
  },
  {
   "cell_type": "code",
   "execution_count": 16,
   "id": "389abc06",
   "metadata": {},
   "outputs": [
    {
     "name": "stdout",
     "output_type": "stream",
     "text": [
      "CPU times: user 46min 32s, sys: 32.4 s, total: 47min 4s\n",
      "Wall time: 46min 30s\n"
     ]
    }
   ],
   "source": [
    "%%time\n",
    "\n",
    "test_model_ll_l1_4 = model_pipeline()\n",
    "test_model_ll_l1_4_result = test_model_ll_l1_4.evaluate(train_X,\n",
    "                     train_y,\n",
    "                     preprocessing = [('binarize',[True,0.3]),\n",
    "                                 ('crop',[(256,256),(256,256)]),\n",
    "                                 ('blur',['b',(256,256),(5,5),0,0]),\n",
    "                                 ('pool',[(2,2),np.max])],\n",
    "                     model = LogisticRegression(penalty='l1', solver='liblinear'),\n",
    "                     param_grid=param_grid,\n",
    "                     optimizing_metric='f1',\n",
    "                     n_splits=5,\n",
    "                     return_transformed_features = False, \n",
    "                     return_grid = True, \n",
    "                     return_score = True, \n",
    "                     return_best_estimator = True, \n",
    "                     return_best_params = True, \n",
    "                     return_oos_pred = True, \n",
    "                     return_oos_prob = True, \n",
    "                     return_threshold_analysis=True)"
   ]
  },
  {
   "cell_type": "code",
   "execution_count": 17,
   "id": "1bddac25",
   "metadata": {},
   "outputs": [],
   "source": [
    "pickle.dump(test_model_ll_l1_4_result,open('linear_model_results/log_reg_test_model_ll_l1_4_result.pkl','wb'))"
   ]
  },
  {
   "cell_type": "code",
   "execution_count": 18,
   "id": "9de1dce5",
   "metadata": {},
   "outputs": [
    {
     "data": {
      "text/plain": [
       "{'grid_search': GridSearchCV(cv=5,\n",
       "              estimator=LogisticRegression(penalty='l1', solver='liblinear'),\n",
       "              param_grid={'C': [1e-05, 0.0001, 0.001, 0.01, 0.1, 1],\n",
       "                          'max_iter': [100]},\n",
       "              scoring='f1'),\n",
       " 'best_estimator': LogisticRegression(C=1, penalty='l1', solver='liblinear'),\n",
       " 'best_params': {'C': 1, 'max_iter': 100},\n",
       " 'best_score': 0.8847431337185302,\n",
       " 'oos_preds': 54      1\n",
       " 2602    0\n",
       " 3433    0\n",
       " 235     1\n",
       " 1806    1\n",
       "        ..\n",
       " 3330    0\n",
       " 70      1\n",
       " 132     1\n",
       " 2014    1\n",
       " 1931    1\n",
       " Name: label, Length: 3220, dtype: uint8,\n",
       " 'oos_probs': 54      0.979225\n",
       " 2602    0.000389\n",
       " 3433    0.006117\n",
       " 235     0.997536\n",
       " 1806    0.995014\n",
       "           ...   \n",
       " 3330    0.000072\n",
       " 70      0.992794\n",
       " 132     0.994480\n",
       " 2014    0.999965\n",
       " 1931    0.997027\n",
       " Name: label, Length: 3220, dtype: float64,\n",
       " 'threshold_analysis': {'best_thresh': 0.5,\n",
       "  'best_score': 0.8839561674627705,\n",
       "  'best_preds': 54      1\n",
       "  2602    0\n",
       "  3433    0\n",
       "  235     1\n",
       "  1806    1\n",
       "         ..\n",
       "  3330    0\n",
       "  70      1\n",
       "  132     1\n",
       "  2014    1\n",
       "  1931    1\n",
       "  Name: label, Length: 3220, dtype: uint8}}"
      ]
     },
     "execution_count": 18,
     "metadata": {},
     "output_type": "execute_result"
    }
   ],
   "source": [
    "test_model_ll_l1_4_result"
   ]
  },
  {
   "cell_type": "code",
   "execution_count": 19,
   "id": "fcc291da",
   "metadata": {},
   "outputs": [
    {
     "data": {
      "text/plain": [
       "24"
      ]
     },
     "execution_count": 19,
     "metadata": {},
     "output_type": "execute_result"
    }
   ],
   "source": [
    "del test_model_ll_l1_4_result\n",
    "gc.collect()"
   ]
  },
  {
   "cell_type": "code",
   "execution_count": 20,
   "id": "73f61c38",
   "metadata": {},
   "outputs": [
    {
     "name": "stdout",
     "output_type": "stream",
     "text": [
      "CPU times: user 50min 12s, sys: 32.8 s, total: 50min 45s\n",
      "Wall time: 50min 10s\n"
     ]
    }
   ],
   "source": [
    "%%time\n",
    "\n",
    "test_model_ll_l1_5 = model_pipeline()\n",
    "test_model_ll_l1_5_result = test_model_ll_l1_5.evaluate(train_X,\n",
    "                     train_y,\n",
    "                     preprocessing = [('binarize',[True,0.35]),\n",
    "                                 ('crop',[(256,256),(256,256)]),\n",
    "                                 ('blur',['b',(256,256),(5,5),0,0]),\n",
    "                                 ('pool',[(2,2),np.max])],\n",
    "                     model = LogisticRegression(penalty='l1', solver='liblinear'),\n",
    "                     param_grid=param_grid,\n",
    "                     optimizing_metric='f1',\n",
    "                     n_splits=5,\n",
    "                     return_transformed_features = False, \n",
    "                     return_grid = True, \n",
    "                     return_score = True, \n",
    "                     return_best_estimator = True, \n",
    "                     return_best_params = True, \n",
    "                     return_oos_pred = True, \n",
    "                     return_oos_prob = True, \n",
    "                     return_threshold_analysis=True)"
   ]
  },
  {
   "cell_type": "code",
   "execution_count": 21,
   "id": "eddeeb58",
   "metadata": {},
   "outputs": [
    {
     "data": {
      "text/plain": [
       "{'grid_search': GridSearchCV(cv=5,\n",
       "              estimator=LogisticRegression(penalty='l1', solver='liblinear'),\n",
       "              param_grid={'C': [1e-05, 0.0001, 0.001, 0.01, 0.1, 1],\n",
       "                          'max_iter': [100]},\n",
       "              scoring='f1'),\n",
       " 'best_estimator': LogisticRegression(C=1, penalty='l1', solver='liblinear'),\n",
       " 'best_params': {'C': 1, 'max_iter': 100},\n",
       " 'best_score': 0.8794214547905824,\n",
       " 'oos_preds': 54      1\n",
       " 2602    0\n",
       " 3433    0\n",
       " 235     1\n",
       " 1806    1\n",
       "        ..\n",
       " 3330    0\n",
       " 70      1\n",
       " 132     1\n",
       " 2014    1\n",
       " 1931    1\n",
       " Name: label, Length: 3220, dtype: uint8,\n",
       " 'oos_probs': 54      0.979794\n",
       " 2602    0.000205\n",
       " 3433    0.005411\n",
       " 235     0.997933\n",
       " 1806    0.997615\n",
       "           ...   \n",
       " 3330    0.000150\n",
       " 70      0.993076\n",
       " 132     0.996165\n",
       " 2014    0.999983\n",
       " 1931    0.997122\n",
       " Name: label, Length: 3220, dtype: float64,\n",
       " 'threshold_analysis': {'best_thresh': 0.5,\n",
       "  'best_score': 0.8804042672655811,\n",
       "  'best_preds': 54      1\n",
       "  2602    0\n",
       "  3433    0\n",
       "  235     1\n",
       "  1806    1\n",
       "         ..\n",
       "  3330    0\n",
       "  70      1\n",
       "  132     1\n",
       "  2014    1\n",
       "  1931    1\n",
       "  Name: label, Length: 3220, dtype: uint8}}"
      ]
     },
     "execution_count": 21,
     "metadata": {},
     "output_type": "execute_result"
    }
   ],
   "source": [
    "pickle.dump(test_model_ll_l1_5_result,open('linear_model_results/log_reg_test_model_ll_l1_5_result.pkl','wb'))\n",
    "test_model_ll_l1_5_result"
   ]
  },
  {
   "cell_type": "code",
   "execution_count": 22,
   "id": "711ae8ec",
   "metadata": {},
   "outputs": [
    {
     "data": {
      "text/plain": [
       "24"
      ]
     },
     "execution_count": 22,
     "metadata": {},
     "output_type": "execute_result"
    }
   ],
   "source": [
    "del test_model_ll_l1_5_result\n",
    "gc.collect()"
   ]
  },
  {
   "cell_type": "code",
   "execution_count": 23,
   "id": "4f9f6b52",
   "metadata": {},
   "outputs": [
    {
     "name": "stdout",
     "output_type": "stream",
     "text": [
      "CPU times: user 45min 39s, sys: 32.3 s, total: 46min 11s\n",
      "Wall time: 45min 36s\n"
     ]
    }
   ],
   "source": [
    "%%time\n",
    "\n",
    "test_model_ll_l1_6 = model_pipeline()\n",
    "test_model_ll_l1_6_result = test_model_ll_l1_6.evaluate(train_X,\n",
    "                     train_y,\n",
    "                     preprocessing = [('binarize',[True,0.3]),\n",
    "                                 ('crop',[(256,256),(256,256)]),\n",
    "                                 ('blur',['b',(256,256),(3,3),0,0]),\n",
    "                                 ('pool',[(2,2),np.max])],\n",
    "                     model = LogisticRegression(penalty='l1', solver='liblinear'),\n",
    "                     param_grid=param_grid,\n",
    "                     optimizing_metric='f1',\n",
    "                     n_splits=5,\n",
    "                     return_transformed_features = False, \n",
    "                     return_grid = True, \n",
    "                     return_score = True, \n",
    "                     return_best_estimator = True, \n",
    "                     return_best_params = True, \n",
    "                     return_oos_pred = True, \n",
    "                     return_oos_prob = True, \n",
    "                     return_threshold_analysis=True)"
   ]
  },
  {
   "cell_type": "code",
   "execution_count": 24,
   "id": "8c6bf0f6",
   "metadata": {},
   "outputs": [
    {
     "data": {
      "text/plain": [
       "{'grid_search': GridSearchCV(cv=5,\n",
       "              estimator=LogisticRegression(penalty='l1', solver='liblinear'),\n",
       "              param_grid={'C': [1e-05, 0.0001, 0.001, 0.01, 0.1, 1],\n",
       "                          'max_iter': [100]},\n",
       "              scoring='f1'),\n",
       " 'best_estimator': LogisticRegression(C=1, penalty='l1', solver='liblinear'),\n",
       " 'best_params': {'C': 1, 'max_iter': 100},\n",
       " 'best_score': 0.880297923649114,\n",
       " 'oos_preds': 54      1\n",
       " 2602    0\n",
       " 3433    0\n",
       " 235     1\n",
       " 1806    0\n",
       "        ..\n",
       " 3330    0\n",
       " 70      1\n",
       " 132     1\n",
       " 2014    1\n",
       " 1931    1\n",
       " Name: label, Length: 3220, dtype: uint8,\n",
       " 'oos_probs': 54      0.947958\n",
       " 2602    0.001494\n",
       " 3433    0.006968\n",
       " 235     0.999247\n",
       " 1806    0.134095\n",
       "           ...   \n",
       " 3330    0.000001\n",
       " 70      0.999276\n",
       " 132     0.997166\n",
       " 2014    1.000000\n",
       " 1931    0.999057\n",
       " Name: label, Length: 3220, dtype: float64,\n",
       " 'threshold_analysis': {'best_thresh': 0.51,\n",
       "  'best_score': 0.8861971830985916,\n",
       "  'best_preds': array([1, 0, 0, ..., 1, 1, 1])}}"
      ]
     },
     "execution_count": 24,
     "metadata": {},
     "output_type": "execute_result"
    }
   ],
   "source": [
    "pickle.dump(test_model_ll_l1_6_result,open('linear_model_results/log_reg_test_model_ll_l1_6_result.pkl','wb'))\n",
    "test_model_ll_l1_6_result"
   ]
  },
  {
   "cell_type": "code",
   "execution_count": 25,
   "id": "eaae3ed1",
   "metadata": {},
   "outputs": [
    {
     "data": {
      "text/plain": [
       "24"
      ]
     },
     "execution_count": 25,
     "metadata": {},
     "output_type": "execute_result"
    }
   ],
   "source": [
    "del test_model_ll_l1_6_result\n",
    "gc.collect()"
   ]
  },
  {
   "cell_type": "code",
   "execution_count": 26,
   "id": "bf3f6e25",
   "metadata": {},
   "outputs": [
    {
     "name": "stdout",
     "output_type": "stream",
     "text": [
      "CPU times: user 3min 37s, sys: 31.5 s, total: 4min 8s\n",
      "Wall time: 3min 8s\n"
     ]
    }
   ],
   "source": [
    "%%time\n",
    "\n",
    "test_model_ll_l1_7 = model_pipeline()\n",
    "test_model_ll_l1_7_result = test_model_ll_l1_7.evaluate(train_X,\n",
    "                     train_y,\n",
    "                     preprocessing = [('pool',[(2,2),np.max])],\n",
    "                     model = LogisticRegression(penalty='l1', solver='liblinear'),\n",
    "                     param_grid=param_grid,\n",
    "                     optimizing_metric='f1',\n",
    "                     n_splits=5,\n",
    "                     return_transformed_features = False, \n",
    "                     return_grid = True, \n",
    "                     return_score = True, \n",
    "                     return_best_estimator = True, \n",
    "                     return_best_params = True, \n",
    "                     return_oos_pred = True, \n",
    "                     return_oos_prob = True, \n",
    "                     return_threshold_analysis=True)"
   ]
  },
  {
   "cell_type": "code",
   "execution_count": 27,
   "id": "79577a36",
   "metadata": {},
   "outputs": [
    {
     "data": {
      "text/plain": [
       "{'grid_search': GridSearchCV(cv=5,\n",
       "              estimator=LogisticRegression(penalty='l1', solver='liblinear'),\n",
       "              param_grid={'C': [1e-05, 0.0001, 0.001, 0.01, 0.1, 1],\n",
       "                          'max_iter': [100]},\n",
       "              scoring='f1'),\n",
       " 'best_estimator': LogisticRegression(C=1, penalty='l1', solver='liblinear'),\n",
       " 'best_params': {'C': 1, 'max_iter': 100},\n",
       " 'best_score': 0.9363235525265884,\n",
       " 'oos_preds': 54      1\n",
       " 2602    0\n",
       " 3433    0\n",
       " 235     1\n",
       " 1806    1\n",
       "        ..\n",
       " 3330    0\n",
       " 70      1\n",
       " 132     1\n",
       " 2014    1\n",
       " 1931    1\n",
       " Name: label, Length: 3220, dtype: uint8,\n",
       " 'oos_probs': 54      0.999997\n",
       " 2602    0.000644\n",
       " 3433    0.000667\n",
       " 235     0.999945\n",
       " 1806    0.999976\n",
       "           ...   \n",
       " 3330    0.000070\n",
       " 70      1.000000\n",
       " 132     0.999997\n",
       " 2014    0.999575\n",
       " 1931    0.999535\n",
       " Name: label, Length: 3220, dtype: float64,\n",
       " 'threshold_analysis': {'best_thresh': 0.18000000000000002,\n",
       "  'best_score': 0.9409470752089136,\n",
       "  'best_preds': array([1, 0, 0, ..., 1, 1, 1])}}"
      ]
     },
     "execution_count": 27,
     "metadata": {},
     "output_type": "execute_result"
    }
   ],
   "source": [
    "pickle.dump(test_model_ll_l1_7_result,open('linear_model_results/log_reg_test_model_ll_l1_7_result.pkl','wb'))\n",
    "test_model_ll_l1_7_result"
   ]
  },
  {
   "cell_type": "code",
   "execution_count": 28,
   "id": "37684bc2",
   "metadata": {},
   "outputs": [
    {
     "data": {
      "text/plain": [
       "24"
      ]
     },
     "execution_count": 28,
     "metadata": {},
     "output_type": "execute_result"
    }
   ],
   "source": [
    "del test_model_ll_l1_7_result\n",
    "gc.collect()"
   ]
  },
  {
   "cell_type": "code",
   "execution_count": 29,
   "id": "460ccb56",
   "metadata": {},
   "outputs": [
    {
     "name": "stdout",
     "output_type": "stream",
     "text": [
      "CPU times: user 9min 30s, sys: 1min 38s, total: 11min 8s\n",
      "Wall time: 10min 29s\n"
     ]
    }
   ],
   "source": [
    "%%time\n",
    "\n",
    "test_model_ll_l1_8 = model_pipeline()\n",
    "test_model_ll_l1_8_result = test_model_ll_l1_8.evaluate(train_X,\n",
    "                     train_y,\n",
    "                     preprocessing = [('binarize',[True,0.3])],\n",
    "                     model = LogisticRegression(penalty='l1', solver='liblinear'),\n",
    "                     param_grid=param_grid,\n",
    "                     optimizing_metric='f1',\n",
    "                     n_splits=5,\n",
    "                     return_transformed_features = False, \n",
    "                     return_grid = True, \n",
    "                     return_score = True, \n",
    "                     return_best_estimator = True, \n",
    "                     return_best_params = True, \n",
    "                     return_oos_pred = True, \n",
    "                     return_oos_prob = True, \n",
    "                     return_threshold_analysis=True)"
   ]
  },
  {
   "cell_type": "code",
   "execution_count": 30,
   "id": "7859e64d",
   "metadata": {},
   "outputs": [
    {
     "data": {
      "text/plain": [
       "{'grid_search': GridSearchCV(cv=5,\n",
       "              estimator=LogisticRegression(penalty='l1', solver='liblinear'),\n",
       "              param_grid={'C': [1e-05, 0.0001, 0.001, 0.01, 0.1, 1],\n",
       "                          'max_iter': [100]},\n",
       "              scoring='f1'),\n",
       " 'best_estimator': LogisticRegression(C=1, penalty='l1', solver='liblinear'),\n",
       " 'best_params': {'C': 1, 'max_iter': 100},\n",
       " 'best_score': 0.9262905158294231,\n",
       " 'oos_preds': 54      1\n",
       " 2602    0\n",
       " 3433    0\n",
       " 235     1\n",
       " 1806    1\n",
       "        ..\n",
       " 3330    0\n",
       " 70      1\n",
       " 132     1\n",
       " 2014    1\n",
       " 1931    1\n",
       " Name: label, Length: 3220, dtype: uint8,\n",
       " 'oos_probs': 54      0.989089\n",
       " 2602    0.056376\n",
       " 3433    0.103213\n",
       " 235     0.971055\n",
       " 1806    0.795412\n",
       "           ...   \n",
       " 3330    0.012682\n",
       " 70      0.999993\n",
       " 132     0.995695\n",
       " 2014    0.598141\n",
       " 1931    0.992058\n",
       " Name: label, Length: 3220, dtype: float64,\n",
       " 'threshold_analysis': {'best_thresh': 0.36000000000000004,\n",
       "  'best_score': 0.9309675630718048,\n",
       "  'best_preds': array([1, 0, 0, ..., 1, 1, 1])}}"
      ]
     },
     "execution_count": 30,
     "metadata": {},
     "output_type": "execute_result"
    }
   ],
   "source": [
    "pickle.dump(test_model_ll_l1_8_result,open('linear_model_results/log_reg_test_model_ll_l1_8_result.pkl','wb'))\n",
    "test_model_ll_l1_8_result"
   ]
  },
  {
   "cell_type": "code",
   "execution_count": 31,
   "id": "d4e140a1",
   "metadata": {},
   "outputs": [
    {
     "data": {
      "text/plain": [
       "24"
      ]
     },
     "execution_count": 31,
     "metadata": {},
     "output_type": "execute_result"
    }
   ],
   "source": [
    "del test_model_ll_l1_8_result\n",
    "gc.collect()"
   ]
  },
  {
   "cell_type": "code",
   "execution_count": 32,
   "id": "07f6f58b",
   "metadata": {},
   "outputs": [
    {
     "name": "stdout",
     "output_type": "stream",
     "text": [
      "CPU times: user 16min 2s, sys: 2min 33s, total: 18min 35s\n",
      "Wall time: 17min 59s\n"
     ]
    }
   ],
   "source": [
    "%%time\n",
    "\n",
    "test_model_ll_l1_9 = model_pipeline()\n",
    "test_model_ll_l1_9_result = test_model_ll_l1_9.evaluate(train_X,\n",
    "                     train_y,\n",
    "                     preprocessing = [('crop',[(256,256),(256,256)])],\n",
    "                     model = LogisticRegression(penalty='l1', solver='liblinear'),\n",
    "                     param_grid=param_grid,\n",
    "                     optimizing_metric='f1',\n",
    "                     n_splits=5,\n",
    "                     return_transformed_features = False, \n",
    "                     return_grid = True, \n",
    "                     return_score = True, \n",
    "                     return_best_estimator = True, \n",
    "                     return_best_params = True, \n",
    "                     return_oos_pred = True, \n",
    "                     return_oos_prob = True, \n",
    "                     return_threshold_analysis=True)"
   ]
  },
  {
   "cell_type": "code",
   "execution_count": 33,
   "id": "36c598e2",
   "metadata": {},
   "outputs": [
    {
     "data": {
      "text/plain": [
       "{'grid_search': GridSearchCV(cv=5,\n",
       "              estimator=LogisticRegression(penalty='l1', solver='liblinear'),\n",
       "              param_grid={'C': [1e-05, 0.0001, 0.001, 0.01, 0.1, 1],\n",
       "                          'max_iter': [100]},\n",
       "              scoring='f1'),\n",
       " 'best_estimator': LogisticRegression(C=0.1, penalty='l1', solver='liblinear'),\n",
       " 'best_params': {'C': 0.1, 'max_iter': 100},\n",
       " 'best_score': 0.9086007076004121,\n",
       " 'oos_preds': 54      1\n",
       " 2602    0\n",
       " 3433    0\n",
       " 235     1\n",
       " 1806    1\n",
       "        ..\n",
       " 3330    0\n",
       " 70      1\n",
       " 132     1\n",
       " 2014    1\n",
       " 1931    1\n",
       " Name: label, Length: 3220, dtype: uint8,\n",
       " 'oos_probs': 54      0.998949\n",
       " 2602    0.002387\n",
       " 3433    0.000116\n",
       " 235     0.998492\n",
       " 1806    0.984465\n",
       "           ...   \n",
       " 3330    0.000804\n",
       " 70      1.000000\n",
       " 132     0.989196\n",
       " 2014    0.782617\n",
       " 1931    0.997159\n",
       " Name: label, Length: 3220, dtype: float64,\n",
       " 'threshold_analysis': {'best_thresh': 0.13,\n",
       "  'best_score': 0.9093859886394374,\n",
       "  'best_preds': array([1, 0, 0, ..., 1, 1, 1])}}"
      ]
     },
     "execution_count": 33,
     "metadata": {},
     "output_type": "execute_result"
    }
   ],
   "source": [
    "pickle.dump(test_model_ll_l1_9_result,open('linear_model_results/log_reg_test_model_ll_l1_9_result.pkl','wb'))\n",
    "test_model_ll_l1_9_result"
   ]
  },
  {
   "cell_type": "code",
   "execution_count": 34,
   "id": "9854c8eb",
   "metadata": {},
   "outputs": [
    {
     "data": {
      "text/plain": [
       "24"
      ]
     },
     "execution_count": 34,
     "metadata": {},
     "output_type": "execute_result"
    }
   ],
   "source": [
    "del test_model_ll_l1_9_result\n",
    "gc.collect()"
   ]
  },
  {
   "cell_type": "code",
   "execution_count": 35,
   "id": "91ca8c32",
   "metadata": {},
   "outputs": [
    {
     "name": "stdout",
     "output_type": "stream",
     "text": [
      "CPU times: user 13min 43s, sys: 2min 8s, total: 15min 52s\n",
      "Wall time: 17min 30s\n"
     ]
    }
   ],
   "source": [
    "%%time\n",
    "\n",
    "test_model_ll_l1_10 = model_pipeline()\n",
    "test_model_ll_l1_10_result = test_model_ll_l1_10.evaluate(train_X,\n",
    "                     train_y,\n",
    "                     preprocessing = [('blur',['b',(256,256),(3,3),0,0])],\n",
    "                     model = LogisticRegression(penalty='l1', solver='liblinear'),\n",
    "                     param_grid=param_grid,\n",
    "                     optimizing_metric='f1',\n",
    "                     n_splits=5,\n",
    "                     return_transformed_features = False, \n",
    "                     return_grid = True, \n",
    "                     return_score = True, \n",
    "                     return_best_estimator = True, \n",
    "                     return_best_params = True, \n",
    "                     return_oos_pred = True, \n",
    "                     return_oos_prob = True, \n",
    "                     return_threshold_analysis=True)"
   ]
  },
  {
   "cell_type": "code",
   "execution_count": 36,
   "id": "c6fe17f0",
   "metadata": {},
   "outputs": [
    {
     "data": {
      "text/plain": [
       "{'grid_search': GridSearchCV(cv=5,\n",
       "              estimator=LogisticRegression(penalty='l1', solver='liblinear'),\n",
       "              param_grid={'C': [1e-05, 0.0001, 0.001, 0.01, 0.1, 1],\n",
       "                          'max_iter': [100]},\n",
       "              scoring='f1'),\n",
       " 'best_estimator': LogisticRegression(C=1, penalty='l1', solver='liblinear'),\n",
       " 'best_params': {'C': 1, 'max_iter': 100},\n",
       " 'best_score': 0.93578960049757,\n",
       " 'oos_preds': 54      1\n",
       " 2602    0\n",
       " 3433    0\n",
       " 235     1\n",
       " 1806    1\n",
       "        ..\n",
       " 3330    0\n",
       " 70      1\n",
       " 132     1\n",
       " 2014    1\n",
       " 1931    1\n",
       " Name: label, Length: 3220, dtype: uint8,\n",
       " 'oos_probs': 54      1.000000\n",
       " 2602    0.000679\n",
       " 3433    0.001013\n",
       " 235     0.999997\n",
       " 1806    0.998485\n",
       "           ...   \n",
       " 3330    0.000027\n",
       " 70      1.000000\n",
       " 132     0.999995\n",
       " 2014    0.998435\n",
       " 1931    1.000000\n",
       " Name: label, Length: 3220, dtype: float64,\n",
       " 'threshold_analysis': {'best_thresh': 0.22,\n",
       "  'best_score': 0.938969764837626,\n",
       "  'best_preds': array([1, 0, 0, ..., 1, 1, 1])}}"
      ]
     },
     "execution_count": 36,
     "metadata": {},
     "output_type": "execute_result"
    }
   ],
   "source": [
    "pickle.dump(test_model_ll_l1_10_result,open('linear_model_results/log_reg_test_model_ll_l1_10_result.pkl','wb'))\n",
    "test_model_ll_l1_10_result"
   ]
  },
  {
   "cell_type": "code",
   "execution_count": 37,
   "id": "e17b99b3",
   "metadata": {},
   "outputs": [
    {
     "data": {
      "text/plain": [
       "24"
      ]
     },
     "execution_count": 37,
     "metadata": {},
     "output_type": "execute_result"
    }
   ],
   "source": [
    "del test_model_ll_l1_10_result\n",
    "gc.collect()"
   ]
  },
  {
   "cell_type": "code",
   "execution_count": 38,
   "id": "efe534cf",
   "metadata": {},
   "outputs": [
    {
     "name": "stdout",
     "output_type": "stream",
     "text": [
      "CPU times: user 12min 16s, sys: 2min, total: 14min 16s\n",
      "Wall time: 13min 34s\n"
     ]
    }
   ],
   "source": [
    "%%time\n",
    "\n",
    "test_model_ll_l1_11 = model_pipeline()\n",
    "test_model_ll_l1_11_result = test_model_ll_l1_11.evaluate(train_X,\n",
    "                     train_y,\n",
    "                     preprocessing = [('blur',['g',(256,256),(3,3),0,0])],\n",
    "                     model = LogisticRegression(penalty='l1', solver='liblinear'),\n",
    "                     param_grid=param_grid,\n",
    "                     optimizing_metric='f1',\n",
    "                     n_splits=5,\n",
    "                     return_transformed_features = False, \n",
    "                     return_grid = True, \n",
    "                     return_score = True, \n",
    "                     return_best_estimator = True, \n",
    "                     return_best_params = True, \n",
    "                     return_oos_pred = True, \n",
    "                     return_oos_prob = True, \n",
    "                     return_threshold_analysis=True)"
   ]
  },
  {
   "cell_type": "code",
   "execution_count": 39,
   "id": "c6b5e116",
   "metadata": {},
   "outputs": [
    {
     "data": {
      "text/plain": [
       "{'grid_search': GridSearchCV(cv=5,\n",
       "              estimator=LogisticRegression(penalty='l1', solver='liblinear'),\n",
       "              param_grid={'C': [1e-05, 0.0001, 0.001, 0.01, 0.1, 1],\n",
       "                          'max_iter': [100]},\n",
       "              scoring='f1'),\n",
       " 'best_estimator': LogisticRegression(C=1, penalty='l1', solver='liblinear'),\n",
       " 'best_params': {'C': 1, 'max_iter': 100},\n",
       " 'best_score': 0.9340583420486072,\n",
       " 'oos_preds': 54      1\n",
       " 2602    0\n",
       " 3433    0\n",
       " 235     1\n",
       " 1806    1\n",
       "        ..\n",
       " 3330    0\n",
       " 70      1\n",
       " 132     1\n",
       " 2014    1\n",
       " 1931    1\n",
       " Name: label, Length: 3220, dtype: uint8,\n",
       " 'oos_probs': 54      1.000000\n",
       " 2602    0.000621\n",
       " 3433    0.000936\n",
       " 235     0.999996\n",
       " 1806    0.999345\n",
       "           ...   \n",
       " 3330    0.000026\n",
       " 70      1.000000\n",
       " 132     0.999994\n",
       " 2014    0.997928\n",
       " 1931    1.000000\n",
       " Name: label, Length: 3220, dtype: float64,\n",
       " 'threshold_analysis': {'best_thresh': 0.12,\n",
       "  'best_score': 0.9387868670005566,\n",
       "  'best_preds': array([1, 0, 0, ..., 1, 1, 1])}}"
      ]
     },
     "execution_count": 39,
     "metadata": {},
     "output_type": "execute_result"
    }
   ],
   "source": [
    "pickle.dump(test_model_ll_l1_11_result,open('linear_model_results/log_reg_test_model_ll_l1_11_result.pkl','wb'))\n",
    "test_model_ll_l1_11_result"
   ]
  },
  {
   "cell_type": "code",
   "execution_count": 40,
   "id": "4663bacf",
   "metadata": {},
   "outputs": [
    {
     "data": {
      "text/plain": [
       "24"
      ]
     },
     "execution_count": 40,
     "metadata": {},
     "output_type": "execute_result"
    }
   ],
   "source": [
    "del test_model_ll_l1_11_result\n",
    "gc.collect()"
   ]
  },
  {
   "cell_type": "code",
   "execution_count": null,
   "id": "55d32c60",
   "metadata": {},
   "outputs": [],
   "source": []
  },
  {
   "cell_type": "code",
   "execution_count": null,
   "id": "04ad8bc1",
   "metadata": {},
   "outputs": [],
   "source": []
  },
  {
   "cell_type": "code",
   "execution_count": null,
   "id": "32c92ed8",
   "metadata": {},
   "outputs": [],
   "source": []
  },
  {
   "cell_type": "code",
   "execution_count": null,
   "id": "ca36e57b",
   "metadata": {},
   "outputs": [],
   "source": []
  },
  {
   "cell_type": "code",
   "execution_count": null,
   "id": "61a815a3",
   "metadata": {},
   "outputs": [],
   "source": []
  },
  {
   "cell_type": "code",
   "execution_count": null,
   "id": "f3ee659d",
   "metadata": {},
   "outputs": [],
   "source": []
  },
  {
   "cell_type": "code",
   "execution_count": null,
   "id": "53fa8d58",
   "metadata": {},
   "outputs": [],
   "source": []
  },
  {
   "cell_type": "code",
   "execution_count": null,
   "id": "d1cdeffc",
   "metadata": {},
   "outputs": [],
   "source": []
  },
  {
   "cell_type": "code",
   "execution_count": null,
   "id": "e87ebd75",
   "metadata": {},
   "outputs": [],
   "source": []
  },
  {
   "cell_type": "code",
   "execution_count": null,
   "id": "beca58e1",
   "metadata": {},
   "outputs": [],
   "source": []
  },
  {
   "cell_type": "code",
   "execution_count": null,
   "id": "3519276a",
   "metadata": {},
   "outputs": [],
   "source": []
  },
  {
   "cell_type": "code",
   "execution_count": null,
   "id": "1e9a23ed",
   "metadata": {},
   "outputs": [],
   "source": []
  },
  {
   "cell_type": "code",
   "execution_count": null,
   "id": "7cecf1b0",
   "metadata": {},
   "outputs": [],
   "source": []
  }
 ],
 "metadata": {
  "kernelspec": {
   "display_name": "conda_tensorflow2_p36",
   "language": "python",
   "name": "conda_tensorflow2_p36"
  },
  "language_info": {
   "codemirror_mode": {
    "name": "ipython",
    "version": 3
   },
   "file_extension": ".py",
   "mimetype": "text/x-python",
   "name": "python",
   "nbconvert_exporter": "python",
   "pygments_lexer": "ipython3",
   "version": "3.6.13"
  }
 },
 "nbformat": 4,
 "nbformat_minor": 5
}
