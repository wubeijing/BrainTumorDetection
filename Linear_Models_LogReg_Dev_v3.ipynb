{
 "cells": [
  {
   "cell_type": "markdown",
   "id": "4d409a4b",
   "metadata": {},
   "source": [
    "# Import Necessary Packages and Libraries"
   ]
  },
  {
   "cell_type": "code",
   "execution_count": 1,
   "id": "2cba9018",
   "metadata": {},
   "outputs": [
    {
     "name": "stdout",
     "output_type": "stream",
     "text": [
      "Requirement already satisfied: watermark in /home/ec2-user/anaconda3/envs/tensorflow2_p36/lib/python3.6/site-packages (2.0.2)\n",
      "Requirement already satisfied: ipython in /home/ec2-user/anaconda3/envs/tensorflow2_p36/lib/python3.6/site-packages (from watermark) (7.16.1)\n",
      "Requirement already satisfied: jedi>=0.10 in /home/ec2-user/anaconda3/envs/tensorflow2_p36/lib/python3.6/site-packages (from ipython->watermark) (0.17.2)\n",
      "Requirement already satisfied: pickleshare in /home/ec2-user/anaconda3/envs/tensorflow2_p36/lib/python3.6/site-packages (from ipython->watermark) (0.7.5)\n",
      "Requirement already satisfied: decorator in /home/ec2-user/anaconda3/envs/tensorflow2_p36/lib/python3.6/site-packages (from ipython->watermark) (4.4.2)\n",
      "Requirement already satisfied: setuptools>=18.5 in /home/ec2-user/anaconda3/envs/tensorflow2_p36/lib/python3.6/site-packages (from ipython->watermark) (49.6.0.post20210108)\n",
      "Requirement already satisfied: backcall in /home/ec2-user/anaconda3/envs/tensorflow2_p36/lib/python3.6/site-packages (from ipython->watermark) (0.2.0)\n",
      "Requirement already satisfied: prompt-toolkit!=3.0.0,!=3.0.1,<3.1.0,>=2.0.0 in /home/ec2-user/anaconda3/envs/tensorflow2_p36/lib/python3.6/site-packages (from ipython->watermark) (3.0.5)\n",
      "Requirement already satisfied: traitlets>=4.2 in /home/ec2-user/anaconda3/envs/tensorflow2_p36/lib/python3.6/site-packages (from ipython->watermark) (4.3.3)\n",
      "Requirement already satisfied: pexpect in /home/ec2-user/anaconda3/envs/tensorflow2_p36/lib/python3.6/site-packages (from ipython->watermark) (4.8.0)\n",
      "Requirement already satisfied: pygments in /home/ec2-user/anaconda3/envs/tensorflow2_p36/lib/python3.6/site-packages (from ipython->watermark) (2.8.0)\n",
      "Requirement already satisfied: parso<0.8.0,>=0.7.0 in /home/ec2-user/anaconda3/envs/tensorflow2_p36/lib/python3.6/site-packages (from jedi>=0.10->ipython->watermark) (0.7.0)\n",
      "Requirement already satisfied: wcwidth in /home/ec2-user/anaconda3/envs/tensorflow2_p36/lib/python3.6/site-packages (from prompt-toolkit!=3.0.0,!=3.0.1,<3.1.0,>=2.0.0->ipython->watermark) (0.2.5)\n",
      "Requirement already satisfied: ipython-genutils in /home/ec2-user/anaconda3/envs/tensorflow2_p36/lib/python3.6/site-packages (from traitlets>=4.2->ipython->watermark) (0.2.0)\n",
      "Requirement already satisfied: six in /home/ec2-user/anaconda3/envs/tensorflow2_p36/lib/python3.6/site-packages (from traitlets>=4.2->ipython->watermark) (1.15.0)\n",
      "Requirement already satisfied: ptyprocess>=0.5 in /home/ec2-user/anaconda3/envs/tensorflow2_p36/lib/python3.6/site-packages (from pexpect->ipython->watermark) (0.7.0)\n",
      "Requirement already satisfied: xgboost in /home/ec2-user/anaconda3/envs/tensorflow2_p36/lib/python3.6/site-packages (1.5.2)\n",
      "Requirement already satisfied: numpy in /home/ec2-user/anaconda3/envs/tensorflow2_p36/lib/python3.6/site-packages (from xgboost) (1.19.5)\n",
      "Requirement already satisfied: scipy in /home/ec2-user/anaconda3/envs/tensorflow2_p36/lib/python3.6/site-packages (from xgboost) (1.5.3)\n"
     ]
    }
   ],
   "source": [
    "!pip install watermark\n",
    "\n",
    "!pip install xgboost"
   ]
  },
  {
   "cell_type": "code",
   "execution_count": 2,
   "id": "6b0ad46e",
   "metadata": {},
   "outputs": [],
   "source": [
    "# IMAGE PREPROCESSING FUNCTIONS FOR USE IN MODEL DEVELOPMENT, EVALUATION, AND PRODUCTION\n",
    "import numpy as np\n",
    "import pandas as pd\n",
    "import PIL as pil\n",
    "import PIL\n",
    "import matplotlib.pyplot as plt\n",
    "import seaborn as sns\n",
    "from os import listdir\n",
    "from os.path import isfile, join\n",
    "import tempfile\n",
    "import pickle\n",
    "import time\n",
    "import gc\n",
    "import skimage.filters\n",
    "import cv2\n",
    "import watermark\n",
    "import joblib\n",
    "import math\n",
    "import sys\n",
    "from skimage.measure import block_reduce\n",
    "from image_preprocessing import standardize_image_dataset,resize_dataset,binarize_dataset,crop_dataset,process_dataset_blur,do_pooling_dataset\n",
    "from pipeline import model_pipeline\n",
    "from automate_optimal_model_dev import automate_optimal_model_dev\n",
    "from eval_on_test import make_preds\n",
    "\n",
    "from sklearn.neighbors import KNeighborsClassifier\n",
    "from sklearn.tree import DecisionTreeClassifier\n",
    "from sklearn.ensemble import RandomForestClassifier,GradientBoostingClassifier\n",
    "from sklearn.linear_model import LogisticRegression\n",
    "from sklearn.naive_bayes import CategoricalNB,GaussianNB\n",
    "from sklearn.svm import SVC\n",
    "from xgboost import XGBClassifier\n",
    "from sklearn.model_selection import GridSearchCV,KFold\n",
    "from sklearn.metrics import accuracy_score,f1_score\n",
    "from sklearn.base import clone\n",
    "from sklearn.metrics import confusion_matrix"
   ]
  },
  {
   "cell_type": "code",
   "execution_count": 3,
   "id": "e71c98c5",
   "metadata": {},
   "outputs": [],
   "source": [
    "import warnings\n",
    "warnings.filterwarnings('ignore')"
   ]
  },
  {
   "cell_type": "markdown",
   "id": "ee0e3d01",
   "metadata": {},
   "source": [
    "# Read in Training Data"
   ]
  },
  {
   "cell_type": "code",
   "execution_count": 4,
   "id": "89d8f966",
   "metadata": {},
   "outputs": [],
   "source": [
    "training_data = pickle.load(open('Amit/Labeled Data/train_data.pkl','rb'))\n",
    "train_X, train_y = training_data.iloc[:,:-1],training_data.iloc[:,-1]"
   ]
  },
  {
   "cell_type": "code",
   "execution_count": 5,
   "id": "672142ff",
   "metadata": {},
   "outputs": [
    {
     "name": "stdout",
     "output_type": "stream",
     "text": [
      "CPU times: user 2min 37s, sys: 1.11 s, total: 2min 38s\n",
      "Wall time: 4min 23s\n"
     ]
    },
    {
     "data": {
      "text/plain": [
       "29"
      ]
     },
     "execution_count": 5,
     "metadata": {},
     "output_type": "execute_result"
    }
   ],
   "source": [
    "%%time\n",
    "all_data = pickle.load(open('Amit/Labeled Data/train_data.pkl','rb'))\n",
    "train_x,train_y = all_data.iloc[:,:-1],all_data.iloc[:,-1]\n",
    "resized_16_16_train_x = resize_dataset(train_x,(256,256),(16,16))\n",
    "del all_data\n",
    "gc.collect()\n"
   ]
  },
  {
   "cell_type": "markdown",
   "id": "99d887b5",
   "metadata": {},
   "source": [
    "### Logistic Regression Test Example"
   ]
  },
  {
   "cell_type": "code",
   "execution_count": 6,
   "id": "dd315b8c",
   "metadata": {},
   "outputs": [],
   "source": [
    "param_grid = {'C':[0.00001,0.0001, 0.001, 0.01, 0.1, 1],\n",
    "    'max_iter':[100]}"
   ]
  },
  {
   "cell_type": "code",
   "execution_count": 7,
   "id": "e60a4ee4",
   "metadata": {},
   "outputs": [
    {
     "name": "stdout",
     "output_type": "stream",
     "text": [
      "CPU times: user 5h 50min 49s, sys: 5h 2min 48s, total: 10h 53min 38s\n",
      "Wall time: 1h 1min 41s\n"
     ]
    }
   ],
   "source": [
    "%%time\n",
    "\n",
    "test_model_ll_l2_1 = model_pipeline()\n",
    "test_model_ll_l2_1_result = test_model_ll_l2_1.evaluate(train_X,\n",
    "                     train_y,\n",
    "                     preprocessing = [('binarize',[True,0.3]),\n",
    "                                 ('crop',[(256,256),(256,256)]),\n",
    "                                 ('blur',['g',(256,256),(5,5),0,0]),\n",
    "                                 ('pool',[(2,2),np.max])],\n",
    "                     model = LogisticRegression(solver='liblinear'),\n",
    "                     param_grid=param_grid,\n",
    "                     optimizing_metric='f1',\n",
    "                     n_splits=5,\n",
    "                     return_transformed_features = False, \n",
    "                     return_grid = True, \n",
    "                     return_score = True, \n",
    "                     return_best_estimator = True, \n",
    "                     return_best_params = True, \n",
    "                     return_oos_pred = True, \n",
    "                     return_oos_prob = True, \n",
    "                     return_threshold_analysis=True)\n",
    "                        \n",
    "                           "
   ]
  },
  {
   "cell_type": "code",
   "execution_count": 8,
   "id": "bbae42ce",
   "metadata": {},
   "outputs": [
    {
     "data": {
      "text/plain": [
       "{'grid_search': GridSearchCV(cv=5, estimator=LogisticRegression(solver='liblinear'),\n",
       "              param_grid={'C': [1e-05, 0.0001, 0.001, 0.01, 0.1, 1],\n",
       "                          'max_iter': [100]},\n",
       "              scoring='f1'),\n",
       " 'best_estimator': LogisticRegression(C=0.0001, solver='liblinear'),\n",
       " 'best_params': {'C': 0.0001, 'max_iter': 100},\n",
       " 'best_score': 0.8935082094906768,\n",
       " 'oos_preds': 54      1\n",
       " 2602    0\n",
       " 3433    0\n",
       " 235     1\n",
       " 1806    1\n",
       "        ..\n",
       " 3330    0\n",
       " 70      1\n",
       " 132     1\n",
       " 2014    1\n",
       " 1931    1\n",
       " Name: label, Length: 3220, dtype: uint8,\n",
       " 'oos_probs': 54      0.565620\n",
       " 2602    0.002732\n",
       " 3433    0.013336\n",
       " 235     0.989061\n",
       " 1806    0.950505\n",
       "           ...   \n",
       " 3330    0.001834\n",
       " 70      0.589621\n",
       " 132     0.977175\n",
       " 2014    0.999782\n",
       " 1931    0.997194\n",
       " Name: label, Length: 3220, dtype: float64,\n",
       " 'threshold_analysis': {'best_thresh': 0.5,\n",
       "  'best_score': 0.8959251101321585,\n",
       "  'best_preds': 54      1\n",
       "  2602    0\n",
       "  3433    0\n",
       "  235     1\n",
       "  1806    1\n",
       "         ..\n",
       "  3330    0\n",
       "  70      1\n",
       "  132     1\n",
       "  2014    1\n",
       "  1931    1\n",
       "  Name: label, Length: 3220, dtype: uint8}}"
      ]
     },
     "execution_count": 8,
     "metadata": {},
     "output_type": "execute_result"
    }
   ],
   "source": [
    "test_model_ll_l2_1_result"
   ]
  },
  {
   "cell_type": "code",
   "execution_count": 9,
   "id": "1321eb30",
   "metadata": {},
   "outputs": [],
   "source": [
    "pickle.dump(test_model_ll_l2_1_result,open('linear_model_results/test_model_ll_l2_1_result.pkl','wb'))"
   ]
  },
  {
   "cell_type": "code",
   "execution_count": 10,
   "id": "0921f460",
   "metadata": {},
   "outputs": [
    {
     "name": "stdout",
     "output_type": "stream",
     "text": [
      "CPU times: user 5h 50min 19s, sys: 5h 1min 46s, total: 10h 52min 5s\n",
      "Wall time: 58min 13s\n"
     ]
    }
   ],
   "source": [
    "%%time\n",
    "\n",
    "test_model_ll_l2_2 = model_pipeline()\n",
    "test_model_ll_l2_2_result = test_model_ll_l2_2.evaluate(train_X,\n",
    "                     train_y,\n",
    "                     preprocessing = [('binarize',[True,0.35]),\n",
    "                                 ('crop',[(256,256),(256,256)]),\n",
    "                                 ('blur',['g',(256,256),(5,5),0,0]),\n",
    "                                 ('pool',[(2,2),np.max])],\n",
    "                     model = LogisticRegression(solver='liblinear'),\n",
    "                     param_grid=param_grid,\n",
    "                     optimizing_metric='f1',\n",
    "                     n_splits=5,\n",
    "                     return_transformed_features = False, \n",
    "                     return_grid = True, \n",
    "                     return_score = True, \n",
    "                     return_best_estimator = True, \n",
    "                     return_best_params = True, \n",
    "                     return_oos_pred = True, \n",
    "                     return_oos_prob = True, \n",
    "                     return_threshold_analysis=True)\n",
    "                        \n",
    "                           "
   ]
  },
  {
   "cell_type": "code",
   "execution_count": 11,
   "id": "2351c06e",
   "metadata": {},
   "outputs": [
    {
     "data": {
      "text/plain": [
       "{'grid_search': GridSearchCV(cv=5, estimator=LogisticRegression(solver='liblinear'),\n",
       "              param_grid={'C': [1e-05, 0.0001, 0.001, 0.01, 0.1, 1],\n",
       "                          'max_iter': [100]},\n",
       "              scoring='f1'),\n",
       " 'best_estimator': LogisticRegression(C=0.0001, solver='liblinear'),\n",
       " 'best_params': {'C': 0.0001, 'max_iter': 100},\n",
       " 'best_score': 0.8935082094906768,\n",
       " 'oos_preds': 54      1\n",
       " 2602    0\n",
       " 3433    0\n",
       " 235     1\n",
       " 1806    1\n",
       "        ..\n",
       " 3330    0\n",
       " 70      1\n",
       " 132     1\n",
       " 2014    1\n",
       " 1931    1\n",
       " Name: label, Length: 3220, dtype: uint8,\n",
       " 'oos_probs': 54      0.565620\n",
       " 2602    0.002732\n",
       " 3433    0.013336\n",
       " 235     0.989061\n",
       " 1806    0.950505\n",
       "           ...   \n",
       " 3330    0.001834\n",
       " 70      0.589621\n",
       " 132     0.977175\n",
       " 2014    0.999782\n",
       " 1931    0.997194\n",
       " Name: label, Length: 3220, dtype: float64,\n",
       " 'threshold_analysis': {'best_thresh': 0.5,\n",
       "  'best_score': 0.8959251101321585,\n",
       "  'best_preds': 54      1\n",
       "  2602    0\n",
       "  3433    0\n",
       "  235     1\n",
       "  1806    1\n",
       "         ..\n",
       "  3330    0\n",
       "  70      1\n",
       "  132     1\n",
       "  2014    1\n",
       "  1931    1\n",
       "  Name: label, Length: 3220, dtype: uint8}}"
      ]
     },
     "execution_count": 11,
     "metadata": {},
     "output_type": "execute_result"
    }
   ],
   "source": [
    "test_model_ll_l2_2_result"
   ]
  },
  {
   "cell_type": "code",
   "execution_count": 12,
   "id": "10a810af",
   "metadata": {},
   "outputs": [],
   "source": [
    "pickle.dump(test_model_ll_l2_2_result,open('linear_model_results/log_reg_test_model_ll_l2_2_result.pkl','wb'))"
   ]
  },
  {
   "cell_type": "code",
   "execution_count": 13,
   "id": "1b9b3c41",
   "metadata": {},
   "outputs": [
    {
     "name": "stdout",
     "output_type": "stream",
     "text": [
      "CPU times: user 5h 39min 22s, sys: 4h 53min 22s, total: 10h 32min 45s\n",
      "Wall time: 54min 59s\n"
     ]
    }
   ],
   "source": [
    "%%time\n",
    "\n",
    "test_model_ll_l2_3 = model_pipeline()\n",
    "test_model_ll_l2_3_result = test_model_ll_l2_3.evaluate(train_X,\n",
    "                     train_y,\n",
    "                     preprocessing = [('binarize',[True,0.3]),\n",
    "                                 ('crop',[(256,256),(256,256)]),\n",
    "                                 ('blur',['g',(256,256),(3,3),0,0]),\n",
    "                                 ('pool',[(2,2),np.max])],\n",
    "                     model = LogisticRegression(solver='liblinear'),\n",
    "                     param_grid=param_grid,\n",
    "                     optimizing_metric='f1',\n",
    "                     n_splits=5,\n",
    "                     return_transformed_features = False, \n",
    "                     return_grid = True, \n",
    "                     return_score = True, \n",
    "                     return_best_estimator = True, \n",
    "                     return_best_params = True, \n",
    "                     return_oos_pred = True, \n",
    "                     return_oos_prob = True, \n",
    "                     return_threshold_analysis=True)\n"
   ]
  },
  {
   "cell_type": "code",
   "execution_count": 14,
   "id": "dd7a5679",
   "metadata": {},
   "outputs": [],
   "source": [
    "pickle.dump(test_model_ll_l2_3_result,open('linear_model_results/log_reg_test_model_ll_l2_3_result.pkl','wb'))"
   ]
  },
  {
   "cell_type": "code",
   "execution_count": 15,
   "id": "901db96f",
   "metadata": {},
   "outputs": [
    {
     "data": {
      "text/plain": [
       "{'grid_search': GridSearchCV(cv=5, estimator=LogisticRegression(solver='liblinear'),\n",
       "              param_grid={'C': [1e-05, 0.0001, 0.001, 0.01, 0.1, 1],\n",
       "                          'max_iter': [100]},\n",
       "              scoring='f1'),\n",
       " 'best_estimator': LogisticRegression(C=0.0001, solver='liblinear'),\n",
       " 'best_params': {'C': 0.0001, 'max_iter': 100},\n",
       " 'best_score': 0.8977095072598795,\n",
       " 'oos_preds': 54      1\n",
       " 2602    0\n",
       " 3433    0\n",
       " 235     1\n",
       " 1806    1\n",
       "        ..\n",
       " 3330    0\n",
       " 70      1\n",
       " 132     1\n",
       " 2014    1\n",
       " 1931    1\n",
       " Name: label, Length: 3220, dtype: uint8,\n",
       " 'oos_probs': 54      0.572475\n",
       " 2602    0.002628\n",
       " 3433    0.011303\n",
       " 235     0.991357\n",
       " 1806    0.927139\n",
       "           ...   \n",
       " 3330    0.001347\n",
       " 70      0.596257\n",
       " 132     0.968054\n",
       " 2014    0.999716\n",
       " 1931    0.997140\n",
       " Name: label, Length: 3220, dtype: float64,\n",
       " 'threshold_analysis': {'best_thresh': 0.5,\n",
       "  'best_score': 0.8990876416920099,\n",
       "  'best_preds': 54      1\n",
       "  2602    0\n",
       "  3433    0\n",
       "  235     1\n",
       "  1806    1\n",
       "         ..\n",
       "  3330    0\n",
       "  70      1\n",
       "  132     1\n",
       "  2014    1\n",
       "  1931    1\n",
       "  Name: label, Length: 3220, dtype: uint8}}"
      ]
     },
     "execution_count": 15,
     "metadata": {},
     "output_type": "execute_result"
    }
   ],
   "source": [
    "test_model_ll_l2_3_result"
   ]
  },
  {
   "cell_type": "code",
   "execution_count": null,
   "id": "603007e3",
   "metadata": {},
   "outputs": [],
   "source": []
  },
  {
   "cell_type": "code",
   "execution_count": 16,
   "id": "d395a6ea",
   "metadata": {},
   "outputs": [
    {
     "name": "stdout",
     "output_type": "stream",
     "text": [
      "CPU times: user 5h 55min 33s, sys: 5h 8min 19s, total: 11h 3min 52s\n",
      "Wall time: 59min 38s\n"
     ]
    }
   ],
   "source": [
    "%%time\n",
    "\n",
    "test_model_ll_l2_4 = model_pipeline()\n",
    "test_model_ll_l2_4_result = test_model_ll_l2_4.evaluate(train_X,\n",
    "                     train_y,\n",
    "                     preprocessing = [('binarize',[True,0.3]),\n",
    "                                 ('crop',[(256,256),(256,256)]),\n",
    "                                 ('blur',['b',(256,256),(5,5),0,0]),\n",
    "                                 ('pool',[(2,2),np.max])],\n",
    "                     model = LogisticRegression(solver='liblinear'),\n",
    "                     param_grid=param_grid,\n",
    "                     optimizing_metric='f1',\n",
    "                     n_splits=5,\n",
    "                     return_transformed_features = False, \n",
    "                     return_grid = True, \n",
    "                     return_score = True, \n",
    "                     return_best_estimator = True, \n",
    "                     return_best_params = True, \n",
    "                     return_oos_pred = True, \n",
    "                     return_oos_prob = True, \n",
    "                     return_threshold_analysis=True)"
   ]
  },
  {
   "cell_type": "code",
   "execution_count": 17,
   "id": "a6032a5e",
   "metadata": {},
   "outputs": [],
   "source": [
    "pickle.dump(test_model_ll_l2_4_result,open('linear_model_results/log_reg_test_model_ll_l2_4_result.pkl','wb'))"
   ]
  },
  {
   "cell_type": "code",
   "execution_count": 18,
   "id": "c0bec5bc",
   "metadata": {},
   "outputs": [
    {
     "data": {
      "text/plain": [
       "{'grid_search': GridSearchCV(cv=5, estimator=LogisticRegression(solver='liblinear'),\n",
       "              param_grid={'C': [1e-05, 0.0001, 0.001, 0.01, 0.1, 1],\n",
       "                          'max_iter': [100]},\n",
       "              scoring='f1'),\n",
       " 'best_estimator': LogisticRegression(C=0.0001, solver='liblinear'),\n",
       " 'best_params': {'C': 0.0001, 'max_iter': 100},\n",
       " 'best_score': 0.883061015102316,\n",
       " 'oos_preds': 54      1\n",
       " 2602    0\n",
       " 3433    0\n",
       " 235     1\n",
       " 1806    1\n",
       "        ..\n",
       " 3330    0\n",
       " 70      1\n",
       " 132     1\n",
       " 2014    1\n",
       " 1931    1\n",
       " Name: label, Length: 3220, dtype: uint8,\n",
       " 'oos_probs': 54      0.553606\n",
       " 2602    0.003800\n",
       " 3433    0.019615\n",
       " 235     0.985199\n",
       " 1806    0.986881\n",
       "           ...   \n",
       " 3330    0.003126\n",
       " 70      0.576528\n",
       " 132     0.974321\n",
       " 2014    0.998683\n",
       " 1931    0.996366\n",
       " Name: label, Length: 3220, dtype: float64,\n",
       " 'threshold_analysis': {'best_thresh': 0.5,\n",
       "  'best_score': 0.8852369213913998,\n",
       "  'best_preds': 54      1\n",
       "  2602    0\n",
       "  3433    0\n",
       "  235     1\n",
       "  1806    1\n",
       "         ..\n",
       "  3330    0\n",
       "  70      1\n",
       "  132     1\n",
       "  2014    1\n",
       "  1931    1\n",
       "  Name: label, Length: 3220, dtype: uint8}}"
      ]
     },
     "execution_count": 18,
     "metadata": {},
     "output_type": "execute_result"
    }
   ],
   "source": [
    "test_model_ll_l2_4_result"
   ]
  },
  {
   "cell_type": "code",
   "execution_count": 19,
   "id": "f857f545",
   "metadata": {},
   "outputs": [
    {
     "data": {
      "text/plain": [
       "24"
      ]
     },
     "execution_count": 19,
     "metadata": {},
     "output_type": "execute_result"
    }
   ],
   "source": [
    "del test_model_ll_l2_4_result\n",
    "gc.collect()"
   ]
  },
  {
   "cell_type": "code",
   "execution_count": 20,
   "id": "14bf1079",
   "metadata": {},
   "outputs": [
    {
     "name": "stdout",
     "output_type": "stream",
     "text": [
      "CPU times: user 5h 54min 17s, sys: 5h 7min 19s, total: 11h 1min 37s\n",
      "Wall time: 58min 29s\n"
     ]
    }
   ],
   "source": [
    "%%time\n",
    "\n",
    "test_model_ll_l2_5 = model_pipeline()\n",
    "test_model_ll_l2_5_result = test_model_ll_l2_5.evaluate(train_X,\n",
    "                     train_y,\n",
    "                     preprocessing = [('binarize',[True,0.35]),\n",
    "                                 ('crop',[(256,256),(256,256)]),\n",
    "                                 ('blur',['b',(256,256),(5,5),0,0]),\n",
    "                                 ('pool',[(2,2),np.max])],\n",
    "                     model = LogisticRegression(solver='liblinear'),\n",
    "                     param_grid=param_grid,\n",
    "                     optimizing_metric='f1',\n",
    "                     n_splits=5,\n",
    "                     return_transformed_features = False, \n",
    "                     return_grid = True, \n",
    "                     return_score = True, \n",
    "                     return_best_estimator = True, \n",
    "                     return_best_params = True, \n",
    "                     return_oos_pred = True, \n",
    "                     return_oos_prob = True, \n",
    "                     return_threshold_analysis=True)"
   ]
  },
  {
   "cell_type": "code",
   "execution_count": 21,
   "id": "3a6845d5",
   "metadata": {},
   "outputs": [
    {
     "data": {
      "text/plain": [
       "{'grid_search': GridSearchCV(cv=5, estimator=LogisticRegression(solver='liblinear'),\n",
       "              param_grid={'C': [1e-05, 0.0001, 0.001, 0.01, 0.1, 1],\n",
       "                          'max_iter': [100]},\n",
       "              scoring='f1'),\n",
       " 'best_estimator': LogisticRegression(C=0.0001, solver='liblinear'),\n",
       " 'best_params': {'C': 0.0001, 'max_iter': 100},\n",
       " 'best_score': 0.883061015102316,\n",
       " 'oos_preds': 54      1\n",
       " 2602    0\n",
       " 3433    0\n",
       " 235     1\n",
       " 1806    1\n",
       "        ..\n",
       " 3330    0\n",
       " 70      1\n",
       " 132     1\n",
       " 2014    1\n",
       " 1931    1\n",
       " Name: label, Length: 3220, dtype: uint8,\n",
       " 'oos_probs': 54      0.553606\n",
       " 2602    0.003800\n",
       " 3433    0.019615\n",
       " 235     0.985199\n",
       " 1806    0.986881\n",
       "           ...   \n",
       " 3330    0.003126\n",
       " 70      0.576528\n",
       " 132     0.974321\n",
       " 2014    0.998683\n",
       " 1931    0.996366\n",
       " Name: label, Length: 3220, dtype: float64,\n",
       " 'threshold_analysis': {'best_thresh': 0.5,\n",
       "  'best_score': 0.8852369213913998,\n",
       "  'best_preds': 54      1\n",
       "  2602    0\n",
       "  3433    0\n",
       "  235     1\n",
       "  1806    1\n",
       "         ..\n",
       "  3330    0\n",
       "  70      1\n",
       "  132     1\n",
       "  2014    1\n",
       "  1931    1\n",
       "  Name: label, Length: 3220, dtype: uint8}}"
      ]
     },
     "execution_count": 21,
     "metadata": {},
     "output_type": "execute_result"
    }
   ],
   "source": [
    "pickle.dump(test_model_ll_l2_5_result,open('linear_model_results/log_reg_test_model_ll_l2_5_result.pkl','wb'))\n",
    "test_model_ll_l2_5_result"
   ]
  },
  {
   "cell_type": "code",
   "execution_count": 22,
   "id": "869de3c2",
   "metadata": {},
   "outputs": [
    {
     "data": {
      "text/plain": [
       "24"
      ]
     },
     "execution_count": 22,
     "metadata": {},
     "output_type": "execute_result"
    }
   ],
   "source": [
    "del test_model_ll_l2_5_result\n",
    "gc.collect()"
   ]
  },
  {
   "cell_type": "code",
   "execution_count": 23,
   "id": "b1a7b0c4",
   "metadata": {},
   "outputs": [
    {
     "name": "stdout",
     "output_type": "stream",
     "text": [
      "CPU times: user 5h 28min 19s, sys: 4h 46min 32s, total: 10h 14min 52s\n",
      "Wall time: 57min 20s\n"
     ]
    }
   ],
   "source": [
    "%%time\n",
    "\n",
    "test_model_ll_l2_6 = model_pipeline()\n",
    "test_model_ll_l2_6_result = test_model_ll_l2_6.evaluate(train_X,\n",
    "                     train_y,\n",
    "                     preprocessing = [('binarize',[True,0.3]),\n",
    "                                 ('crop',[(256,256),(256,256)]),\n",
    "                                 ('blur',['b',(256,256),(3,3),0,0]),\n",
    "                                 ('pool',[(2,2),np.max])],\n",
    "                     model = LogisticRegression(solver='liblinear'),\n",
    "                     param_grid=param_grid,\n",
    "                     optimizing_metric='f1',\n",
    "                     n_splits=5,\n",
    "                     return_transformed_features = False, \n",
    "                     return_grid = True, \n",
    "                     return_score = True, \n",
    "                     return_best_estimator = True, \n",
    "                     return_best_params = True, \n",
    "                     return_oos_pred = True, \n",
    "                     return_oos_prob = True, \n",
    "                     return_threshold_analysis=True)"
   ]
  },
  {
   "cell_type": "code",
   "execution_count": 24,
   "id": "462cd2b9",
   "metadata": {},
   "outputs": [
    {
     "data": {
      "text/plain": [
       "{'grid_search': GridSearchCV(cv=5, estimator=LogisticRegression(solver='liblinear'),\n",
       "              param_grid={'C': [1e-05, 0.0001, 0.001, 0.01, 0.1, 1],\n",
       "                          'max_iter': [100]},\n",
       "              scoring='f1'),\n",
       " 'best_estimator': LogisticRegression(C=0.0001, solver='liblinear'),\n",
       " 'best_params': {'C': 0.0001, 'max_iter': 100},\n",
       " 'best_score': 0.8906506267021607,\n",
       " 'oos_preds': 54      1\n",
       " 2602    0\n",
       " 3433    0\n",
       " 235     1\n",
       " 1806    1\n",
       "        ..\n",
       " 3330    0\n",
       " 70      1\n",
       " 132     1\n",
       " 2014    1\n",
       " 1931    1\n",
       " Name: label, Length: 3220, dtype: uint8,\n",
       " 'oos_probs': 54      0.572228\n",
       " 2602    0.001978\n",
       " 3433    0.011742\n",
       " 235     0.990854\n",
       " 1806    0.955766\n",
       "           ...   \n",
       " 3330    0.001423\n",
       " 70      0.598650\n",
       " 132     0.977953\n",
       " 2014    0.999677\n",
       " 1931    0.997673\n",
       " Name: label, Length: 3220, dtype: float64,\n",
       " 'threshold_analysis': {'best_thresh': 0.5,\n",
       "  'best_score': 0.8932413793103449,\n",
       "  'best_preds': 54      1\n",
       "  2602    0\n",
       "  3433    0\n",
       "  235     1\n",
       "  1806    1\n",
       "         ..\n",
       "  3330    0\n",
       "  70      1\n",
       "  132     1\n",
       "  2014    1\n",
       "  1931    1\n",
       "  Name: label, Length: 3220, dtype: uint8}}"
      ]
     },
     "execution_count": 24,
     "metadata": {},
     "output_type": "execute_result"
    }
   ],
   "source": [
    "pickle.dump(test_model_ll_l2_6_result,open('linear_model_results/log_reg_test_model_ll_l2_6_result.pkl','wb'))\n",
    "test_model_ll_l2_6_result"
   ]
  },
  {
   "cell_type": "code",
   "execution_count": 25,
   "id": "01d3b1b7",
   "metadata": {},
   "outputs": [
    {
     "data": {
      "text/plain": [
       "24"
      ]
     },
     "execution_count": 25,
     "metadata": {},
     "output_type": "execute_result"
    }
   ],
   "source": [
    "del test_model_ll_l2_6_result\n",
    "gc.collect()"
   ]
  },
  {
   "cell_type": "code",
   "execution_count": 26,
   "id": "f50f08e9",
   "metadata": {},
   "outputs": [
    {
     "name": "stdout",
     "output_type": "stream",
     "text": [
      "CPU times: user 1h 17min 2s, sys: 1h 5min 8s, total: 2h 22min 11s\n",
      "Wall time: 14min 18s\n"
     ]
    }
   ],
   "source": [
    "%%time\n",
    "\n",
    "test_model_ll_l2_7 = model_pipeline()\n",
    "test_model_ll_l2_7_result = test_model_ll_l2_7.evaluate(train_X,\n",
    "                     train_y,\n",
    "                     preprocessing = [('pool',[(2,2),np.max])],\n",
    "                     model = LogisticRegression(solver='liblinear'),\n",
    "                     param_grid=param_grid,\n",
    "                     optimizing_metric='f1',\n",
    "                     n_splits=5,\n",
    "                     return_transformed_features = False, \n",
    "                     return_grid = True, \n",
    "                     return_score = True, \n",
    "                     return_best_estimator = True, \n",
    "                     return_best_params = True, \n",
    "                     return_oos_pred = True, \n",
    "                     return_oos_prob = True, \n",
    "                     return_threshold_analysis=True)"
   ]
  },
  {
   "cell_type": "code",
   "execution_count": 27,
   "id": "bdc56a76",
   "metadata": {},
   "outputs": [
    {
     "data": {
      "text/plain": [
       "{'grid_search': GridSearchCV(cv=5, estimator=LogisticRegression(solver='liblinear'),\n",
       "              param_grid={'C': [1e-05, 0.0001, 0.001, 0.01, 0.1, 1],\n",
       "                          'max_iter': [100]},\n",
       "              scoring='f1'),\n",
       " 'best_estimator': LogisticRegression(C=1e-05, solver='liblinear'),\n",
       " 'best_params': {'C': 1e-05, 'max_iter': 100},\n",
       " 'best_score': 0.9429641824012419,\n",
       " 'oos_preds': 54      1\n",
       " 2602    0\n",
       " 3433    0\n",
       " 235     1\n",
       " 1806    1\n",
       "        ..\n",
       " 3330    0\n",
       " 70      1\n",
       " 132     1\n",
       " 2014    1\n",
       " 1931    1\n",
       " Name: label, Length: 3220, dtype: uint8,\n",
       " 'oos_probs': 54      0.998566\n",
       " 2602    0.026213\n",
       " 3433    0.021751\n",
       " 235     0.985738\n",
       " 1806    0.988523\n",
       "           ...   \n",
       " 3330    0.005200\n",
       " 70      0.999990\n",
       " 132     0.999468\n",
       " 2014    0.950810\n",
       " 1931    0.991492\n",
       " Name: label, Length: 3220, dtype: float64,\n",
       " 'threshold_analysis': {'best_thresh': 0.24000000000000002,\n",
       "  'best_score': 0.9441680486456606,\n",
       "  'best_preds': array([1, 0, 0, ..., 1, 1, 1])}}"
      ]
     },
     "execution_count": 27,
     "metadata": {},
     "output_type": "execute_result"
    }
   ],
   "source": [
    "pickle.dump(test_model_ll_l2_7_result,open('linear_model_results/log_reg_test_model_ll_l2_7_result.pkl','wb'))\n",
    "test_model_ll_l2_7_result"
   ]
  },
  {
   "cell_type": "code",
   "execution_count": 28,
   "id": "b64c9aa2",
   "metadata": {},
   "outputs": [
    {
     "data": {
      "text/plain": [
       "24"
      ]
     },
     "execution_count": 28,
     "metadata": {},
     "output_type": "execute_result"
    }
   ],
   "source": [
    "del test_model_ll_l2_7_result\n",
    "gc.collect()"
   ]
  },
  {
   "cell_type": "code",
   "execution_count": 29,
   "id": "06c311b7",
   "metadata": {},
   "outputs": [
    {
     "name": "stdout",
     "output_type": "stream",
     "text": [
      "CPU times: user 56min 45s, sys: 40min 7s, total: 1h 36min 52s\n",
      "Wall time: 19min 11s\n"
     ]
    }
   ],
   "source": [
    "%%time\n",
    "\n",
    "test_model_ll_l2_8 = model_pipeline()\n",
    "test_model_ll_l2_8_result = test_model_ll_l2_8.evaluate(train_X,\n",
    "                     train_y,\n",
    "                     preprocessing = [('binarize',[True,0.3])],\n",
    "                     model = LogisticRegression(solver='liblinear'),\n",
    "                     param_grid=param_grid,\n",
    "                     optimizing_metric='f1',\n",
    "                     n_splits=5,\n",
    "                     return_transformed_features = False, \n",
    "                     return_grid = True, \n",
    "                     return_score = True, \n",
    "                     return_best_estimator = True, \n",
    "                     return_best_params = True, \n",
    "                     return_oos_pred = True, \n",
    "                     return_oos_prob = True, \n",
    "                     return_threshold_analysis=True)"
   ]
  },
  {
   "cell_type": "code",
   "execution_count": 30,
   "id": "d4ef032d",
   "metadata": {},
   "outputs": [
    {
     "data": {
      "text/plain": [
       "{'grid_search': GridSearchCV(cv=5, estimator=LogisticRegression(solver='liblinear'),\n",
       "              param_grid={'C': [1e-05, 0.0001, 0.001, 0.01, 0.1, 1],\n",
       "                          'max_iter': [100]},\n",
       "              scoring='f1'),\n",
       " 'best_estimator': LogisticRegression(C=1, solver='liblinear'),\n",
       " 'best_params': {'C': 1, 'max_iter': 100},\n",
       " 'best_score': 0.935460894129869,\n",
       " 'oos_preds': 54      1\n",
       " 2602    0\n",
       " 3433    0\n",
       " 235     1\n",
       " 1806    1\n",
       "        ..\n",
       " 3330    0\n",
       " 70      1\n",
       " 132     1\n",
       " 2014    1\n",
       " 1931    1\n",
       " Name: label, Length: 3220, dtype: uint8,\n",
       " 'oos_probs': 54      0.999998\n",
       " 2602    0.003764\n",
       " 3433    0.007116\n",
       " 235     0.997606\n",
       " 1806    0.998967\n",
       "           ...   \n",
       " 3330    0.000394\n",
       " 70      1.000000\n",
       " 132     0.999823\n",
       " 2014    0.986030\n",
       " 1931    0.999576\n",
       " Name: label, Length: 3220, dtype: float64,\n",
       " 'threshold_analysis': {'best_thresh': 0.2,\n",
       "  'best_score': 0.9445211150979851,\n",
       "  'best_preds': array([1, 0, 0, ..., 1, 1, 1])}}"
      ]
     },
     "execution_count": 30,
     "metadata": {},
     "output_type": "execute_result"
    }
   ],
   "source": [
    "pickle.dump(test_model_ll_l2_8_result,open('linear_model_results/log_reg_test_model_ll_l2_8_result.pkl','wb'))\n",
    "test_model_ll_l2_8_result"
   ]
  },
  {
   "cell_type": "code",
   "execution_count": 31,
   "id": "1ec7a2ab",
   "metadata": {},
   "outputs": [
    {
     "data": {
      "text/plain": [
       "24"
      ]
     },
     "execution_count": 31,
     "metadata": {},
     "output_type": "execute_result"
    }
   ],
   "source": [
    "del test_model_ll_l2_8_result\n",
    "gc.collect()"
   ]
  },
  {
   "cell_type": "code",
   "execution_count": 32,
   "id": "acbbfc30",
   "metadata": {},
   "outputs": [
    {
     "name": "stdout",
     "output_type": "stream",
     "text": [
      "CPU times: user 3h 44min 55s, sys: 2h 15min 22s, total: 6h 18s\n",
      "Wall time: 1h 35min 40s\n"
     ]
    }
   ],
   "source": [
    "%%time\n",
    "\n",
    "test_model_ll_l2_9 = model_pipeline()\n",
    "test_model_ll_l2_9_result = test_model_ll_l2_9.evaluate(train_X,\n",
    "                     train_y,\n",
    "                     preprocessing = [('crop',[(256,256),(256,256)])],\n",
    "                     model = LogisticRegression(solver='liblinear'),\n",
    "                     param_grid=param_grid,\n",
    "                     optimizing_metric='f1',\n",
    "                     n_splits=5,\n",
    "                     return_transformed_features = False, \n",
    "                     return_grid = True, \n",
    "                     return_score = True, \n",
    "                     return_best_estimator = True, \n",
    "                     return_best_params = True, \n",
    "                     return_oos_pred = True, \n",
    "                     return_oos_prob = True, \n",
    "                     return_threshold_analysis=True)"
   ]
  },
  {
   "cell_type": "code",
   "execution_count": 33,
   "id": "221439a2",
   "metadata": {},
   "outputs": [
    {
     "data": {
      "text/plain": [
       "{'grid_search': GridSearchCV(cv=5, estimator=LogisticRegression(solver='liblinear'),\n",
       "              param_grid={'C': [1e-05, 0.0001, 0.001, 0.01, 0.1, 1],\n",
       "                          'max_iter': [100]},\n",
       "              scoring='f1'),\n",
       " 'best_estimator': LogisticRegression(C=1e-05, solver='liblinear'),\n",
       " 'best_params': {'C': 1e-05, 'max_iter': 100},\n",
       " 'best_score': 0.9123700333836805,\n",
       " 'oos_preds': 54      1\n",
       " 2602    0\n",
       " 3433    0\n",
       " 235     1\n",
       " 1806    1\n",
       "        ..\n",
       " 3330    0\n",
       " 70      1\n",
       " 132     1\n",
       " 2014    1\n",
       " 1931    1\n",
       " Name: label, Length: 3220, dtype: uint8,\n",
       " 'oos_probs': 54      0.997536\n",
       " 2602    0.008165\n",
       " 3433    0.001067\n",
       " 235     0.995494\n",
       " 1806    0.920955\n",
       "           ...   \n",
       " 3330    0.003498\n",
       " 70      1.000000\n",
       " 132     0.991579\n",
       " 2014    0.862646\n",
       " 1931    0.998249\n",
       " Name: label, Length: 3220, dtype: float64,\n",
       " 'threshold_analysis': {'best_thresh': 0.51,\n",
       "  'best_score': 0.9155807365439095,\n",
       "  'best_preds': array([1, 0, 0, ..., 1, 1, 1])}}"
      ]
     },
     "execution_count": 33,
     "metadata": {},
     "output_type": "execute_result"
    }
   ],
   "source": [
    "pickle.dump(test_model_ll_l2_9_result,open('linear_model_results/log_reg_test_model_ll_l2_9_result.pkl','wb'))\n",
    "test_model_ll_l2_9_result"
   ]
  },
  {
   "cell_type": "code",
   "execution_count": 34,
   "id": "b44c0816",
   "metadata": {},
   "outputs": [
    {
     "data": {
      "text/plain": [
       "24"
      ]
     },
     "execution_count": 34,
     "metadata": {},
     "output_type": "execute_result"
    }
   ],
   "source": [
    "del test_model_ll_l2_9_result\n",
    "gc.collect()"
   ]
  },
  {
   "cell_type": "code",
   "execution_count": 35,
   "id": "f8c74f58",
   "metadata": {},
   "outputs": [
    {
     "name": "stdout",
     "output_type": "stream",
     "text": [
      "CPU times: user 2h 16s, sys: 53min 5s, total: 2h 53min 22s\n",
      "Wall time: 1h 10min 55s\n"
     ]
    }
   ],
   "source": [
    "%%time\n",
    "\n",
    "test_model_ll_l2_10 = model_pipeline()\n",
    "test_model_ll_l2_10_result = test_model_ll_l2_10.evaluate(train_X,\n",
    "                     train_y,\n",
    "                     preprocessing = [('blur',['b',(256,256),(3,3),0,0])],\n",
    "                     model = LogisticRegression(solver='liblinear'),\n",
    "                     param_grid=param_grid,\n",
    "                     optimizing_metric='f1',\n",
    "                     n_splits=5,\n",
    "                     return_transformed_features = False, \n",
    "                     return_grid = True, \n",
    "                     return_score = True, \n",
    "                     return_best_estimator = True, \n",
    "                     return_best_params = True, \n",
    "                     return_oos_pred = True, \n",
    "                     return_oos_prob = True, \n",
    "                     return_threshold_analysis=True)"
   ]
  },
  {
   "cell_type": "code",
   "execution_count": 36,
   "id": "ce3d137f",
   "metadata": {},
   "outputs": [
    {
     "data": {
      "text/plain": [
       "{'grid_search': GridSearchCV(cv=5, estimator=LogisticRegression(solver='liblinear'),\n",
       "              param_grid={'C': [1e-05, 0.0001, 0.001, 0.01, 0.1, 1],\n",
       "                          'max_iter': [100]},\n",
       "              scoring='f1'),\n",
       " 'best_estimator': LogisticRegression(C=1e-05, solver='liblinear'),\n",
       " 'best_params': {'C': 1e-05, 'max_iter': 100},\n",
       " 'best_score': 0.9363131612019986,\n",
       " 'oos_preds': 54      1\n",
       " 2602    0\n",
       " 3433    0\n",
       " 235     1\n",
       " 1806    1\n",
       "        ..\n",
       " 3330    0\n",
       " 70      1\n",
       " 132     1\n",
       " 2014    1\n",
       " 1931    1\n",
       " Name: label, Length: 3220, dtype: uint8,\n",
       " 'oos_probs': 54      0.999783\n",
       " 2602    0.011256\n",
       " 3433    0.012193\n",
       " 235     0.996656\n",
       " 1806    0.955667\n",
       "           ...   \n",
       " 3330    0.001088\n",
       " 70      1.000000\n",
       " 132     0.999927\n",
       " 2014    0.968932\n",
       " 1931    0.999903\n",
       " Name: label, Length: 3220, dtype: float64,\n",
       " 'threshold_analysis': {'best_thresh': 0.16,\n",
       "  'best_score': 0.9415333701047987,\n",
       "  'best_preds': array([1, 0, 0, ..., 1, 1, 1])}}"
      ]
     },
     "execution_count": 36,
     "metadata": {},
     "output_type": "execute_result"
    }
   ],
   "source": [
    "pickle.dump(test_model_ll_l2_10_result,open('linear_model_results/log_reg_test_model_ll_l2_10_result.pkl','wb'))\n",
    "test_model_ll_l2_10_result"
   ]
  },
  {
   "cell_type": "code",
   "execution_count": 37,
   "id": "c6e49680",
   "metadata": {},
   "outputs": [
    {
     "data": {
      "text/plain": [
       "24"
      ]
     },
     "execution_count": 37,
     "metadata": {},
     "output_type": "execute_result"
    }
   ],
   "source": [
    "del test_model_ll_l2_10_result\n",
    "gc.collect()"
   ]
  },
  {
   "cell_type": "code",
   "execution_count": 38,
   "id": "2220a9f3",
   "metadata": {},
   "outputs": [
    {
     "name": "stdout",
     "output_type": "stream",
     "text": [
      "CPU times: user 2h 1min 18s, sys: 1h 2min 6s, total: 3h 3min 25s\n",
      "Wall time: 1h 2min 48s\n"
     ]
    }
   ],
   "source": [
    "%%time\n",
    "\n",
    "test_model_ll_l2_11 = model_pipeline()\n",
    "test_model_ll_l2_11_result = test_model_ll_l2_11.evaluate(train_X,\n",
    "                     train_y,\n",
    "                     preprocessing = [('blur',['g',(256,256),(3,3),0,0])],\n",
    "                     model = LogisticRegression(solver='liblinear'),\n",
    "                     param_grid=param_grid,\n",
    "                     optimizing_metric='f1',\n",
    "                     n_splits=5,\n",
    "                     return_transformed_features = False, \n",
    "                     return_grid = True, \n",
    "                     return_score = True, \n",
    "                     return_best_estimator = True, \n",
    "                     return_best_params = True, \n",
    "                     return_oos_pred = True, \n",
    "                     return_oos_prob = True, \n",
    "                     return_threshold_analysis=True)"
   ]
  },
  {
   "cell_type": "code",
   "execution_count": 39,
   "id": "5e2ac6c6",
   "metadata": {},
   "outputs": [
    {
     "data": {
      "text/plain": [
       "{'grid_search': GridSearchCV(cv=5, estimator=LogisticRegression(solver='liblinear'),\n",
       "              param_grid={'C': [1e-05, 0.0001, 0.001, 0.01, 0.1, 1],\n",
       "                          'max_iter': [100]},\n",
       "              scoring='f1'),\n",
       " 'best_estimator': LogisticRegression(C=1e-05, solver='liblinear'),\n",
       " 'best_params': {'C': 1e-05, 'max_iter': 100},\n",
       " 'best_score': 0.9375051502195811,\n",
       " 'oos_preds': 54      1\n",
       " 2602    0\n",
       " 3433    0\n",
       " 235     1\n",
       " 1806    1\n",
       "        ..\n",
       " 3330    0\n",
       " 70      1\n",
       " 132     1\n",
       " 2014    1\n",
       " 1931    1\n",
       " Name: label, Length: 3220, dtype: uint8,\n",
       " 'oos_probs': 54      0.999748\n",
       " 2602    0.010300\n",
       " 3433    0.011400\n",
       " 235     0.996747\n",
       " 1806    0.966711\n",
       "           ...   \n",
       " 3330    0.001020\n",
       " 70      1.000000\n",
       " 132     0.999925\n",
       " 2014    0.969586\n",
       " 1931    0.999877\n",
       " Name: label, Length: 3220, dtype: float64,\n",
       " 'threshold_analysis': {'best_thresh': 0.18000000000000002,\n",
       "  'best_score': 0.9414688017669794,\n",
       "  'best_preds': array([1, 0, 0, ..., 1, 1, 1])}}"
      ]
     },
     "execution_count": 39,
     "metadata": {},
     "output_type": "execute_result"
    }
   ],
   "source": [
    "pickle.dump(test_model_ll_l2_11_result,open('linear_model_results/log_reg_test_model_ll_l2_11_result.pkl','wb'))\n",
    "test_model_ll_l2_11_result"
   ]
  },
  {
   "cell_type": "code",
   "execution_count": 40,
   "id": "ede07d6a",
   "metadata": {},
   "outputs": [
    {
     "data": {
      "text/plain": [
       "24"
      ]
     },
     "execution_count": 40,
     "metadata": {},
     "output_type": "execute_result"
    }
   ],
   "source": [
    "del test_model_ll_l2_11_result\n",
    "gc.collect()"
   ]
  },
  {
   "cell_type": "code",
   "execution_count": null,
   "id": "5bd1b927",
   "metadata": {},
   "outputs": [],
   "source": []
  },
  {
   "cell_type": "code",
   "execution_count": null,
   "id": "0d0e37af",
   "metadata": {},
   "outputs": [],
   "source": []
  },
  {
   "cell_type": "code",
   "execution_count": null,
   "id": "fdfbca5f",
   "metadata": {},
   "outputs": [],
   "source": []
  },
  {
   "cell_type": "code",
   "execution_count": null,
   "id": "3396976f",
   "metadata": {},
   "outputs": [],
   "source": []
  },
  {
   "cell_type": "code",
   "execution_count": null,
   "id": "fc59752a",
   "metadata": {},
   "outputs": [],
   "source": []
  },
  {
   "cell_type": "code",
   "execution_count": null,
   "id": "223cb053",
   "metadata": {},
   "outputs": [],
   "source": []
  },
  {
   "cell_type": "code",
   "execution_count": null,
   "id": "f089d982",
   "metadata": {},
   "outputs": [],
   "source": []
  },
  {
   "cell_type": "code",
   "execution_count": null,
   "id": "f4423a8d",
   "metadata": {},
   "outputs": [],
   "source": []
  },
  {
   "cell_type": "code",
   "execution_count": null,
   "id": "6c8c2da1",
   "metadata": {},
   "outputs": [],
   "source": []
  },
  {
   "cell_type": "code",
   "execution_count": null,
   "id": "c6a45de5",
   "metadata": {},
   "outputs": [],
   "source": []
  },
  {
   "cell_type": "code",
   "execution_count": null,
   "id": "fa124a78",
   "metadata": {},
   "outputs": [],
   "source": []
  },
  {
   "cell_type": "code",
   "execution_count": null,
   "id": "3f996075",
   "metadata": {},
   "outputs": [],
   "source": []
  },
  {
   "cell_type": "code",
   "execution_count": null,
   "id": "883932bc",
   "metadata": {},
   "outputs": [],
   "source": []
  }
 ],
 "metadata": {
  "kernelspec": {
   "display_name": "conda_tensorflow2_p36",
   "language": "python",
   "name": "conda_tensorflow2_p36"
  },
  "language_info": {
   "codemirror_mode": {
    "name": "ipython",
    "version": 3
   },
   "file_extension": ".py",
   "mimetype": "text/x-python",
   "name": "python",
   "nbconvert_exporter": "python",
   "pygments_lexer": "ipython3",
   "version": "3.6.13"
  }
 },
 "nbformat": 4,
 "nbformat_minor": 5
}
