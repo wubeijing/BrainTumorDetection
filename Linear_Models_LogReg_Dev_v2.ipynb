{
 "cells": [
  {
   "cell_type": "markdown",
   "id": "708e7594",
   "metadata": {},
   "source": [
    "# Import Necessary Packages and Libraries"
   ]
  },
  {
   "cell_type": "code",
   "execution_count": 35,
   "id": "2f5dadbe",
   "metadata": {},
   "outputs": [
    {
     "name": "stdout",
     "output_type": "stream",
     "text": [
      "Requirement already satisfied: watermark in /home/ec2-user/anaconda3/envs/tensorflow2_p36/lib/python3.6/site-packages (2.0.2)\n",
      "Requirement already satisfied: ipython in /home/ec2-user/anaconda3/envs/tensorflow2_p36/lib/python3.6/site-packages (from watermark) (7.16.1)\n",
      "Requirement already satisfied: backcall in /home/ec2-user/anaconda3/envs/tensorflow2_p36/lib/python3.6/site-packages (from ipython->watermark) (0.2.0)\n",
      "Requirement already satisfied: traitlets>=4.2 in /home/ec2-user/anaconda3/envs/tensorflow2_p36/lib/python3.6/site-packages (from ipython->watermark) (4.3.3)\n",
      "Requirement already satisfied: pexpect in /home/ec2-user/anaconda3/envs/tensorflow2_p36/lib/python3.6/site-packages (from ipython->watermark) (4.8.0)\n",
      "Requirement already satisfied: setuptools>=18.5 in /home/ec2-user/anaconda3/envs/tensorflow2_p36/lib/python3.6/site-packages (from ipython->watermark) (49.6.0.post20210108)\n",
      "Requirement already satisfied: decorator in /home/ec2-user/anaconda3/envs/tensorflow2_p36/lib/python3.6/site-packages (from ipython->watermark) (4.4.2)\n",
      "Requirement already satisfied: pickleshare in /home/ec2-user/anaconda3/envs/tensorflow2_p36/lib/python3.6/site-packages (from ipython->watermark) (0.7.5)\n",
      "Requirement already satisfied: prompt-toolkit!=3.0.0,!=3.0.1,<3.1.0,>=2.0.0 in /home/ec2-user/anaconda3/envs/tensorflow2_p36/lib/python3.6/site-packages (from ipython->watermark) (3.0.5)\n",
      "Requirement already satisfied: jedi>=0.10 in /home/ec2-user/anaconda3/envs/tensorflow2_p36/lib/python3.6/site-packages (from ipython->watermark) (0.17.2)\n",
      "Requirement already satisfied: pygments in /home/ec2-user/anaconda3/envs/tensorflow2_p36/lib/python3.6/site-packages (from ipython->watermark) (2.8.0)\n",
      "Requirement already satisfied: parso<0.8.0,>=0.7.0 in /home/ec2-user/anaconda3/envs/tensorflow2_p36/lib/python3.6/site-packages (from jedi>=0.10->ipython->watermark) (0.7.0)\n",
      "Requirement already satisfied: wcwidth in /home/ec2-user/anaconda3/envs/tensorflow2_p36/lib/python3.6/site-packages (from prompt-toolkit!=3.0.0,!=3.0.1,<3.1.0,>=2.0.0->ipython->watermark) (0.2.5)\n",
      "Requirement already satisfied: six in /home/ec2-user/anaconda3/envs/tensorflow2_p36/lib/python3.6/site-packages (from traitlets>=4.2->ipython->watermark) (1.15.0)\n",
      "Requirement already satisfied: ipython-genutils in /home/ec2-user/anaconda3/envs/tensorflow2_p36/lib/python3.6/site-packages (from traitlets>=4.2->ipython->watermark) (0.2.0)\n",
      "Requirement already satisfied: ptyprocess>=0.5 in /home/ec2-user/anaconda3/envs/tensorflow2_p36/lib/python3.6/site-packages (from pexpect->ipython->watermark) (0.7.0)\n",
      "Requirement already satisfied: xgboost in /home/ec2-user/anaconda3/envs/tensorflow2_p36/lib/python3.6/site-packages (1.5.2)\n",
      "Requirement already satisfied: numpy in /home/ec2-user/anaconda3/envs/tensorflow2_p36/lib/python3.6/site-packages (from xgboost) (1.19.5)\n",
      "Requirement already satisfied: scipy in /home/ec2-user/anaconda3/envs/tensorflow2_p36/lib/python3.6/site-packages (from xgboost) (1.5.3)\n"
     ]
    }
   ],
   "source": [
    "!pip install watermark\n",
    "\n",
    "!pip install xgboost"
   ]
  },
  {
   "cell_type": "code",
   "execution_count": 36,
   "id": "71ebece1",
   "metadata": {},
   "outputs": [],
   "source": [
    "# IMAGE PREPROCESSING FUNCTIONS FOR USE IN MODEL DEVELOPMENT, EVALUATION, AND PRODUCTION\n",
    "import numpy as np\n",
    "import pandas as pd\n",
    "import PIL as pil\n",
    "import PIL\n",
    "import matplotlib.pyplot as plt\n",
    "import seaborn as sns\n",
    "from os import listdir\n",
    "from os.path import isfile, join\n",
    "import tempfile\n",
    "import pickle\n",
    "import time\n",
    "import gc\n",
    "import skimage.filters\n",
    "import cv2\n",
    "import watermark\n",
    "import joblib\n",
    "import math\n",
    "import sys\n",
    "from skimage.measure import block_reduce\n",
    "from image_preprocessing import standardize_image_dataset,resize_dataset,binarize_dataset,crop_dataset,process_dataset_blur,do_pooling_dataset\n",
    "from pipeline import model_pipeline\n",
    "from automate_optimal_model_dev import automate_optimal_model_dev\n",
    "from eval_on_test import make_preds\n",
    "\n",
    "from sklearn.neighbors import KNeighborsClassifier\n",
    "from sklearn.tree import DecisionTreeClassifier\n",
    "from sklearn.ensemble import RandomForestClassifier,GradientBoostingClassifier\n",
    "from sklearn.linear_model import LogisticRegression\n",
    "from sklearn.naive_bayes import CategoricalNB,GaussianNB\n",
    "from sklearn.svm import SVC\n",
    "from xgboost import XGBClassifier\n",
    "from sklearn.model_selection import GridSearchCV,KFold\n",
    "from sklearn.metrics import accuracy_score,f1_score\n",
    "from sklearn.base import clone\n",
    "from sklearn.metrics import confusion_matrix"
   ]
  },
  {
   "cell_type": "code",
   "execution_count": 37,
   "id": "3cbec204",
   "metadata": {},
   "outputs": [],
   "source": [
    "import warnings\n",
    "warnings.filterwarnings('ignore')"
   ]
  },
  {
   "cell_type": "markdown",
   "id": "3a99d9cf",
   "metadata": {},
   "source": [
    "# Read in Training Data"
   ]
  },
  {
   "cell_type": "code",
   "execution_count": 38,
   "id": "1b9cc613",
   "metadata": {},
   "outputs": [],
   "source": [
    "training_data = pickle.load(open('Amit/Labeled Data/train_data.pkl','rb'))\n",
    "train_X, train_y = training_data.iloc[:,:-1],training_data.iloc[:,-1]"
   ]
  },
  {
   "cell_type": "code",
   "execution_count": 39,
   "id": "94518041",
   "metadata": {},
   "outputs": [
    {
     "name": "stdout",
     "output_type": "stream",
     "text": [
      "CPU times: user 1min 54s, sys: 549 ms, total: 1min 54s\n",
      "Wall time: 1min 54s\n"
     ]
    },
    {
     "data": {
      "text/plain": [
       "0"
      ]
     },
     "execution_count": 39,
     "metadata": {},
     "output_type": "execute_result"
    }
   ],
   "source": [
    "%%time\n",
    "all_data = pickle.load(open('Amit/Labeled Data/train_data.pkl','rb'))\n",
    "train_x,train_y = all_data.iloc[:,:-1],all_data.iloc[:,-1]\n",
    "resized_16_16_train_x = resize_dataset(train_x,(256,256),(16,16))\n",
    "del all_data\n",
    "gc.collect()\n"
   ]
  },
  {
   "cell_type": "markdown",
   "id": "bc2174e0",
   "metadata": {},
   "source": [
    "### Logistic Regression Test Example"
   ]
  },
  {
   "cell_type": "code",
   "execution_count": 40,
   "id": "df8b7a73",
   "metadata": {},
   "outputs": [],
   "source": [
    "param_grid = {'C':[0.00001,0.0001, 0.001, 0.01, 0.1],\n",
    "    'max_iter':[100]}"
   ]
  },
  {
   "cell_type": "code",
   "execution_count": 41,
   "id": "11056692",
   "metadata": {},
   "outputs": [
    {
     "name": "stdout",
     "output_type": "stream",
     "text": [
      "CPU times: user 21min 18s, sys: 8min 12s, total: 29min 31s\n",
      "Wall time: 8min 29s\n"
     ]
    }
   ],
   "source": [
    "%%time\n",
    "\n",
    "test_model_1 = model_pipeline()\n",
    "test_model_1_result = test_model_1.evaluate(train_X,\n",
    "                     train_y,\n",
    "                     preprocessing = [('binarize',[True,0.3]),\n",
    "                                 ('crop',[(256,256),(256,256)]),\n",
    "                                 ('blur',['g',(256,256),(5,5),0,0]),\n",
    "                                 ('pool',[(2,2),np.max])],\n",
    "                     model = LogisticRegression(),\n",
    "                     param_grid=param_grid,\n",
    "                     optimizing_metric='f1',\n",
    "                     n_splits=5,\n",
    "                     return_transformed_features = False, \n",
    "                     return_grid = True, \n",
    "                     return_score = True, \n",
    "                     return_best_estimator = True, \n",
    "                     return_best_params = True, \n",
    "                     return_oos_pred = True, \n",
    "                     return_oos_prob = True, \n",
    "                     return_threshold_analysis=True)\n",
    "                        \n",
    "                           "
   ]
  },
  {
   "cell_type": "code",
   "execution_count": 42,
   "id": "8b127f7d",
   "metadata": {},
   "outputs": [
    {
     "data": {
      "text/plain": [
       "{'grid_search': GridSearchCV(cv=5, estimator=LogisticRegression(),\n",
       "              param_grid={'C': [1e-05, 0.0001, 0.001, 0.01, 0.1],\n",
       "                          'max_iter': [100]},\n",
       "              scoring='f1'),\n",
       " 'best_estimator': LogisticRegression(C=0.001),\n",
       " 'best_params': {'C': 0.001, 'max_iter': 100},\n",
       " 'best_score': 0.8828109699751993,\n",
       " 'oos_preds': 54      1\n",
       " 2602    0\n",
       " 3433    0\n",
       " 235     1\n",
       " 1806    1\n",
       "        ..\n",
       " 3330    0\n",
       " 70      1\n",
       " 132     1\n",
       " 2014    1\n",
       " 1931    1\n",
       " Name: label, Length: 3220, dtype: uint8,\n",
       " 'oos_probs': 54      5.834433e-01\n",
       " 2602    9.182161e-10\n",
       " 3433    2.946750e-03\n",
       " 235     9.999996e-01\n",
       " 1806    9.979477e-01\n",
       "             ...     \n",
       " 3330    1.563207e-05\n",
       " 70      6.152530e-01\n",
       " 132     9.999999e-01\n",
       " 2014    9.999998e-01\n",
       " 1931    1.000000e+00\n",
       " Name: label, Length: 3220, dtype: float64,\n",
       " 'threshold_analysis': {'best_thresh': 0.5,\n",
       "  'best_score': 0.8864388092613009,\n",
       "  'best_preds': 54      1\n",
       "  2602    0\n",
       "  3433    0\n",
       "  235     1\n",
       "  1806    1\n",
       "         ..\n",
       "  3330    0\n",
       "  70      1\n",
       "  132     1\n",
       "  2014    1\n",
       "  1931    1\n",
       "  Name: label, Length: 3220, dtype: uint8}}"
      ]
     },
     "execution_count": 42,
     "metadata": {},
     "output_type": "execute_result"
    }
   ],
   "source": [
    "test_model_1_result"
   ]
  },
  {
   "cell_type": "code",
   "execution_count": 43,
   "id": "2a8b3184",
   "metadata": {},
   "outputs": [],
   "source": [
    "pickle.dump(test_model_1_result,open('linear_model_results/log_reg_test_model_1_result.pkl','wb'))"
   ]
  },
  {
   "cell_type": "code",
   "execution_count": 44,
   "id": "5aa098df",
   "metadata": {},
   "outputs": [
    {
     "name": "stdout",
     "output_type": "stream",
     "text": [
      "CPU times: user 21min 17s, sys: 8min 14s, total: 29min 31s\n",
      "Wall time: 8min 28s\n"
     ]
    }
   ],
   "source": [
    "%%time\n",
    "\n",
    "test_model_2 = model_pipeline()\n",
    "test_model_2_result = test_model_2.evaluate(train_X,\n",
    "                     train_y,\n",
    "                     preprocessing = [('binarize',[True,0.35]),\n",
    "                                 ('crop',[(256,256),(256,256)]),\n",
    "                                 ('blur',['g',(256,256),(5,5),0,0]),\n",
    "                                 ('pool',[(2,2),np.max])],\n",
    "                     model = LogisticRegression(),\n",
    "                     param_grid=param_grid,\n",
    "                     optimizing_metric='f1',\n",
    "                     n_splits=5,\n",
    "                     return_transformed_features = False, \n",
    "                     return_grid = True, \n",
    "                     return_score = True, \n",
    "                     return_best_estimator = True, \n",
    "                     return_best_params = True, \n",
    "                     return_oos_pred = True, \n",
    "                     return_oos_prob = True, \n",
    "                     return_threshold_analysis=True)\n",
    "                        \n",
    "                           "
   ]
  },
  {
   "cell_type": "code",
   "execution_count": 45,
   "id": "cad20705",
   "metadata": {},
   "outputs": [
    {
     "data": {
      "text/plain": [
       "{'grid_search': GridSearchCV(cv=5, estimator=LogisticRegression(),\n",
       "              param_grid={'C': [1e-05, 0.0001, 0.001, 0.01, 0.1],\n",
       "                          'max_iter': [100]},\n",
       "              scoring='f1'),\n",
       " 'best_estimator': LogisticRegression(C=0.001),\n",
       " 'best_params': {'C': 0.001, 'max_iter': 100},\n",
       " 'best_score': 0.8828109699751993,\n",
       " 'oos_preds': 54      1\n",
       " 2602    0\n",
       " 3433    0\n",
       " 235     1\n",
       " 1806    1\n",
       "        ..\n",
       " 3330    0\n",
       " 70      1\n",
       " 132     1\n",
       " 2014    1\n",
       " 1931    1\n",
       " Name: label, Length: 3220, dtype: uint8,\n",
       " 'oos_probs': 54      5.834433e-01\n",
       " 2602    9.182161e-10\n",
       " 3433    2.946750e-03\n",
       " 235     9.999996e-01\n",
       " 1806    9.979477e-01\n",
       "             ...     \n",
       " 3330    1.563207e-05\n",
       " 70      6.152530e-01\n",
       " 132     9.999999e-01\n",
       " 2014    9.999998e-01\n",
       " 1931    1.000000e+00\n",
       " Name: label, Length: 3220, dtype: float64,\n",
       " 'threshold_analysis': {'best_thresh': 0.5,\n",
       "  'best_score': 0.8864388092613009,\n",
       "  'best_preds': 54      1\n",
       "  2602    0\n",
       "  3433    0\n",
       "  235     1\n",
       "  1806    1\n",
       "         ..\n",
       "  3330    0\n",
       "  70      1\n",
       "  132     1\n",
       "  2014    1\n",
       "  1931    1\n",
       "  Name: label, Length: 3220, dtype: uint8}}"
      ]
     },
     "execution_count": 45,
     "metadata": {},
     "output_type": "execute_result"
    }
   ],
   "source": [
    "test_model_2_result"
   ]
  },
  {
   "cell_type": "code",
   "execution_count": 46,
   "id": "91d4f1ff",
   "metadata": {},
   "outputs": [],
   "source": [
    "pickle.dump(test_model_2_result,open('linear_model_results/log_reg_test_model_2_result.pkl','wb'))"
   ]
  },
  {
   "cell_type": "code",
   "execution_count": 47,
   "id": "2d40add7",
   "metadata": {},
   "outputs": [
    {
     "name": "stdout",
     "output_type": "stream",
     "text": [
      "CPU times: user 20min 57s, sys: 7min 57s, total: 28min 55s\n",
      "Wall time: 8min 23s\n"
     ]
    }
   ],
   "source": [
    "%%time\n",
    "\n",
    "test_model_3 = model_pipeline()\n",
    "test_model_3_result = test_model_3.evaluate(train_X,\n",
    "                     train_y,\n",
    "                     preprocessing = [('binarize',[True,0.3]),\n",
    "                                 ('crop',[(256,256),(256,256)]),\n",
    "                                 ('blur',['g',(256,256),(3,3),0,0]),\n",
    "                                 ('pool',[(2,2),np.max])],\n",
    "                     model = LogisticRegression(),\n",
    "                     param_grid=param_grid,\n",
    "                     optimizing_metric='f1',\n",
    "                     n_splits=5,\n",
    "                     return_transformed_features = False, \n",
    "                     return_grid = True, \n",
    "                     return_score = True, \n",
    "                     return_best_estimator = True, \n",
    "                     return_best_params = True, \n",
    "                     return_oos_pred = True, \n",
    "                     return_oos_prob = True, \n",
    "                     return_threshold_analysis=True)\n"
   ]
  },
  {
   "cell_type": "code",
   "execution_count": 48,
   "id": "2afe82a2",
   "metadata": {},
   "outputs": [],
   "source": [
    "pickle.dump(test_model_3_result,open('linear_model_results/log_reg_test_model_3_result.pkl','wb'))"
   ]
  },
  {
   "cell_type": "code",
   "execution_count": 49,
   "id": "34999b66",
   "metadata": {},
   "outputs": [
    {
     "data": {
      "text/plain": [
       "{'grid_search': GridSearchCV(cv=5, estimator=LogisticRegression(),\n",
       "              param_grid={'C': [1e-05, 0.0001, 0.001, 0.01, 0.1],\n",
       "                          'max_iter': [100]},\n",
       "              scoring='f1'),\n",
       " 'best_estimator': LogisticRegression(C=0.0001),\n",
       " 'best_params': {'C': 0.0001, 'max_iter': 100},\n",
       " 'best_score': 0.8849713112335371,\n",
       " 'oos_preds': 54      1\n",
       " 2602    0\n",
       " 3433    0\n",
       " 235     1\n",
       " 1806    1\n",
       "        ..\n",
       " 3330    0\n",
       " 70      1\n",
       " 132     1\n",
       " 2014    1\n",
       " 1931    1\n",
       " Name: label, Length: 3220, dtype: uint8,\n",
       " 'oos_probs': 54      0.548585\n",
       " 2602    0.004237\n",
       " 3433    0.010258\n",
       " 235     0.977360\n",
       " 1806    0.939866\n",
       "           ...   \n",
       " 3330    0.001018\n",
       " 70      0.542912\n",
       " 132     0.993052\n",
       " 2014    0.999547\n",
       " 1931    0.999249\n",
       " Name: label, Length: 3220, dtype: float64,\n",
       " 'threshold_analysis': {'best_thresh': 0.5,\n",
       "  'best_score': 0.8933813348103018,\n",
       "  'best_preds': 54      1\n",
       "  2602    0\n",
       "  3433    0\n",
       "  235     1\n",
       "  1806    1\n",
       "         ..\n",
       "  3330    0\n",
       "  70      1\n",
       "  132     1\n",
       "  2014    1\n",
       "  1931    1\n",
       "  Name: label, Length: 3220, dtype: uint8}}"
      ]
     },
     "execution_count": 49,
     "metadata": {},
     "output_type": "execute_result"
    }
   ],
   "source": [
    "test_model_3_result"
   ]
  },
  {
   "cell_type": "code",
   "execution_count": null,
   "id": "eff45ab8",
   "metadata": {},
   "outputs": [],
   "source": []
  },
  {
   "cell_type": "code",
   "execution_count": 50,
   "id": "d2d710eb",
   "metadata": {},
   "outputs": [
    {
     "name": "stdout",
     "output_type": "stream",
     "text": [
      "CPU times: user 20min 55s, sys: 8min 12s, total: 29min 7s\n",
      "Wall time: 8min 21s\n"
     ]
    }
   ],
   "source": [
    "%%time\n",
    "\n",
    "test_model_4 = model_pipeline()\n",
    "test_model_4_result = test_model_4.evaluate(train_X,\n",
    "                     train_y,\n",
    "                     preprocessing = [('binarize',[True,0.3]),\n",
    "                                 ('crop',[(256,256),(256,256)]),\n",
    "                                 ('blur',['b',(256,256),(5,5),0,0]),\n",
    "                                 ('pool',[(2,2),np.max])],\n",
    "                     model = LogisticRegression(),\n",
    "                     param_grid=param_grid,\n",
    "                     optimizing_metric='f1',\n",
    "                     n_splits=5,\n",
    "                     return_transformed_features = False, \n",
    "                     return_grid = True, \n",
    "                     return_score = True, \n",
    "                     return_best_estimator = True, \n",
    "                     return_best_params = True, \n",
    "                     return_oos_pred = True, \n",
    "                     return_oos_prob = True, \n",
    "                     return_threshold_analysis=True)"
   ]
  },
  {
   "cell_type": "code",
   "execution_count": 51,
   "id": "beceb0d1",
   "metadata": {},
   "outputs": [],
   "source": [
    "pickle.dump(test_model_4_result,open('linear_model_results/log_reg_test_model_4_result.pkl','wb'))"
   ]
  },
  {
   "cell_type": "code",
   "execution_count": 52,
   "id": "fd1a7a24",
   "metadata": {},
   "outputs": [
    {
     "data": {
      "text/plain": [
       "{'grid_search': GridSearchCV(cv=5, estimator=LogisticRegression(),\n",
       "              param_grid={'C': [1e-05, 0.0001, 0.001, 0.01, 0.1],\n",
       "                          'max_iter': [100]},\n",
       "              scoring='f1'),\n",
       " 'best_estimator': LogisticRegression(C=0.001),\n",
       " 'best_params': {'C': 0.001, 'max_iter': 100},\n",
       " 'best_score': 0.870340521755074,\n",
       " 'oos_preds': 54      1\n",
       " 2602    0\n",
       " 3433    0\n",
       " 235     1\n",
       " 1806    1\n",
       "        ..\n",
       " 3330    0\n",
       " 70      1\n",
       " 132     1\n",
       " 2014    1\n",
       " 1931    1\n",
       " Name: label, Length: 3220, dtype: uint8,\n",
       " 'oos_probs': 54      5.968287e-01\n",
       " 2602    9.594204e-07\n",
       " 3433    3.712843e-04\n",
       " 235     9.839865e-01\n",
       " 1806    9.999997e-01\n",
       "             ...     \n",
       " 3330    7.545973e-06\n",
       " 70      5.705025e-01\n",
       " 132     9.999999e-01\n",
       " 2014    9.999999e-01\n",
       " 1931    9.999979e-01\n",
       " Name: label, Length: 3220, dtype: float64,\n",
       " 'threshold_analysis': {'best_thresh': 0.39,\n",
       "  'best_score': 0.8730911005792522,\n",
       "  'best_preds': array([1, 0, 0, ..., 1, 1, 1])}}"
      ]
     },
     "execution_count": 52,
     "metadata": {},
     "output_type": "execute_result"
    }
   ],
   "source": [
    "test_model_4_result"
   ]
  },
  {
   "cell_type": "code",
   "execution_count": 53,
   "id": "bab29b70",
   "metadata": {},
   "outputs": [
    {
     "data": {
      "text/plain": [
       "52"
      ]
     },
     "execution_count": 53,
     "metadata": {},
     "output_type": "execute_result"
    }
   ],
   "source": [
    "del test_model_4_result\n",
    "gc.collect()"
   ]
  },
  {
   "cell_type": "code",
   "execution_count": 54,
   "id": "0691861e",
   "metadata": {},
   "outputs": [
    {
     "name": "stdout",
     "output_type": "stream",
     "text": [
      "CPU times: user 20min 56s, sys: 8min 4s, total: 29min 1s\n",
      "Wall time: 8min 19s\n"
     ]
    }
   ],
   "source": [
    "%%time\n",
    "\n",
    "test_model_5 = model_pipeline()\n",
    "test_model_5_result = test_model_5.evaluate(train_X,\n",
    "                     train_y,\n",
    "                     preprocessing = [('binarize',[True,0.35]),\n",
    "                                 ('crop',[(256,256),(256,256)]),\n",
    "                                 ('blur',['b',(256,256),(5,5),0,0]),\n",
    "                                 ('pool',[(2,2),np.max])],\n",
    "                     model = LogisticRegression(),\n",
    "                     param_grid=param_grid,\n",
    "                     optimizing_metric='f1',\n",
    "                     n_splits=5,\n",
    "                     return_transformed_features = False, \n",
    "                     return_grid = True, \n",
    "                     return_score = True, \n",
    "                     return_best_estimator = True, \n",
    "                     return_best_params = True, \n",
    "                     return_oos_pred = True, \n",
    "                     return_oos_prob = True, \n",
    "                     return_threshold_analysis=True)"
   ]
  },
  {
   "cell_type": "code",
   "execution_count": 55,
   "id": "dee8bbc4",
   "metadata": {},
   "outputs": [
    {
     "data": {
      "text/plain": [
       "{'grid_search': GridSearchCV(cv=5, estimator=LogisticRegression(),\n",
       "              param_grid={'C': [1e-05, 0.0001, 0.001, 0.01, 0.1],\n",
       "                          'max_iter': [100]},\n",
       "              scoring='f1'),\n",
       " 'best_estimator': LogisticRegression(C=0.001),\n",
       " 'best_params': {'C': 0.001, 'max_iter': 100},\n",
       " 'best_score': 0.870340521755074,\n",
       " 'oos_preds': 54      1\n",
       " 2602    0\n",
       " 3433    0\n",
       " 235     1\n",
       " 1806    1\n",
       "        ..\n",
       " 3330    0\n",
       " 70      1\n",
       " 132     1\n",
       " 2014    1\n",
       " 1931    1\n",
       " Name: label, Length: 3220, dtype: uint8,\n",
       " 'oos_probs': 54      5.968287e-01\n",
       " 2602    9.594204e-07\n",
       " 3433    3.712843e-04\n",
       " 235     9.839865e-01\n",
       " 1806    9.999997e-01\n",
       "             ...     \n",
       " 3330    7.545973e-06\n",
       " 70      5.705025e-01\n",
       " 132     9.999999e-01\n",
       " 2014    9.999999e-01\n",
       " 1931    9.999979e-01\n",
       " Name: label, Length: 3220, dtype: float64,\n",
       " 'threshold_analysis': {'best_thresh': 0.39,\n",
       "  'best_score': 0.8730911005792522,\n",
       "  'best_preds': array([1, 0, 0, ..., 1, 1, 1])}}"
      ]
     },
     "execution_count": 55,
     "metadata": {},
     "output_type": "execute_result"
    }
   ],
   "source": [
    "pickle.dump(test_model_5_result,open('linear_model_results/log_reg_test_model_5_result.pkl','wb'))\n",
    "test_model_5_result"
   ]
  },
  {
   "cell_type": "code",
   "execution_count": 56,
   "id": "5df01ad4",
   "metadata": {},
   "outputs": [
    {
     "data": {
      "text/plain": [
       "100"
      ]
     },
     "execution_count": 56,
     "metadata": {},
     "output_type": "execute_result"
    }
   ],
   "source": [
    "del test_model_5_result\n",
    "gc.collect()"
   ]
  },
  {
   "cell_type": "code",
   "execution_count": 57,
   "id": "adea7fa6",
   "metadata": {},
   "outputs": [
    {
     "name": "stdout",
     "output_type": "stream",
     "text": [
      "CPU times: user 21min 8s, sys: 8min 5s, total: 29min 13s\n",
      "Wall time: 8min 23s\n"
     ]
    }
   ],
   "source": [
    "%%time\n",
    "\n",
    "test_model_6 = model_pipeline()\n",
    "test_model_6_result = test_model_6.evaluate(train_X,\n",
    "                     train_y,\n",
    "                     preprocessing = [('binarize',[True,0.3]),\n",
    "                                 ('crop',[(256,256),(256,256)]),\n",
    "                                 ('blur',['b',(256,256),(3,3),0,0]),\n",
    "                                 ('pool',[(2,2),np.max])],\n",
    "                     model = LogisticRegression(),\n",
    "                     param_grid=param_grid,\n",
    "                     optimizing_metric='f1',\n",
    "                     n_splits=5,\n",
    "                     return_transformed_features = False, \n",
    "                     return_grid = True, \n",
    "                     return_score = True, \n",
    "                     return_best_estimator = True, \n",
    "                     return_best_params = True, \n",
    "                     return_oos_pred = True, \n",
    "                     return_oos_prob = True, \n",
    "                     return_threshold_analysis=True)"
   ]
  },
  {
   "cell_type": "code",
   "execution_count": 58,
   "id": "4625255b",
   "metadata": {},
   "outputs": [
    {
     "data": {
      "text/plain": [
       "{'grid_search': GridSearchCV(cv=5, estimator=LogisticRegression(),\n",
       "              param_grid={'C': [1e-05, 0.0001, 0.001, 0.01, 0.1],\n",
       "                          'max_iter': [100]},\n",
       "              scoring='f1'),\n",
       " 'best_estimator': LogisticRegression(C=0.001),\n",
       " 'best_params': {'C': 0.001, 'max_iter': 100},\n",
       " 'best_score': 0.8819163218813474,\n",
       " 'oos_preds': 54      1\n",
       " 2602    0\n",
       " 3433    0\n",
       " 235     1\n",
       " 1806    1\n",
       "        ..\n",
       " 3330    0\n",
       " 70      1\n",
       " 132     1\n",
       " 2014    1\n",
       " 1931    1\n",
       " Name: label, Length: 3220, dtype: uint8,\n",
       " 'oos_probs': 54      6.011558e-01\n",
       " 2602    1.396285e-06\n",
       " 3433    1.010189e-03\n",
       " 235     9.999736e-01\n",
       " 1806    1.000000e+00\n",
       "             ...     \n",
       " 3330    7.213061e-07\n",
       " 70      6.219768e-01\n",
       " 132     1.000000e+00\n",
       " 2014    1.000000e+00\n",
       " 1931    1.000000e+00\n",
       " Name: label, Length: 3220, dtype: float64,\n",
       " 'threshold_analysis': {'best_thresh': 0.51,\n",
       "  'best_score': 0.8859674192626465,\n",
       "  'best_preds': array([1, 0, 0, ..., 1, 1, 1])}}"
      ]
     },
     "execution_count": 58,
     "metadata": {},
     "output_type": "execute_result"
    }
   ],
   "source": [
    "pickle.dump(test_model_6_result,open('linear_model_results/log_reg_test_model_6_result.pkl','wb'))\n",
    "test_model_6_result"
   ]
  },
  {
   "cell_type": "code",
   "execution_count": 59,
   "id": "9484facd",
   "metadata": {},
   "outputs": [
    {
     "data": {
      "text/plain": [
       "100"
      ]
     },
     "execution_count": 59,
     "metadata": {},
     "output_type": "execute_result"
    }
   ],
   "source": [
    "del test_model_6_result\n",
    "gc.collect()"
   ]
  },
  {
   "cell_type": "code",
   "execution_count": 60,
   "id": "22cf9f2c",
   "metadata": {},
   "outputs": [
    {
     "name": "stdout",
     "output_type": "stream",
     "text": [
      "CPU times: user 15min 17s, sys: 8min 5s, total: 23min 23s\n",
      "Wall time: 2min 14s\n"
     ]
    }
   ],
   "source": [
    "%%time\n",
    "\n",
    "test_model_7 = model_pipeline()\n",
    "test_model_7_result = test_model_7.evaluate(train_X,\n",
    "                     train_y,\n",
    "                     preprocessing = [('pool',[(2,2),np.max])],\n",
    "                     model = LogisticRegression(),\n",
    "                     param_grid=param_grid,\n",
    "                     optimizing_metric='f1',\n",
    "                     n_splits=5,\n",
    "                     return_transformed_features = False, \n",
    "                     return_grid = True, \n",
    "                     return_score = True, \n",
    "                     return_best_estimator = True, \n",
    "                     return_best_params = True, \n",
    "                     return_oos_pred = True, \n",
    "                     return_oos_prob = True, \n",
    "                     return_threshold_analysis=True)"
   ]
  },
  {
   "cell_type": "code",
   "execution_count": 61,
   "id": "6635841a",
   "metadata": {},
   "outputs": [
    {
     "data": {
      "text/plain": [
       "{'grid_search': GridSearchCV(cv=5, estimator=LogisticRegression(),\n",
       "              param_grid={'C': [1e-05, 0.0001, 0.001, 0.01, 0.1],\n",
       "                          'max_iter': [100]},\n",
       "              scoring='f1'),\n",
       " 'best_estimator': LogisticRegression(C=1e-05),\n",
       " 'best_params': {'C': 1e-05, 'max_iter': 100},\n",
       " 'best_score': 0.9415170535182782,\n",
       " 'oos_preds': 54      1\n",
       " 2602    0\n",
       " 3433    0\n",
       " 235     1\n",
       " 1806    1\n",
       "        ..\n",
       " 3330    0\n",
       " 70      1\n",
       " 132     1\n",
       " 2014    1\n",
       " 1931    1\n",
       " Name: label, Length: 3220, dtype: uint8,\n",
       " 'oos_probs': 54      0.999274\n",
       " 2602    0.029690\n",
       " 3433    0.018012\n",
       " 235     0.987716\n",
       " 1806    0.989018\n",
       "           ...   \n",
       " 3330    0.002314\n",
       " 70      0.999996\n",
       " 132     0.999717\n",
       " 2014    0.936096\n",
       " 1931    0.992751\n",
       " Name: label, Length: 3220, dtype: float64,\n",
       " 'threshold_analysis': {'best_thresh': 0.33,\n",
       "  'best_score': 0.9432703003337042,\n",
       "  'best_preds': array([1, 0, 0, ..., 1, 1, 1])}}"
      ]
     },
     "execution_count": 61,
     "metadata": {},
     "output_type": "execute_result"
    }
   ],
   "source": [
    "pickle.dump(test_model_7_result,open('linear_model_results/log_reg_test_model_7_result.pkl','wb'))\n",
    "test_model_7_result"
   ]
  },
  {
   "cell_type": "code",
   "execution_count": 62,
   "id": "796027ae",
   "metadata": {},
   "outputs": [
    {
     "data": {
      "text/plain": [
       "52"
      ]
     },
     "execution_count": 62,
     "metadata": {},
     "output_type": "execute_result"
    }
   ],
   "source": [
    "del test_model_7_result\n",
    "gc.collect()"
   ]
  },
  {
   "cell_type": "code",
   "execution_count": 63,
   "id": "0c21a7f7",
   "metadata": {},
   "outputs": [
    {
     "name": "stdout",
     "output_type": "stream",
     "text": [
      "CPU times: user 41min 19s, sys: 20min 37s, total: 1h 1min 56s\n",
      "Wall time: 6min 53s\n"
     ]
    }
   ],
   "source": [
    "%%time\n",
    "\n",
    "test_model_8 = model_pipeline()\n",
    "test_model_8_result = test_model_8.evaluate(train_X,\n",
    "                     train_y,\n",
    "                     preprocessing = [('binarize',[True,0.3])],\n",
    "                     model = LogisticRegression(),\n",
    "                     param_grid=param_grid,\n",
    "                     optimizing_metric='f1',\n",
    "                     n_splits=5,\n",
    "                     return_transformed_features = False, \n",
    "                     return_grid = True, \n",
    "                     return_score = True, \n",
    "                     return_best_estimator = True, \n",
    "                     return_best_params = True, \n",
    "                     return_oos_pred = True, \n",
    "                     return_oos_prob = True, \n",
    "                     return_threshold_analysis=True)"
   ]
  },
  {
   "cell_type": "code",
   "execution_count": 64,
   "id": "9d2e6968",
   "metadata": {},
   "outputs": [
    {
     "data": {
      "text/plain": [
       "{'grid_search': GridSearchCV(cv=5, estimator=LogisticRegression(),\n",
       "              param_grid={'C': [1e-05, 0.0001, 0.001, 0.01, 0.1],\n",
       "                          'max_iter': [100]},\n",
       "              scoring='f1'),\n",
       " 'best_estimator': LogisticRegression(C=0.1),\n",
       " 'best_params': {'C': 0.1, 'max_iter': 100},\n",
       " 'best_score': 0.9349074893860319,\n",
       " 'oos_preds': 54      1\n",
       " 2602    0\n",
       " 3433    0\n",
       " 235     1\n",
       " 1806    1\n",
       "        ..\n",
       " 3330    0\n",
       " 70      1\n",
       " 132     1\n",
       " 2014    1\n",
       " 1931    1\n",
       " Name: label, Length: 3220, dtype: uint8,\n",
       " 'oos_probs': 54      0.999828\n",
       " 2602    0.020692\n",
       " 3433    0.037475\n",
       " 235     0.979588\n",
       " 1806    0.989154\n",
       "           ...   \n",
       " 3330    0.003911\n",
       " 70      1.000000\n",
       " 132     0.998097\n",
       " 2014    0.931653\n",
       " 1931    0.993893\n",
       " Name: label, Length: 3220, dtype: float64,\n",
       " 'threshold_analysis': {'best_thresh': 0.27,\n",
       "  'best_score': 0.9446128410030312,\n",
       "  'best_preds': array([1, 0, 0, ..., 1, 1, 1])}}"
      ]
     },
     "execution_count": 64,
     "metadata": {},
     "output_type": "execute_result"
    }
   ],
   "source": [
    "pickle.dump(test_model_8_result,open('linear_model_results/log_reg_test_model_8_result.pkl','wb'))\n",
    "test_model_8_result"
   ]
  },
  {
   "cell_type": "code",
   "execution_count": 65,
   "id": "18ad1125",
   "metadata": {},
   "outputs": [
    {
     "data": {
      "text/plain": [
       "52"
      ]
     },
     "execution_count": 65,
     "metadata": {},
     "output_type": "execute_result"
    }
   ],
   "source": [
    "del test_model_8_result\n",
    "gc.collect()"
   ]
  },
  {
   "cell_type": "code",
   "execution_count": 66,
   "id": "094e3272",
   "metadata": {},
   "outputs": [
    {
     "name": "stdout",
     "output_type": "stream",
     "text": [
      "CPU times: user 54min 29s, sys: 27min 44s, total: 1h 22min 14s\n",
      "Wall time: 8min 39s\n"
     ]
    }
   ],
   "source": [
    "%%time\n",
    "\n",
    "test_model_9 = model_pipeline()\n",
    "test_model_9_result = test_model_9.evaluate(train_X,\n",
    "                     train_y,\n",
    "                     preprocessing = [('crop',[(256,256),(256,256)])],\n",
    "                     model = LogisticRegression(),\n",
    "                     param_grid=param_grid,\n",
    "                     optimizing_metric='f1',\n",
    "                     n_splits=5,\n",
    "                     return_transformed_features = False, \n",
    "                     return_grid = True, \n",
    "                     return_score = True, \n",
    "                     return_best_estimator = True, \n",
    "                     return_best_params = True, \n",
    "                     return_oos_pred = True, \n",
    "                     return_oos_prob = True, \n",
    "                     return_threshold_analysis=True)"
   ]
  },
  {
   "cell_type": "code",
   "execution_count": 67,
   "id": "ff4a47bb",
   "metadata": {},
   "outputs": [
    {
     "data": {
      "text/plain": [
       "{'grid_search': GridSearchCV(cv=5, estimator=LogisticRegression(),\n",
       "              param_grid={'C': [1e-05, 0.0001, 0.001, 0.01, 0.1],\n",
       "                          'max_iter': [100]},\n",
       "              scoring='f1'),\n",
       " 'best_estimator': LogisticRegression(C=1e-05),\n",
       " 'best_params': {'C': 1e-05, 'max_iter': 100},\n",
       " 'best_score': 0.9111585544037718,\n",
       " 'oos_preds': 54      1\n",
       " 2602    0\n",
       " 3433    0\n",
       " 235     1\n",
       " 1806    1\n",
       "        ..\n",
       " 3330    0\n",
       " 70      1\n",
       " 132     1\n",
       " 2014    1\n",
       " 1931    1\n",
       " Name: label, Length: 3220, dtype: uint8,\n",
       " 'oos_probs': 54      0.997341\n",
       " 2602    0.008737\n",
       " 3433    0.000528\n",
       " 235     0.996021\n",
       " 1806    0.948922\n",
       "           ...   \n",
       " 3330    0.006845\n",
       " 70      1.000000\n",
       " 132     0.994119\n",
       " 2014    0.822032\n",
       " 1931    0.998084\n",
       " Name: label, Length: 3220, dtype: float64,\n",
       " 'threshold_analysis': {'best_thresh': 0.36000000000000004,\n",
       "  'best_score': 0.9151797968707109,\n",
       "  'best_preds': array([1, 0, 0, ..., 1, 1, 1])}}"
      ]
     },
     "execution_count": 67,
     "metadata": {},
     "output_type": "execute_result"
    }
   ],
   "source": [
    "pickle.dump(test_model_9_result,open('linear_model_results/log_reg_test_model_9_result.pkl','wb'))\n",
    "test_model_9_result"
   ]
  },
  {
   "cell_type": "code",
   "execution_count": 68,
   "id": "39624b8d",
   "metadata": {},
   "outputs": [
    {
     "data": {
      "text/plain": [
       "52"
      ]
     },
     "execution_count": 68,
     "metadata": {},
     "output_type": "execute_result"
    }
   ],
   "source": [
    "del test_model_9_result\n",
    "gc.collect()"
   ]
  },
  {
   "cell_type": "code",
   "execution_count": 69,
   "id": "6d778482",
   "metadata": {},
   "outputs": [
    {
     "name": "stdout",
     "output_type": "stream",
     "text": [
      "CPU times: user 49min 55s, sys: 29min 3s, total: 1h 18min 59s\n",
      "Wall time: 6min 26s\n"
     ]
    }
   ],
   "source": [
    "%%time\n",
    "\n",
    "test_model_10 = model_pipeline()\n",
    "test_model_10_result = test_model_10.evaluate(train_X,\n",
    "                     train_y,\n",
    "                     preprocessing = [('blur',['b',(256,256),(3,3),0,0])],\n",
    "                     model = LogisticRegression(),\n",
    "                     param_grid=param_grid,\n",
    "                     optimizing_metric='f1',\n",
    "                     n_splits=5,\n",
    "                     return_transformed_features = False, \n",
    "                     return_grid = True, \n",
    "                     return_score = True, \n",
    "                     return_best_estimator = True, \n",
    "                     return_best_params = True, \n",
    "                     return_oos_pred = True, \n",
    "                     return_oos_prob = True, \n",
    "                     return_threshold_analysis=True)"
   ]
  },
  {
   "cell_type": "code",
   "execution_count": 70,
   "id": "27e91004",
   "metadata": {},
   "outputs": [
    {
     "data": {
      "text/plain": [
       "{'grid_search': GridSearchCV(cv=5, estimator=LogisticRegression(),\n",
       "              param_grid={'C': [1e-05, 0.0001, 0.001, 0.01, 0.1],\n",
       "                          'max_iter': [100]},\n",
       "              scoring='f1'),\n",
       " 'best_estimator': LogisticRegression(C=1e-05),\n",
       " 'best_params': {'C': 1e-05, 'max_iter': 100},\n",
       " 'best_score': 0.9363632355241519,\n",
       " 'oos_preds': 54      1\n",
       " 2602    0\n",
       " 3433    0\n",
       " 235     1\n",
       " 1806    1\n",
       "        ..\n",
       " 3330    0\n",
       " 70      1\n",
       " 132     1\n",
       " 2014    1\n",
       " 1931    1\n",
       " Name: label, Length: 3220, dtype: uint8,\n",
       " 'oos_probs': 54      0.999996\n",
       " 2602    0.017433\n",
       " 3433    0.007999\n",
       " 235     0.999255\n",
       " 1806    0.913698\n",
       "           ...   \n",
       " 3330    0.000116\n",
       " 70      1.000000\n",
       " 132     0.999974\n",
       " 2014    0.925692\n",
       " 1931    0.999954\n",
       " Name: label, Length: 3220, dtype: float64,\n",
       " 'threshold_analysis': {'best_thresh': 0.23,\n",
       "  'best_score': 0.9405555555555555,\n",
       "  'best_preds': array([1, 0, 0, ..., 1, 1, 1])}}"
      ]
     },
     "execution_count": 70,
     "metadata": {},
     "output_type": "execute_result"
    }
   ],
   "source": [
    "pickle.dump(test_model_10_result,open('linear_model_results/log_reg_test_model_10_result.pkl','wb'))\n",
    "test_model_10_result"
   ]
  },
  {
   "cell_type": "code",
   "execution_count": 71,
   "id": "e7f8e575",
   "metadata": {},
   "outputs": [
    {
     "data": {
      "text/plain": [
       "52"
      ]
     },
     "execution_count": 71,
     "metadata": {},
     "output_type": "execute_result"
    }
   ],
   "source": [
    "del test_model_10_result\n",
    "gc.collect()"
   ]
  },
  {
   "cell_type": "code",
   "execution_count": 72,
   "id": "aaac412c",
   "metadata": {},
   "outputs": [
    {
     "name": "stdout",
     "output_type": "stream",
     "text": [
      "CPU times: user 50min 34s, sys: 35min 56s, total: 1h 26min 30s\n",
      "Wall time: 7min 11s\n"
     ]
    }
   ],
   "source": [
    "%%time\n",
    "\n",
    "test_model_11 = model_pipeline()\n",
    "test_model_11_result = test_model_11.evaluate(train_X,\n",
    "                     train_y,\n",
    "                     preprocessing = [('blur',['g',(256,256),(3,3),0,0])],\n",
    "                     model = LogisticRegression(),\n",
    "                     param_grid=param_grid,\n",
    "                     optimizing_metric='f1',\n",
    "                     n_splits=5,\n",
    "                     return_transformed_features = False, \n",
    "                     return_grid = True, \n",
    "                     return_score = True, \n",
    "                     return_best_estimator = True, \n",
    "                     return_best_params = True, \n",
    "                     return_oos_pred = True, \n",
    "                     return_oos_prob = True, \n",
    "                     return_threshold_analysis=True)"
   ]
  },
  {
   "cell_type": "code",
   "execution_count": 73,
   "id": "6ac412f3",
   "metadata": {},
   "outputs": [
    {
     "data": {
      "text/plain": [
       "{'grid_search': GridSearchCV(cv=5, estimator=LogisticRegression(),\n",
       "              param_grid={'C': [1e-05, 0.0001, 0.001, 0.01, 0.1],\n",
       "                          'max_iter': [100]},\n",
       "              scoring='f1'),\n",
       " 'best_estimator': LogisticRegression(C=0.01),\n",
       " 'best_params': {'C': 0.01, 'max_iter': 100},\n",
       " 'best_score': 0.9364802452308506,\n",
       " 'oos_preds': 54      1\n",
       " 2602    0\n",
       " 3433    0\n",
       " 235     1\n",
       " 1806    1\n",
       "        ..\n",
       " 3330    0\n",
       " 70      1\n",
       " 132     1\n",
       " 2014    1\n",
       " 1931    1\n",
       " Name: label, Length: 3220, dtype: uint8,\n",
       " 'oos_probs': 54      1.000000e+00\n",
       " 2602    4.392566e-09\n",
       " 3433    7.836329e-08\n",
       " 235     1.000000e+00\n",
       " 1806    9.998951e-01\n",
       "             ...     \n",
       " 3330    1.395980e-14\n",
       " 70      1.000000e+00\n",
       " 132     1.000000e+00\n",
       " 2014    9.895514e-01\n",
       " 1931    1.000000e+00\n",
       " Name: label, Length: 3220, dtype: float64,\n",
       " 'threshold_analysis': {'best_thresh': 0.01,\n",
       "  'best_score': 0.9422863485016648,\n",
       "  'best_preds': array([1, 0, 0, ..., 1, 1, 1])}}"
      ]
     },
     "execution_count": 73,
     "metadata": {},
     "output_type": "execute_result"
    }
   ],
   "source": [
    "pickle.dump(test_model_11_result,open('linear_model_results/log_reg_test_model_11_result.pkl','wb'))\n",
    "test_model_11_result"
   ]
  },
  {
   "cell_type": "code",
   "execution_count": 74,
   "id": "9ef2f02a",
   "metadata": {},
   "outputs": [
    {
     "data": {
      "text/plain": [
       "52"
      ]
     },
     "execution_count": 74,
     "metadata": {},
     "output_type": "execute_result"
    }
   ],
   "source": [
    "del test_model_11_result\n",
    "gc.collect()"
   ]
  },
  {
   "cell_type": "code",
   "execution_count": null,
   "id": "a60fdd2d",
   "metadata": {},
   "outputs": [],
   "source": []
  },
  {
   "cell_type": "code",
   "execution_count": null,
   "id": "ce1db6fe",
   "metadata": {},
   "outputs": [],
   "source": []
  },
  {
   "cell_type": "code",
   "execution_count": null,
   "id": "86e5012c",
   "metadata": {},
   "outputs": [],
   "source": []
  },
  {
   "cell_type": "code",
   "execution_count": null,
   "id": "80855ca0",
   "metadata": {},
   "outputs": [],
   "source": []
  },
  {
   "cell_type": "code",
   "execution_count": null,
   "id": "34f270d0",
   "metadata": {},
   "outputs": [],
   "source": []
  },
  {
   "cell_type": "code",
   "execution_count": null,
   "id": "2dcf1985",
   "metadata": {},
   "outputs": [],
   "source": []
  },
  {
   "cell_type": "code",
   "execution_count": null,
   "id": "625c6595",
   "metadata": {},
   "outputs": [],
   "source": []
  },
  {
   "cell_type": "code",
   "execution_count": null,
   "id": "cc173c82",
   "metadata": {},
   "outputs": [],
   "source": []
  },
  {
   "cell_type": "code",
   "execution_count": null,
   "id": "60cc2b71",
   "metadata": {},
   "outputs": [],
   "source": []
  },
  {
   "cell_type": "code",
   "execution_count": null,
   "id": "fffa15ff",
   "metadata": {},
   "outputs": [],
   "source": []
  },
  {
   "cell_type": "code",
   "execution_count": null,
   "id": "516cfdb6",
   "metadata": {},
   "outputs": [],
   "source": []
  },
  {
   "cell_type": "code",
   "execution_count": null,
   "id": "2e203d3b",
   "metadata": {},
   "outputs": [],
   "source": []
  },
  {
   "cell_type": "code",
   "execution_count": null,
   "id": "ee41b7e1",
   "metadata": {},
   "outputs": [],
   "source": []
  }
 ],
 "metadata": {
  "kernelspec": {
   "display_name": "conda_tensorflow2_p36",
   "language": "python",
   "name": "conda_tensorflow2_p36"
  },
  "language_info": {
   "codemirror_mode": {
    "name": "ipython",
    "version": 3
   },
   "file_extension": ".py",
   "mimetype": "text/x-python",
   "name": "python",
   "nbconvert_exporter": "python",
   "pygments_lexer": "ipython3",
   "version": "3.6.13"
  }
 },
 "nbformat": 4,
 "nbformat_minor": 5
}
